{
 "cells": [
  {
   "cell_type": "code",
   "execution_count": 3,
   "metadata": {},
   "outputs": [],
   "source": [
    "pip_str = \"\"\"absl-py (0.7.1)\n",
    "apturl (0.5.2)\n",
    "argcomplete (1.8.1)\n",
    "argh (0.26.2)\n",
    "asn1crypto (0.24.0)\n",
    "astor (0.8.0)\n",
    "beautifulsoup4 (4.7.1)\n",
    "bleach (2.1.2)\n",
    "blessings (1.6)\n",
    "boto (2.49.0)\n",
    "boto3 (1.9.188)\n",
    "botocore (1.12.188)\n",
    "Box2D (2.3.2)\n",
    "bpython (0.17.1)\n",
    "Brlapi (0.6.6)\n",
    "certifi (2019.6.16)\n",
    "chardet (3.0.4)\n",
    "cloudpickle (1.2.1)\n",
    "command-not-found (0.3)\n",
    "cryptography (2.1.4)\n",
    "cupshelpers (1.0)\n",
    "curtsies (0.2.12)\n",
    "cycler (0.10.0)\n",
    "decorator (4.1.2)\n",
    "defer (1.0.6)\n",
    "distro-info (0.18ubuntu0.18.04.1)\n",
    "Django (2.1.7)\n",
    "django-ckeditor (5.4.0)\n",
    "django-cleanup (2.1.0)\n",
    "django-crispy-forms (1.7.2)\n",
    "django-js-asset (1.0.0)\n",
    "docutils (0.14)\n",
    "entrypoints (0.2.3.post1)\n",
    "future (0.17.1)\n",
    "gast (0.2.2)\n",
    "gensim (3.8.0)\n",
    "google-pasta (0.1.7)\n",
    "greenlet (0.4.12)\n",
    "grpcio (1.22.0)\n",
    "gym (0.13.1)\n",
    "h5py (2.9.0)\n",
    "html5lib (0.999999999)\n",
    "httplib2 (0.9.2)\n",
    "idna (2.8)\n",
    "image (1.5.27)\n",
    "ipykernel (4.8.2)\n",
    "ipython (5.5.0)\n",
    "ipython-genutils (0.2.0)\n",
    "ipywidgets (6.0.0)\n",
    "Jinja2 (2.10)\n",
    "jmespath (0.9.4)\n",
    "joblib (0.13.2)\n",
    "jsonschema (2.6.0)\n",
    "jupyter-client (5.2.2)\n",
    "jupyter-core (4.4.0)\n",
    "Keras (2.2.4)\n",
    "Keras-Applications (1.0.8)\n",
    "Keras-Preprocessing (1.1.0)\n",
    "keyring (10.6.0)\n",
    "keyrings.alt (3.0)\n",
    "kiwisolver (1.1.0)\n",
    "language-selector (0.1)\n",
    "launchpadlib (1.10.6)\n",
    "lazr.restfulclient (0.13.5)\n",
    "lazr.uri (1.0.3)\n",
    "louis (3.5.0)\n",
    "lxml (4.3.0)\n",
    "macaroonbakery (1.1.3)\n",
    "Mako (1.0.7)\n",
    "Markdown (3.1.1)\n",
    "MarkupSafe (1.0)\n",
    "matplotlib (3.1.0)\n",
    "mistune (0.8.3)\n",
    "mock (2.0.0)\n",
    "nbconvert (5.3.1)\n",
    "nbformat (4.4.0)\n",
    "netifaces (0.10.4)\n",
    "nltk (3.4.4)\n",
    "notebook (5.2.2)\n",
    "numpy (1.16.4)\n",
    "oauth (1.0.1)\n",
    "olefile (0.45.1)\n",
    "opencv-python (4.1.0.25)\n",
    "pandas (0.24.2)\n",
    "pandocfilters (1.4.2)\n",
    "pathtools (0.1.2)\n",
    "pbr (5.1.3)\n",
    "pexpect (4.2.1)\n",
    "pickleshare (0.7.4)\n",
    "Pillow (5.4.1)\n",
    "pip (9.0.1)\n",
    "prompt-toolkit (1.0.15)\n",
    "protobuf (3.8.0)\n",
    "pycairo (1.16.2)\n",
    "pycrypto (2.6.1)\n",
    "pycups (1.9.73)\n",
    "pyglet (1.3.2)\n",
    "Pygments (2.2.0)\n",
    "pygobject (3.26.1)\n",
    "pymacaroons (0.13.0)\n",
    "PyNaCl (1.1.2)\n",
    "pyparsing (2.4.0)\n",
    "PyQt5 (5.12.1)\n",
    "PyQt5-sip (4.19.15)\n",
    "pyRFC3339 (1.0)\n",
    "python-apt (1.6.4)\n",
    "python-dateutil (2.8.0)\n",
    "python-debian (0.1.32)\n",
    "python-docx (0.8.10)\n",
    "pytz (2019.1)\n",
    "pyxdg (0.25)\n",
    "PyYAML (5.1.1)\n",
    "pyzmq (16.0.2)\n",
    "reportlab (3.4.0)\n",
    "requests (2.22.0)\n",
    "requests-unixsocket (0.1.5)\n",
    "s3transfer (0.2.1)\n",
    "scikit-learn (0.21.2)\n",
    "scipy (1.3.0)\n",
    "SecretStorage (2.3.1)\n",
    "setuptools (41.0.1)\n",
    "simplegeneric (0.8.1)\n",
    "simplejson (3.13.2)\n",
    "six (1.12.0)\n",
    "sklearn (0.0)\n",
    "smart-open (1.8.4)\n",
    "soupsieve (1.9.2)\n",
    "system-service (0.3)\n",
    "systemd-python (234)\n",
    "tensorboard (1.14.0)\n",
    "tensorflow (1.14.0)\n",
    "tensorflow-estimator (1.14.0)\n",
    "termcolor (1.1.0)\n",
    "terminado (0.7)\n",
    "testpath (0.3.1)\n",
    "tflearn (0.3.2)\n",
    "tornado (4.5.3)\n",
    "tqdm (4.31.1)\n",
    "traitlets (4.3.2)\n",
    "ubuntu-drivers-common (0.0.0)\n",
    "ufw (0.36)\n",
    "unattended-upgrades (0.1)\n",
    "urllib3 (1.25.3)\n",
    "usb-creator (0.3.3)\n",
    "wadllib (1.3.2)\n",
    "watchdog (0.8.3)\n",
    "wcwidth (0.1.7)\n",
    "webencodings (0.5)\n",
    "Werkzeug (0.15.4)\n",
    "wheel (0.33.4)\n",
    "wrapt (1.11.2)\n",
    "xkit (0.0.0)\n",
    "zope.interface (4.3.2)\"\"\""
   ]
  },
  {
   "cell_type": "code",
   "execution_count": 4,
   "metadata": {},
   "outputs": [],
   "source": [
    "pip_list = [i.split() for i in pip_str.split(\"\\n\")]"
   ]
  },
  {
   "cell_type": "code",
   "execution_count": 7,
   "metadata": {},
   "outputs": [],
   "source": [
    "import numpy as np\n"
   ]
  },
  {
   "cell_type": "code",
   "execution_count": 13,
   "metadata": {},
   "outputs": [
    {
     "data": {
      "text/plain": [
       "(153, 2)"
      ]
     },
     "execution_count": 13,
     "metadata": {},
     "output_type": "execute_result"
    }
   ],
   "source": [
    "l = np.array(pip_list)\n",
    "l.shape"
   ]
  },
  {
   "cell_type": "code",
   "execution_count": 10,
   "metadata": {},
   "outputs": [],
   "source": [
    "pip_mod = l[:,0]"
   ]
  },
  {
   "cell_type": "code",
   "execution_count": 12,
   "metadata": {},
   "outputs": [
    {
     "data": {
      "text/plain": [
       "(153,)"
      ]
     },
     "execution_count": 12,
     "metadata": {},
     "output_type": "execute_result"
    }
   ],
   "source": [
    "pip_mod.shape"
   ]
  },
  {
   "cell_type": "code",
   "execution_count": 14,
   "metadata": {},
   "outputs": [],
   "source": [
    "modules = ''\n",
    "for i in pip_mod :\n",
    "    modules += i + \"\\n\""
   ]
  },
  {
   "cell_type": "code",
   "execution_count": 16,
   "metadata": {},
   "outputs": [],
   "source": [
    "f = open(\"requirements.txt\", \"w+\")"
   ]
  },
  {
   "cell_type": "code",
   "execution_count": 17,
   "metadata": {},
   "outputs": [
    {
     "data": {
      "text/plain": [
       "1517"
      ]
     },
     "execution_count": 17,
     "metadata": {},
     "output_type": "execute_result"
    }
   ],
   "source": [
    "f.write(modules)"
   ]
  },
  {
   "cell_type": "code",
   "execution_count": 19,
   "metadata": {},
   "outputs": [],
   "source": [
    "f.close()"
   ]
  },
  {
   "cell_type": "code",
   "execution_count": null,
   "metadata": {},
   "outputs": [],
   "source": []
  }
 ],
 "metadata": {
  "kernelspec": {
   "display_name": "Python 3",
   "language": "python",
   "name": "python3"
  },
  "language_info": {
   "codemirror_mode": {
    "name": "ipython",
    "version": 3
   },
   "file_extension": ".py",
   "mimetype": "text/x-python",
   "name": "python",
   "nbconvert_exporter": "python",
   "pygments_lexer": "ipython3",
   "version": "3.6.8"
  }
 },
 "nbformat": 4,
 "nbformat_minor": 2
}
