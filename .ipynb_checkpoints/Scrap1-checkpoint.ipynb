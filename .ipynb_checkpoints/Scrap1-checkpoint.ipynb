{
 "cells": [
  {
   "cell_type": "code",
   "execution_count": 3,
   "metadata": {},
   "outputs": [],
   "source": [
    "import requests\n",
    "from bs4 import BeautifulSoup"
   ]
  },
  {
   "cell_type": "code",
   "execution_count": 4,
   "metadata": {},
   "outputs": [],
   "source": [
    "url = \"https://www.goodreads.com/quotes?page=1\""
   ]
  },
  {
   "cell_type": "code",
   "execution_count": 5,
   "metadata": {},
   "outputs": [],
   "source": [
    "data = requests.get(url)"
   ]
  },
  {
   "cell_type": "code",
   "execution_count": 8,
   "metadata": {},
   "outputs": [],
   "source": [
    "f = open(\"gr.html\", \"w\")\n",
    "f.write(data.text)\n",
    "f.close()"
   ]
  },
  {
   "cell_type": "code",
   "execution_count": 7,
   "metadata": {},
   "outputs": [],
   "source": [
    "soup = BeautifulSoup(data.text,\"lxml\")"
   ]
  },
  {
   "cell_type": "code",
   "execution_count": 8,
   "metadata": {},
   "outputs": [
    {
     "data": {
      "text/plain": [
       "bs4.element.Tag"
      ]
     },
     "execution_count": 8,
     "metadata": {},
     "output_type": "execute_result"
    }
   ],
   "source": [
    "type(soup.div)"
   ]
  },
  {
   "cell_type": "code",
   "execution_count": 15,
   "metadata": {},
   "outputs": [
    {
     "data": {
      "text/plain": [
       "['siteHeader__topLevelItem', 'siteHeader__topLevelItem--home']"
      ]
     },
     "execution_count": 15,
     "metadata": {},
     "output_type": "execute_result"
    }
   ],
   "source": [
    "soup.body.li[\"class\"]"
   ]
  },
  {
   "cell_type": "code",
   "execution_count": 16,
   "metadata": {},
   "outputs": [],
   "source": [
    "quote_divs = soup.find_all(\"div\", attrs={\"class\": \"quote\"})"
   ]
  },
  {
   "cell_type": "code",
   "execution_count": 17,
   "metadata": {},
   "outputs": [],
   "source": [
    "quote_div = quote_divs[12]\n"
   ]
  },
  {
   "cell_type": "code",
   "execution_count": 18,
   "metadata": {},
   "outputs": [],
   "source": [
    "quoteText = quote_div.find(\"div\", attrs={\"class\":\"quoteText\"})"
   ]
  },
  {
   "cell_type": "code",
   "execution_count": 19,
   "metadata": {},
   "outputs": [
    {
     "data": {
      "text/plain": [
       "'\\n      “If you want to know what a man\\'s like, take a good look at how he treats his inferiors, not his equals.”\\n    ―\\n  \\n    J.K. Rowling,\\n  \\n\\nHarry Potter and the Goblet of Fire\\n\\n\\n//<![CDATA[  \\n\\n  function submitShelfLink(unique_id, book_id, shelf_id, shelf_name, submit_form, exclusive) {\\n    var checkbox_id = \\'shelf_name_\\' + unique_id + \\'_\\' + shelf_id;\\n    var element = document.getElementById(checkbox_id)\\n\\n    var checked = element.checked\\n    if (checked && exclusive) {\\n      // can\\'t uncheck a radio by clicking it!\\n      return\\n    }\\n    if(document.getElementById(\"savingMessage\")){\\n      Element.show(\\'savingMessage\\')\\n    }\\n    var element_id = \\'shelfInDropdownName_\\' + unique_id + \\'_\\' + shelf_id;\\n    Element.update(element_id, \"saving...\");\\n    if (submit_form) {\\n      Element.hide(\\'shelfDropdown_\\' + unique_id)\\n      var form = document.getElementById(\\'addBookForm\\' + book_id)\\n      if (form) {\\n        form.shelf.value = shelf_name\\n        form.onsubmit()\\n      }\\n    }\\n    else {\\n      var action = checked ? \\'remove\\' : \\'\\'\\n      element.checked = !element.checked\\n      new Ajax.Request(\\'/shelf/add_to_shelf\\', {asynchronous:true, evalScripts:true, onSuccess:function(request){shelfSubmitted(request, book_id, checkbox_id, element_id, unique_id, shelf_name)}, parameters:\\'book_id=\\' + book_id + \\'&name=\\' + shelf_name + \\'&a=\\' + action + \\'&authenticity_token=\\' + encodeURIComponent(\\'bbtNaHjV41HdqyTZZBI1jhhX4udY2xEUXLakW51jlVd46mRWrI/siLdrerzIm/RZjTxRCkgVHvEdYPmLSnQSSw==\\')})\\n    }\\n  }\\n\\n  function shelfSubmitted(request, book_id, checkbox_id, element_id, unique_id, shelf_name) {\\n    Element.update(\\'shelfListfalse_\\' + book_id, request.responseText)\\n    afterShelfSave(checkbox_id, element_id, unique_id, shelf_name.escapeHTML())\\n  }\\n\\n  function refreshGroupBox(group_id, book_id) {\\n    new Ajax.Updater(\\'addGroupBooks\\' + book_id + \\'\\', \\'/group/add_book_box\\', {asynchronous:true, evalScripts:true, onSuccess:function(request){refreshGroupBoxComplete(request, book_id);}, parameters:\\'id=\\' + group_id + \\'&book_id=\\' + book_id + \\'&refresh=true\\' + \\'&authenticity_token=\\' + encodeURIComponent(\\'8tU2cgZ46wUlgY6W1DkaEM6PR6iNdFGVcEbgjwVdHNHnhB9M0iLk3E9B0PN4sNvHW+T0RZ26XnAxkL1f0kqbzQ==\\')})\\n  }\\n//]]>\\n\\n\\n//<![CDATA[\\n      var newTip = new Tip($(\\'quote_book_link_6\\'), \"\\\\n\\\\n  <h2><a class=\\\\\"readable bookTitle\\\\\" href=\\\\\"https://www.goodreads.com/book/show/6.Harry_Potter_and_the_Goblet_of_Fire?from_choice=false&amp;from_home_module=false\\\\\">Harry Potter and the Goblet of Fire (Harry Potter, #4)<\\\\/a><\\\\/h2>\\\\n\\\\n      <div>\\\\n        by <a class=\\\\\"authorName\\\\\" href=\\\\\"/author/show/1077326.J_K_Rowling\\\\\">J.K. Rowling<\\\\/a>\\\\n      <\\\\/div>\\\\n\\\\n          <div class=\\\\\"smallText uitext darkGreyText\\\\\">\\\\n            <span class=\\\\\"minirating\\\\\"><span class=\\\\\"stars staticStars notranslate\\\\\"><span size=\\\\\"12x12\\\\\" class=\\\\\"staticStar p10\\\\\"><\\\\/span><span size=\\\\\"12x12\\\\\" class=\\\\\"staticStar p10\\\\\"><\\\\/span><span size=\\\\\"12x12\\\\\" class=\\\\\"staticStar p10\\\\\"><\\\\/span><span size=\\\\\"12x12\\\\\" class=\\\\\"staticStar p10\\\\\"><\\\\/span><span size=\\\\\"12x12\\\\\" class=\\\\\"staticStar p6\\\\\"><\\\\/span><\\\\/span> 4.55 avg rating &mdash; 2,205,856 ratings<\\\\/span>            &mdash; published 2000\\\\n          <\\\\/div>\\\\n\\\\n    <div class=\\\\\"addBookTipDescription\\\\\">\\\\n      \\\\n<span id=\\\\\"freeTextContainer11592340530966911678\\\\\">Harry Potter is midway through his training as a wizard and his coming of age. Harry wants to get away from the pernicious Dursleys and go to the International Quidditch Cup. He wants to find out about the mysterious event that\\\\\\'s supposed to take pla<\\\\/span>\\\\n  <span id=\\\\\"freeText11592340530966911678\\\\\" style=\\\\\"display:none\\\\\">Harry Potter is midway through his training as a wizard and his coming of age. Harry wants to get away from the pernicious Dursleys and go to the International Quidditch Cup. He wants to find out about the mysterious event that\\\\\\'s supposed to take place at Hogwarts this year, an event involving two other rival schools of magic, and a competition that hasn\\\\\\'t happened for a hundred years. He wants to be a normal, fourteen-year-old wizard. But unfortunately for Harry Potter, he\\\\\\'s not normal - even by wizarding standards. And in his case, different can be deadly. --back cover<\\\\/span>\\\\n  <a data-text-id=\\\\\"11592340530966911678\\\\\" href=\\\\\"#\\\\\" onclick=\\\\\"swapContent($(this));; return false;\\\\\">...more<\\\\/a>\\\\n\\\\n    <\\\\/div>\\\\n\\\\n      <div class=\\\\\\'wtrButtonContainer wtrSignedOut\\\\\\' id=\\\\\\'1_book_6\\\\\\'>\\\\n<div class=\\\\\\'wtrUp wtrLeft\\\\\\'>\\\\n<form action=\\\\\"/shelf/add_to_shelf\\\\\" accept-charset=\\\\\"UTF-8\\\\\" method=\\\\\"post\\\\\"><input name=\\\\\"utf8\\\\\" type=\\\\\"hidden\\\\\" value=\\\\\"&#x2713;\\\\\" /><input type=\\\\\"hidden\\\\\" name=\\\\\"authenticity_token\\\\\" value=\\\\\"4pVViIiQHf782u64KZv+MQe2NJQqpQIlxJTLiRD9SIn3xHy2XMoSJ5YasN2FEj/mkt2HeTprDcCFQpZZx+rPlQ==\\\\\" />\\\\n<input type=\\\\\"hidden\\\\\" name=\\\\\"book_id\\\\\" id=\\\\\"book_id\\\\\" value=\\\\\"6\\\\\" />\\\\n<input type=\\\\\"hidden\\\\\" name=\\\\\"name\\\\\" id=\\\\\"name\\\\\" value=\\\\\"to-read\\\\\" />\\\\n<input type=\\\\\"hidden\\\\\" name=\\\\\"unique_id\\\\\" id=\\\\\"unique_id\\\\\" value=\\\\\"1_book_6\\\\\" />\\\\n<input type=\\\\\"hidden\\\\\" name=\\\\\"wtr_new\\\\\" id=\\\\\"wtr_new\\\\\" value=\\\\\"true\\\\\" />\\\\n<input type=\\\\\"hidden\\\\\" name=\\\\\"from_choice\\\\\" id=\\\\\"from_choice\\\\\" value=\\\\\"false\\\\\" />\\\\n<input type=\\\\\"hidden\\\\\" name=\\\\\"from_home_module\\\\\" id=\\\\\"from_home_module\\\\\" value=\\\\\"false\\\\\" />\\\\n<input type=\\\\\"hidden\\\\\" name=\\\\\"ref\\\\\" id=\\\\\"ref\\\\\" value=\\\\\"\\\\\" class=\\\\\"wtrLeftUpRef\\\\\" />\\\\n<input type=\\\\\"hidden\\\\\" name=\\\\\"existing_review\\\\\" id=\\\\\"existing_review\\\\\" value=\\\\\"false\\\\\" class=\\\\\"wtrExisting\\\\\" />\\\\n<input type=\\\\\"hidden\\\\\" name=\\\\\"page_url\\\\\" id=\\\\\"page_url\\\\\" value=\\\\\"/quotes\\\\\" />\\\\n<button class=\\\\\\'wtrToRead\\\\\\' type=\\\\\\'submit\\\\\\'>\\\\n<span class=\\\\\\'progressTrigger\\\\\\'>Want to Read<\\\\/span>\\\\n<span class=\\\\\\'progressIndicator\\\\\\'>saving…<\\\\/span>\\\\n<\\\\/button>\\\\n<\\\\/form>\\\\n\\\\n<\\\\/div>\\\\n\\\\n<div class=\\\\\\'wtrRight wtrUp\\\\\\'>\\\\n<form class=\\\\\"hiddenShelfForm\\\\\" action=\\\\\"/shelf/add_to_shelf\\\\\" accept-charset=\\\\\"UTF-8\\\\\" method=\\\\\"post\\\\\"><input name=\\\\\"utf8\\\\\" type=\\\\\"hidden\\\\\" value=\\\\\"&#x2713;\\\\\" /><input type=\\\\\"hidden\\\\\" name=\\\\\"authenticity_token\\\\\" value=\\\\\"/TCsQNnsXps5fGeJM45GDiIjZFKMwssXtT0UDph2jjroYYV+DbZRQlO8OeyfB4fZt0jXv5wMxPL060neT2EJJg==\\\\\" />\\\\n<input type=\\\\\"hidden\\\\\" name=\\\\\"unique_id\\\\\" id=\\\\\"unique_id\\\\\" value=\\\\\"1_book_6\\\\\" />\\\\n<input type=\\\\\"hidden\\\\\" name=\\\\\"book_id\\\\\" id=\\\\\"book_id\\\\\" value=\\\\\"6\\\\\" />\\\\n<input type=\\\\\"hidden\\\\\" name=\\\\\"a\\\\\" id=\\\\\"a\\\\\" />\\\\n<input type=\\\\\"hidden\\\\\" name=\\\\\"name\\\\\" id=\\\\\"name\\\\\" />\\\\n<input type=\\\\\"hidden\\\\\" name=\\\\\"from_choice\\\\\" id=\\\\\"from_choice\\\\\" value=\\\\\"false\\\\\" />\\\\n<input type=\\\\\"hidden\\\\\" name=\\\\\"from_home_module\\\\\" id=\\\\\"from_home_module\\\\\" value=\\\\\"false\\\\\" />\\\\n<input type=\\\\\"hidden\\\\\" name=\\\\\"page_url\\\\\" id=\\\\\"page_url\\\\\" value=\\\\\"/quotes\\\\\" />\\\\n<\\\\/form>\\\\n\\\\n<button class=\\\\\\'wtrShelfButton\\\\\\'><\\\\/button>\\\\n<div class=\\\\\\'wtrShelfMenu\\\\\\'>\\\\n<ul class=\\\\\\'wtrExclusiveShelves\\\\\\'>\\\\n<li><button class=\\\\\\'wtrExclusiveShelf\\\\\\' name=\\\\\\'name\\\\\\' type=\\\\\\'submit\\\\\\' value=\\\\\\'to-read\\\\\\'>\\\\n<span class=\\\\\\'progressTrigger\\\\\\'>Want to Read<\\\\/span>\\\\n<img alt=\\\\\"saving…\\\\\" class=\\\\\"progressIndicator\\\\\" src=\\\\\"https://s.gr-assets.com/assets/loading-trans-ced157046184c3bc7c180ffbfc6825a4.gif\\\\\" />\\\\n<\\\\/button>\\\\n<\\\\/li>\\\\n<li><button class=\\\\\\'wtrExclusiveShelf\\\\\\' name=\\\\\\'name\\\\\\' type=\\\\\\'submit\\\\\\' value=\\\\\\'currently-reading\\\\\\'>\\\\n<span class=\\\\\\'progressTrigger\\\\\\'>Currently Reading<\\\\/span>\\\\n<img alt=\\\\\"saving…\\\\\" class=\\\\\"progressIndicator\\\\\" src=\\\\\"https://s.gr-assets.com/assets/loading-trans-ced157046184c3bc7c180ffbfc6825a4.gif\\\\\" />\\\\n<\\\\/button>\\\\n<\\\\/li>\\\\n<li><button class=\\\\\\'wtrExclusiveShelf\\\\\\' name=\\\\\\'name\\\\\\' type=\\\\\\'submit\\\\\\' value=\\\\\\'read\\\\\\'>\\\\n<span class=\\\\\\'progressTrigger\\\\\\'>Read<\\\\/span>\\\\n<img alt=\\\\\"saving…\\\\\" class=\\\\\"progressIndicator\\\\\" src=\\\\\"https://s.gr-assets.com/assets/loading-trans-ced157046184c3bc7c180ffbfc6825a4.gif\\\\\" />\\\\n<\\\\/button>\\\\n<\\\\/li>\\\\n<\\\\/ul>\\\\n<\\\\/div>\\\\n<\\\\/div>\\\\n\\\\n<div class=\\\\\\'ratingStars wtrRating\\\\\\'>\\\\n<div class=\\\\\\'starsErrorTooltip hidden\\\\\\'>\\\\nError rating book. Refresh and try again.\\\\n<\\\\/div>\\\\n<div class=\\\\\\'myRating uitext greyText\\\\\\'>Rate this book<\\\\/div>\\\\n<div class=\\\\\\'clearRating uitext\\\\\\'>Clear rating<\\\\/div>\\\\n<div class=\\\\\"stars\\\\\" data-resource-id=\\\\\"6\\\\\" data-user-id=\\\\\"0\\\\\" data-submit-url=\\\\\"/review/rate/6?page_url=%2Fquotes&rate_books_page=false&stars_click=false&wtr_button_id=1_book_6\\\\\" data-rating=\\\\\"0\\\\\"><a class=\\\\\"star off\\\\\" title=\\\\\"did not like it\\\\\" href=\\\\\"#\\\\\" ref=\\\\\"\\\\\">1 of 5 stars<\\\\/a><a class=\\\\\"star off\\\\\" title=\\\\\"it was ok\\\\\" href=\\\\\"#\\\\\" ref=\\\\\"\\\\\">2 of 5 stars<\\\\/a><a class=\\\\\"star off\\\\\" title=\\\\\"liked it\\\\\" href=\\\\\"#\\\\\" ref=\\\\\"\\\\\">3 of 5 stars<\\\\/a><a class=\\\\\"star off\\\\\" title=\\\\\"really liked it\\\\\" href=\\\\\"#\\\\\" ref=\\\\\"\\\\\">4 of 5 stars<\\\\/a><a class=\\\\\"star off\\\\\" title=\\\\\"it was amazing\\\\\" href=\\\\\"#\\\\\" ref=\\\\\"\\\\\">5 of 5 stars<\\\\/a><\\\\/div>\\\\n<\\\\/div>\\\\n\\\\n<\\\\/div>\\\\n\\\\n\\\\n\\\\n\\\\n\", { style: \\'addbook\\', stem: \\'leftMiddle\\', hook: { tip: \\'leftMiddle\\', target: \\'rightMiddle\\' }, offset: { x: 5, y: 0 }, hideOn: false, width: 400, hideAfter: 0.05, delay: 0.35 });\\n      $(\\'quote_book_link_6\\').observe(\\'prototip:shown\\', function() {\\n        if (this.up(\\'#box\\')) {\\n          $$(\\'div.prototip\\').each(function(i){i.setStyle({zIndex: $(\\'box\\').getStyle(\\'z-index\\')})});\\n        } else {\\n          $$(\\'div.prototip\\').each(function(i){i.setStyle({zIndex: 6000})});\\n        }\\n      });\\n\\n      newTip[\\'wrapper\\'].addClassName(\\'prototipAllowOverflow\\');\\n\\n        $(\\'quote_book_link_6\\').observe(\\'prototip:shown\\', function () {\\n          $$(\\'div.prototip\\').each(function (e) {\\n            if ($(\\'quote_book_link_6\\').hasClassName(\\'ignored\\')) {\\n              e.setStyle({\\'display\\': \\'none\\'});\\n              return;\\n            }\\n            e.setStyle({\\'overflow\\': \\'visible\\'});\\n          });\\n        });\\n      $(\\'quote_book_link_6\\').observe(\\'prototip:hidden\\', function () {\\n        $$(\\'span.elementTwo\\').each(function (e) {\\n          if (e.getStyle(\\'display\\') !== \\'none\\') {\\n            var lessLink = e.next();\\n            swapContent(lessLink);\\n          }\\n        });\\n      });\\n\\n//]]>\\n\\n'"
      ]
     },
     "execution_count": 19,
     "metadata": {},
     "output_type": "execute_result"
    }
   ],
   "source": [
    "quote_info = quoteText.text\n",
    "quote_info"
   ]
  },
  {
   "cell_type": "code",
   "execution_count": 20,
   "metadata": {},
   "outputs": [],
   "source": [
    "quote_details = quote_info.strip().split(\"\\n\")"
   ]
  },
  {
   "cell_type": "code",
   "execution_count": 49,
   "metadata": {},
   "outputs": [],
   "source": [
    "quote_text = quote_details[0]\n",
    "quote_auther = quote_details[-1].strip()"
   ]
  },
  {
   "cell_type": "code",
   "execution_count": 50,
   "metadata": {},
   "outputs": [
    {
     "data": {
      "text/plain": [
       "\"“Don't cry because it's over, smile because it happened.”\""
      ]
     },
     "execution_count": 50,
     "metadata": {},
     "output_type": "execute_result"
    }
   ],
   "source": [
    "quote_text"
   ]
  },
  {
   "cell_type": "code",
   "execution_count": 51,
   "metadata": {},
   "outputs": [
    {
     "data": {
      "text/plain": [
       "'Dr. Seuss'"
      ]
     },
     "execution_count": 51,
     "metadata": {},
     "output_type": "execute_result"
    }
   ],
   "source": [
    "quote_auther"
   ]
  },
  {
   "cell_type": "code",
   "execution_count": null,
   "metadata": {},
   "outputs": [],
   "source": []
  }
 ],
 "metadata": {
  "kernelspec": {
   "display_name": "Python 3",
   "language": "python",
   "name": "python3"
  },
  "language_info": {
   "codemirror_mode": {
    "name": "ipython",
    "version": 3
   },
   "file_extension": ".py",
   "mimetype": "text/x-python",
   "name": "python",
   "nbconvert_exporter": "python",
   "pygments_lexer": "ipython3",
   "version": "3.6.5"
  }
 },
 "nbformat": 4,
 "nbformat_minor": 2
}
