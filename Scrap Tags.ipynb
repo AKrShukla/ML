{
 "cells": [
  {
   "cell_type": "code",
   "execution_count": 1,
   "metadata": {},
   "outputs": [],
   "source": [
    "import requests"
   ]
  },
  {
   "cell_type": "code",
   "execution_count": 2,
   "metadata": {},
   "outputs": [],
   "source": [
    "from bs4 import BeautifulSoup"
   ]
  },
  {
   "cell_type": "code",
   "execution_count": 3,
   "metadata": {},
   "outputs": [],
   "source": [
    "url1 = \"https://www.goodreads.com/quotes\""
   ]
  },
  {
   "cell_type": "code",
   "execution_count": 6,
   "metadata": {},
   "outputs": [],
   "source": [
    "data = requests.get(url1)"
   ]
  },
  {
   "cell_type": "code",
   "execution_count": 7,
   "metadata": {},
   "outputs": [],
   "source": [
    "soup = BeautifulSoup(data.text,\"lxml\")"
   ]
  },
  {
   "cell_type": "code",
   "execution_count": 12,
   "metadata": {},
   "outputs": [],
   "source": [
    "list_tags = soup.find_all(\"ul\", attrs={\"class\": \"listTagsTwoColumn\"})"
   ]
  },
  {
   "cell_type": "code",
   "execution_count": 13,
   "metadata": {},
   "outputs": [
    {
     "data": {
      "text/plain": [
       "2"
      ]
     },
     "execution_count": 13,
     "metadata": {},
     "output_type": "execute_result"
    }
   ],
   "source": [
    "len(list_tags)"
   ]
  },
  {
   "cell_type": "code",
   "execution_count": 15,
   "metadata": {},
   "outputs": [],
   "source": [
    "list_tag = list_tags[0].find_all(\"a\", attrs = {\"class\": \"gr-hyperlink\"})"
   ]
  },
  {
   "cell_type": "code",
   "execution_count": 24,
   "metadata": {},
   "outputs": [
    {
     "data": {
      "text/plain": [
       "[['Love Quotes'],\n",
       " ['Life Quotes'],\n",
       " ['Inspirational Quotes'],\n",
       " ['Humor Quotes'],\n",
       " ['Philosophy Quotes'],\n",
       " ['God Quotes'],\n",
       " ['Inspirational Quotes Quotes'],\n",
       " ['Truth Quotes'],\n",
       " ['Wisdom Quotes'],\n",
       " ['Romance Quotes'],\n",
       " ['Poetry Quotes'],\n",
       " ['Death Quotes'],\n",
       " ['Happiness Quotes'],\n",
       " ['Hope Quotes'],\n",
       " ['Faith Quotes']]"
      ]
     },
     "execution_count": 24,
     "metadata": {},
     "output_type": "execute_result"
    }
   ],
   "source": [
    "tags = [i.text.strip().split(\"\\n\") for i in list_tag]\n",
    "tags"
   ]
  },
  {
   "cell_type": "code",
   "execution_count": 34,
   "metadata": {},
   "outputs": [],
   "source": [
    "tags1 = [i[0].lower().split() for i in tags]"
   ]
  },
  {
   "cell_type": "code",
   "execution_count": 46,
   "metadata": {},
   "outputs": [],
   "source": [
    "tags2 = []\n",
    "for l_item in tags1 :\n",
    "    x = ''\n",
    "    l = len(l_item)\n",
    "    for k in range(l-1) :\n",
    "        x+=l_item[k]\n",
    "        if l-1>1 :\n",
    "            x+=\"-\"\n",
    "    tags2.append(x)\n",
    "\n"
   ]
  },
  {
   "cell_type": "code",
   "execution_count": 47,
   "metadata": {},
   "outputs": [
    {
     "data": {
      "text/plain": [
       "['love',\n",
       " 'life',\n",
       " 'inspirational',\n",
       " 'humor',\n",
       " 'philosophy',\n",
       " 'god',\n",
       " 'inspirational-quotes-',\n",
       " 'truth',\n",
       " 'wisdom',\n",
       " 'romance',\n",
       " 'poetry',\n",
       " 'death',\n",
       " 'happiness',\n",
       " 'hope',\n",
       " 'faith']"
      ]
     },
     "execution_count": 47,
     "metadata": {},
     "output_type": "execute_result"
    }
   ],
   "source": [
    "tags2\n"
   ]
  },
  {
   "cell_type": "code",
   "execution_count": null,
   "metadata": {},
   "outputs": [],
   "source": []
  }
 ],
 "metadata": {
  "kernelspec": {
   "display_name": "Python 3",
   "language": "python",
   "name": "python3"
  },
  "language_info": {
   "codemirror_mode": {
    "name": "ipython",
    "version": 3
   },
   "file_extension": ".py",
   "mimetype": "text/x-python",
   "name": "python",
   "nbconvert_exporter": "python",
   "pygments_lexer": "ipython3",
   "version": "3.6.5"
  }
 },
 "nbformat": 4,
 "nbformat_minor": 2
}
