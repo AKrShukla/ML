{
 "cells": [
  {
   "cell_type": "code",
   "execution_count": 21,
   "metadata": {},
   "outputs": [],
   "source": [
    "import random\n",
    "import numpy as np"
   ]
  },
  {
   "cell_type": "code",
   "execution_count": 2,
   "metadata": {},
   "outputs": [],
   "source": [
    "file = open(\"speeches/speech.txt\", \"r\", encoding=\"utf-8\")"
   ]
  },
  {
   "cell_type": "code",
   "execution_count": 3,
   "metadata": {},
   "outputs": [],
   "source": [
    "text = file.read()"
   ]
  },
  {
   "cell_type": "code",
   "execution_count": 4,
   "metadata": {},
   "outputs": [
    {
     "data": {
      "text/plain": [
       "1725021"
      ]
     },
     "execution_count": 4,
     "metadata": {},
     "output_type": "execute_result"
    }
   ],
   "source": [
    "len(text)"
   ]
  },
  {
   "cell_type": "code",
   "execution_count": 38,
   "metadata": {},
   "outputs": [],
   "source": [
    "model = {}"
   ]
  },
  {
   "cell_type": "code",
   "execution_count": 39,
   "metadata": {},
   "outputs": [],
   "source": [
    "k=8"
   ]
  },
  {
   "cell_type": "code",
   "execution_count": 40,
   "metadata": {},
   "outputs": [],
   "source": [
    "for i in range(len(text)-k) :\n",
    "    cut = text[i:i+k]\n",
    "    ch = text[i+k]\n",
    "    if cut not in model :\n",
    "        model[cut] = {}\n",
    "    if ch not in model[cut] :\n",
    "        model[cut][ch]=1\n",
    "    else :\n",
    "        model[cut][ch]+=1\n"
   ]
  },
  {
   "cell_type": "code",
   "execution_count": 43,
   "metadata": {},
   "outputs": [],
   "source": [
    "generated = \"Friend, \""
   ]
  },
  {
   "cell_type": "code",
   "execution_count": 46,
   "metadata": {},
   "outputs": [],
   "source": [
    "for i in range(500) :\n",
    "    cut= generated[-k:]\n",
    "    freq_list = np.array(list(model[cut].items()))\n",
    "    top_three = np.argsort(freq_list[:,1])[-3:]\n",
    "    random_index = random.choice(top_three)\n",
    "    selected = freq_list[random_index, 0]\n",
    "    generated += selected"
   ]
  },
  {
   "cell_type": "code",
   "execution_count": 47,
   "metadata": {},
   "outputs": [
    {
     "name": "stdout",
     "output_type": "stream",
     "text": [
      "Friend, family with you on this.\n",
      "My dear young generated from only that most of our Gods and secure in your lives.\n",
      "Meanwhile, many develop infrastructural reform is used but low cost medicinal form. Do you check if the total revenues are upholding Business’ and having trust and confident. Also I believers. \n",
      "It was even the slogans. How should never heard of old and touched. They wouldn't let this operating things have belittle your opinion. Indian Ocean; by our child through.\n",
      "GST has been fundamentals are carrying dreams for you.\n",
      "We are businesses. They calculated to it. There is only on this? Why waste your complete faith vested in Nature's blessings, may you milk our Fields like tsunamis and cyber space security; water; and, with various crises that I derived from army but has gradual evolution, this nations, but what it must cover two hundreds of calls suggesting me in these territory. India's requirement, this Ashta Lakshmi and hence, I believed of anxiety until they talk less about strength lies without paying that it still you reach its teen years and outer space science is that, one thing. This in its oil and driving that through\n",
      "• comprehensive, involving a peacefully. I would say, that daughters are. I will harnessing\n",
      "Such thoughts with our soldier serving tigers. It has tackled the gallows. We are laying of Rakhi or not, accounted in India”. We are lot of festival is an opportunity, this is. What if the pride on what we\n",
      "can normal background for thirteen years old- have young and I too have endured and modern India from 150 to 200,000 workers.We are located. \n",
      "I am told he has shaped the best, for those places are association.\n",
      "This is, at a time like their potential.To the install even influential voice-over artists. In Salar Jung museum in New Delhi.\n",
      "• We shall not talk solely about to reach, it is hard to an argument about trade is expected;\n",
      "India is. But, to be anti-growth. This highest imported us  in the Rs. 27 thousands and within every home and passage to UNESCO, calling, you come, you shop a bit. Generations focused just no restrictions like education technologists and cold chain develop or manufacture goods can becomes easier, including small targeted an annual rate of million. \n",
      "• We can achieving such a lot of honorable Ministry. These parties.   I can take inspiring to building, when were cleanest and so does your first meetings.\n",
      "We agree that as per his home. Peaceful mind, the pride on what were their planning towards further apart. The infrastructuring in touch with differed amount of Rs.15 crore citizen. \n",
      "21st Century between, I had remains unfulfilled, the primary school with failures and power. As, when terror is growing challenge to both of thousand, five hundreds of question, but we defined treatises on their clothing started speak about interesting, some are incorrect treatment. I believes it or not. When the rains. Before taking pleasure.\n",
      "Thank You!\n",
      "#DELIMITER#\n",
      "8 7 2015, UK\n",
      "Business travel to Chennai by rail. Also there somewho did not\n",
      "have receiving President. But I was neither will work at district, any block in\n",
      "Hindustan where earlier, the joy of belief, I will go to Talaimannar to flag off the TV, entire Indian Nations, to assume leader Shri Shashank Kumar, Shri Aurobindo that on 11th March. President. I know yoga has chances and sanitation.\n",
      "However we were times of creativity is transform.\n",
      "\tWe have joined their voice and crores. This schemes to succeed, we are only two places and individual enterprising. Like Sharad Ji said there are. And so test yourself. When young like this, and how? By when will harnessed so that I dream for asset\n",
      "management,\n",
      "• creating. Some farmer income and food security, economists. Economist magazine of USA has ranked the petroleum produces ten Startup. So, I am sure and its six Dialogue to bring the Afghans, every child would already. But for those weaponry and taxation\n",
      "\t• and we shoulder. It would happen, that if\n",
      "people engage with those weaponry, is having many negativity all are crying forward bearing least expenses. We will inspirational Amendments for market, a properties and funds. \n",
      "Nations ago. \n",
      "I am honoured by your warm and will, in India, every year, in October.\n",
      "Let us assumed the powers of terror; and\n",
      "• Break barrier. I am shocked to send them on to this big problems in these imperative this features a compilation of geographic dividends for private sector, we have, are not just big name in a hurry? Why shouldn’t treat own own grandson. This time as they were:  The Centre, we hang our human bonds have brought only to promotes the image on our global centres, more than 9,000 Indians can reap the benefits from India cannot make provisions. For example. Electricity, if provincial and entire general public life, or we are ones that Industries of course, Antwerp trade initially takes 125 crores to treat the roof over 4 billion tonne capacity from 1894 to 2014, a total balances. You are least develop industry.\n",
      "Our cooperate, not gun and violent. \n",
      "That does he feels, for wealth of truth that it carries the world;among those trees but courageous to gain in great vision,just last year, India`s future, this competence in our immediately, they risk becomes. Let us serve on the newer heights. \n",
      "In doing simple technology;\n",
      "• from India, from here, just ask ourselves.\n",
      "I would not faced any plan or merely thank Chancellor, Mr. Suresh Prabhu railway capitalism in India; \n",
      "• Further, we can get your leadership for promotes organising their love and rea\n"
     ]
    }
   ],
   "source": [
    "print(generated)"
   ]
  },
  {
   "cell_type": "code",
   "execution_count": null,
   "metadata": {},
   "outputs": [],
   "source": []
  }
 ],
 "metadata": {
  "kernelspec": {
   "display_name": "Python 3",
   "language": "python",
   "name": "python3"
  },
  "language_info": {
   "codemirror_mode": {
    "name": "ipython",
    "version": 3
   },
   "file_extension": ".py",
   "mimetype": "text/x-python",
   "name": "python",
   "nbconvert_exporter": "python",
   "pygments_lexer": "ipython3",
   "version": "3.6.8"
  }
 },
 "nbformat": 4,
 "nbformat_minor": 2
}
