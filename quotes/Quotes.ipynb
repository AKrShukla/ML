{
 "cells": [
  {
   "cell_type": "code",
   "execution_count": 1,
   "metadata": {},
   "outputs": [],
   "source": [
    "import numpy as np\n",
    "import pandas as pd\n",
    "\n",
    "from sklearn.model_selection import train_test_split\n",
    "from sklearn.preprocessing import LabelEncoder"
   ]
  },
  {
   "cell_type": "code",
   "execution_count": 233,
   "metadata": {},
   "outputs": [],
   "source": [
    "quotes = pd.read_csv(\"quotes_data.csv\")"
   ]
  },
  {
   "cell_type": "code",
   "execution_count": 234,
   "metadata": {},
   "outputs": [
    {
     "data": {
      "text/html": [
       "<div>\n",
       "<style scoped>\n",
       "    .dataframe tbody tr th:only-of-type {\n",
       "        vertical-align: middle;\n",
       "    }\n",
       "\n",
       "    .dataframe tbody tr th {\n",
       "        vertical-align: top;\n",
       "    }\n",
       "\n",
       "    .dataframe thead th {\n",
       "        text-align: right;\n",
       "    }\n",
       "</style>\n",
       "<table border=\"1\" class=\"dataframe\">\n",
       "  <thead>\n",
       "    <tr style=\"text-align: right;\">\n",
       "      <th></th>\n",
       "      <th>Quote</th>\n",
       "      <th>Author</th>\n",
       "      <th>Tag</th>\n",
       "    </tr>\n",
       "  </thead>\n",
       "  <tbody>\n",
       "    <tr>\n",
       "      <th>0</th>\n",
       "      <td>“Who controls the past controls the future. Wh...</td>\n",
       "      <td>George Orwell,</td>\n",
       "      <td>inspirational</td>\n",
       "    </tr>\n",
       "    <tr>\n",
       "      <th>1</th>\n",
       "      <td>“One ought, every day at least, to hear a litt...</td>\n",
       "      <td>Johann Wolfgang von Goethe,</td>\n",
       "      <td>poetry</td>\n",
       "    </tr>\n",
       "    <tr>\n",
       "      <th>2</th>\n",
       "      <td>“Do what is right, not what is easy nor what i...</td>\n",
       "      <td>Roy T. Bennett,</td>\n",
       "      <td>inspiration</td>\n",
       "    </tr>\n",
       "    <tr>\n",
       "      <th>3</th>\n",
       "      <td>“…the sad part is, that I will probably end up...</td>\n",
       "      <td>Ranata Suzuki</td>\n",
       "      <td>quotes</td>\n",
       "    </tr>\n",
       "    <tr>\n",
       "      <th>4</th>\n",
       "      <td>“Beauty is in the eye of the beholder and it m...</td>\n",
       "      <td>Jim Henson</td>\n",
       "      <td>humor</td>\n",
       "    </tr>\n",
       "    <tr>\n",
       "      <th>5</th>\n",
       "      <td>“I don't know the question, but sex is definit...</td>\n",
       "      <td>Woody Allen</td>\n",
       "      <td>humor</td>\n",
       "    </tr>\n",
       "    <tr>\n",
       "      <th>6</th>\n",
       "      <td>“HopeSmiles from the threshold of the year to ...</td>\n",
       "      <td>Alfred Lord Tennyson</td>\n",
       "      <td>happiness</td>\n",
       "    </tr>\n",
       "    <tr>\n",
       "      <th>7</th>\n",
       "      <td>“I have no idea what's awaiting me, or what wi...</td>\n",
       "      <td>Albert Camus,</td>\n",
       "      <td>religion</td>\n",
       "    </tr>\n",
       "    <tr>\n",
       "      <th>8</th>\n",
       "      <td>“I suffer from girlnextdooritis where the guy ...</td>\n",
       "      <td>Taylor Swift</td>\n",
       "      <td>relationships</td>\n",
       "    </tr>\n",
       "    <tr>\n",
       "      <th>9</th>\n",
       "      <td>“The truth is rarely pure and never simple.”</td>\n",
       "      <td>Oscar Wilde,</td>\n",
       "      <td>truth</td>\n",
       "    </tr>\n",
       "    <tr>\n",
       "      <th>10</th>\n",
       "      <td>“The Little Boy and the Old ManSaid the little...</td>\n",
       "      <td>Shel Silverstein</td>\n",
       "      <td>poetry</td>\n",
       "    </tr>\n",
       "    <tr>\n",
       "      <th>11</th>\n",
       "      <td>“You've gotta dance like there's nobody watchi...</td>\n",
       "      <td>William W. Purkey</td>\n",
       "      <td>love</td>\n",
       "    </tr>\n",
       "    <tr>\n",
       "      <th>12</th>\n",
       "      <td>“Books are a uniquely portable magic.”</td>\n",
       "      <td>Stephen King,</td>\n",
       "      <td>books</td>\n",
       "    </tr>\n",
       "    <tr>\n",
       "      <th>13</th>\n",
       "      <td>“Life is for the living.Death is for the dead....</td>\n",
       "      <td>Langston Hughes,</td>\n",
       "      <td>death</td>\n",
       "    </tr>\n",
       "    <tr>\n",
       "      <th>14</th>\n",
       "      <td>“I think it’s beautifulthe way you sparkle whe...</td>\n",
       "      <td>Atticus Poetry,</td>\n",
       "      <td>quotes</td>\n",
       "    </tr>\n",
       "    <tr>\n",
       "      <th>15</th>\n",
       "      <td>“We are what we pretend to be, so we must be c...</td>\n",
       "      <td>Kurt Vonnegut,</td>\n",
       "      <td>life</td>\n",
       "    </tr>\n",
       "    <tr>\n",
       "      <th>16</th>\n",
       "      <td>“You talk when you cease to be at peace with y...</td>\n",
       "      <td>Kahlil Gibran,</td>\n",
       "      <td>poetry</td>\n",
       "    </tr>\n",
       "    <tr>\n",
       "      <th>17</th>\n",
       "      <td>“When love is not madness it is not love.”</td>\n",
       "      <td>Pedro Calderon de la Barca</td>\n",
       "      <td>romance</td>\n",
       "    </tr>\n",
       "    <tr>\n",
       "      <th>18</th>\n",
       "      <td>“Time is a game played beautifully by children.”</td>\n",
       "      <td>Heraclitus,</td>\n",
       "      <td>philosophy</td>\n",
       "    </tr>\n",
       "    <tr>\n",
       "      <th>19</th>\n",
       "      <td>“Love goes very far beyond the physical person...</td>\n",
       "      <td>Viktor E. Frankl,</td>\n",
       "      <td>spirituality</td>\n",
       "    </tr>\n",
       "    <tr>\n",
       "      <th>20</th>\n",
       "      <td>“Do not go where the path may lead, go instead...</td>\n",
       "      <td>Ralph Waldo Emerson</td>\n",
       "      <td>life</td>\n",
       "    </tr>\n",
       "    <tr>\n",
       "      <th>21</th>\n",
       "      <td>“I love to see a young girl go out and grab th...</td>\n",
       "      <td>maya angelou</td>\n",
       "      <td>life</td>\n",
       "    </tr>\n",
       "    <tr>\n",
       "      <th>22</th>\n",
       "      <td>“Books are finite, sexual encounters are finit...</td>\n",
       "      <td>Roberto Bolano</td>\n",
       "      <td>hope</td>\n",
       "    </tr>\n",
       "    <tr>\n",
       "      <th>23</th>\n",
       "      <td>“They say a person needs just three things to ...</td>\n",
       "      <td>Tom Bodett</td>\n",
       "      <td>hope</td>\n",
       "    </tr>\n",
       "    <tr>\n",
       "      <th>24</th>\n",
       "      <td>“Failure is the condiment that gives success i...</td>\n",
       "      <td>Truman Capote</td>\n",
       "      <td>success</td>\n",
       "    </tr>\n",
       "    <tr>\n",
       "      <th>25</th>\n",
       "      <td>“For attractive lips, speak words of kindness....</td>\n",
       "      <td>Sam Levenson,</td>\n",
       "      <td>inspirational</td>\n",
       "    </tr>\n",
       "    <tr>\n",
       "      <th>26</th>\n",
       "      <td>“The secret of life, though, is to fall seven ...</td>\n",
       "      <td>Paulo Coelho,</td>\n",
       "      <td>wisdom</td>\n",
       "    </tr>\n",
       "    <tr>\n",
       "      <th>27</th>\n",
       "      <td>“More smiling, less worrying. More compassion,...</td>\n",
       "      <td>Roy T. Bennett,</td>\n",
       "      <td>faith</td>\n",
       "    </tr>\n",
       "    <tr>\n",
       "      <th>28</th>\n",
       "      <td>“There is nothing either good or bad, but thin...</td>\n",
       "      <td>William Shakespear,</td>\n",
       "      <td>philosophy</td>\n",
       "    </tr>\n",
       "    <tr>\n",
       "      <th>29</th>\n",
       "      <td>“I read once that the ancient Egyptians had fi...</td>\n",
       "      <td>Brian Andreas,</td>\n",
       "      <td>inspiration</td>\n",
       "    </tr>\n",
       "    <tr>\n",
       "      <th>...</th>\n",
       "      <td>...</td>\n",
       "      <td>...</td>\n",
       "      <td>...</td>\n",
       "    </tr>\n",
       "    <tr>\n",
       "      <th>2670</th>\n",
       "      <td>“Of course it hurt that we could never love ea...</td>\n",
       "      <td>Haruki Murakami,</td>\n",
       "      <td>relationships</td>\n",
       "    </tr>\n",
       "    <tr>\n",
       "      <th>2671</th>\n",
       "      <td>“Head up, heart open. To better days!”</td>\n",
       "      <td>T.F. Hodge,</td>\n",
       "      <td>quotes</td>\n",
       "    </tr>\n",
       "    <tr>\n",
       "      <th>2672</th>\n",
       "      <td>“The only thing worse than a boy who hates you...</td>\n",
       "      <td>Markus Zusak,</td>\n",
       "      <td>love</td>\n",
       "    </tr>\n",
       "    <tr>\n",
       "      <th>2673</th>\n",
       "      <td>“To be fully seen by somebody, then, and be lo...</td>\n",
       "      <td>Elizabeth Gilbert,</td>\n",
       "      <td>truth</td>\n",
       "    </tr>\n",
       "    <tr>\n",
       "      <th>2674</th>\n",
       "      <td>“Above all else, guard your heart for it affec...</td>\n",
       "      <td>Anonymous,</td>\n",
       "      <td>religion</td>\n",
       "    </tr>\n",
       "    <tr>\n",
       "      <th>2675</th>\n",
       "      <td>“Our lives begin to end the day we become sile...</td>\n",
       "      <td>Martin Luther King Jr.,</td>\n",
       "      <td>inspirational</td>\n",
       "    </tr>\n",
       "    <tr>\n",
       "      <th>2676</th>\n",
       "      <td>“The flower that blooms in adversity is the ra...</td>\n",
       "      <td>Walt Disney Company,</td>\n",
       "      <td>faith</td>\n",
       "    </tr>\n",
       "    <tr>\n",
       "      <th>2677</th>\n",
       "      <td>“It is difficult, when faced with a situation ...</td>\n",
       "      <td>Lemony Snicket,</td>\n",
       "      <td>truth</td>\n",
       "    </tr>\n",
       "    <tr>\n",
       "      <th>2678</th>\n",
       "      <td>“Tears are words that need to be written.”</td>\n",
       "      <td>Paulo Coelho</td>\n",
       "      <td>writing</td>\n",
       "    </tr>\n",
       "    <tr>\n",
       "      <th>2679</th>\n",
       "      <td>“thus with a kiss I die”</td>\n",
       "      <td>William Shakespeare,</td>\n",
       "      <td>romance</td>\n",
       "    </tr>\n",
       "    <tr>\n",
       "      <th>2680</th>\n",
       "      <td>“So many books, so little time.”</td>\n",
       "      <td>Frank Zappa</td>\n",
       "      <td>humor</td>\n",
       "    </tr>\n",
       "    <tr>\n",
       "      <th>2681</th>\n",
       "      <td>“I know not with what weapons World War III wi...</td>\n",
       "      <td>Albert Einstein</td>\n",
       "      <td>wisdom</td>\n",
       "    </tr>\n",
       "    <tr>\n",
       "      <th>2682</th>\n",
       "      <td>“When you have eliminated all which is impossi...</td>\n",
       "      <td>Arthur Conan Doyle,</td>\n",
       "      <td>inspirational</td>\n",
       "    </tr>\n",
       "    <tr>\n",
       "      <th>2683</th>\n",
       "      <td>“Don't mistake activity with achievement.”</td>\n",
       "      <td>John Wooden</td>\n",
       "      <td>success</td>\n",
       "    </tr>\n",
       "    <tr>\n",
       "      <th>2684</th>\n",
       "      <td>“Man may have discovered fire, but women disco...</td>\n",
       "      <td>Candace Bushnell,</td>\n",
       "      <td>relationships</td>\n",
       "    </tr>\n",
       "    <tr>\n",
       "      <th>2685</th>\n",
       "      <td>“A girl calls and asks, \"Does it hurt very muc...</td>\n",
       "      <td>Chuck Palahniuk,</td>\n",
       "      <td>death</td>\n",
       "    </tr>\n",
       "    <tr>\n",
       "      <th>2686</th>\n",
       "      <td>“The truth will set you free. But not until it...</td>\n",
       "      <td>David Foster Wallace,</td>\n",
       "      <td>truth</td>\n",
       "    </tr>\n",
       "    <tr>\n",
       "      <th>2687</th>\n",
       "      <td>“Remember my friend, that knowledge is stronge...</td>\n",
       "      <td>Bram Stoker,</td>\n",
       "      <td>knowledge</td>\n",
       "    </tr>\n",
       "    <tr>\n",
       "      <th>2688</th>\n",
       "      <td>“It is amazing how complete is the delusion th...</td>\n",
       "      <td>Leo Tolstoy,</td>\n",
       "      <td>wisdom</td>\n",
       "    </tr>\n",
       "    <tr>\n",
       "      <th>2689</th>\n",
       "      <td>“There are two basic motivating forces: fear a...</td>\n",
       "      <td>John Lennon</td>\n",
       "      <td>life</td>\n",
       "    </tr>\n",
       "    <tr>\n",
       "      <th>2690</th>\n",
       "      <td>“Just when you think it can't get any worse, i...</td>\n",
       "      <td>Nicholas Sparks,</td>\n",
       "      <td>love</td>\n",
       "    </tr>\n",
       "    <tr>\n",
       "      <th>2691</th>\n",
       "      <td>“She seems so cool, so focused, so quiet, yet ...</td>\n",
       "      <td>Neil Gaiman,</td>\n",
       "      <td>poetry</td>\n",
       "    </tr>\n",
       "    <tr>\n",
       "      <th>2692</th>\n",
       "      <td>“Attitude is a choice. Happiness is a choice. ...</td>\n",
       "      <td>Roy T. Bennett,</td>\n",
       "      <td>happiness</td>\n",
       "    </tr>\n",
       "    <tr>\n",
       "      <th>2693</th>\n",
       "      <td>“You educate a man; you educate a man. You edu...</td>\n",
       "      <td>Brigham Young</td>\n",
       "      <td>education</td>\n",
       "    </tr>\n",
       "    <tr>\n",
       "      <th>2694</th>\n",
       "      <td>“There may be times when we are powerless to p...</td>\n",
       "      <td>Elie Wiesel</td>\n",
       "      <td>philosophy</td>\n",
       "    </tr>\n",
       "    <tr>\n",
       "      <th>2695</th>\n",
       "      <td>“You can't wait for inspiration. You have to g...</td>\n",
       "      <td>Jack London</td>\n",
       "      <td>inspiration</td>\n",
       "    </tr>\n",
       "    <tr>\n",
       "      <th>2696</th>\n",
       "      <td>“Death's got an Invisibility Cloak?\" Harry int...</td>\n",
       "      <td>J.K. Rowling,</td>\n",
       "      <td>death</td>\n",
       "    </tr>\n",
       "    <tr>\n",
       "      <th>2697</th>\n",
       "      <td>“Sell your cleverness and buy bewilderment.”</td>\n",
       "      <td>Rumi,</td>\n",
       "      <td>wisdom</td>\n",
       "    </tr>\n",
       "    <tr>\n",
       "      <th>2698</th>\n",
       "      <td>“We are what we pretend to be, so we must be c...</td>\n",
       "      <td>Kurt Vonnegut,</td>\n",
       "      <td>faith</td>\n",
       "    </tr>\n",
       "    <tr>\n",
       "      <th>2699</th>\n",
       "      <td>“We have to allow ourselves to be loved by the...</td>\n",
       "      <td>C. JoyBell C.</td>\n",
       "      <td>life-lessons</td>\n",
       "    </tr>\n",
       "  </tbody>\n",
       "</table>\n",
       "<p>2700 rows × 3 columns</p>\n",
       "</div>"
      ],
      "text/plain": [
       "                                                  Quote  \\\n",
       "0     “Who controls the past controls the future. Wh...   \n",
       "1     “One ought, every day at least, to hear a litt...   \n",
       "2     “Do what is right, not what is easy nor what i...   \n",
       "3     “…the sad part is, that I will probably end up...   \n",
       "4     “Beauty is in the eye of the beholder and it m...   \n",
       "5     “I don't know the question, but sex is definit...   \n",
       "6     “HopeSmiles from the threshold of the year to ...   \n",
       "7     “I have no idea what's awaiting me, or what wi...   \n",
       "8     “I suffer from girlnextdooritis where the guy ...   \n",
       "9          “The truth is rarely pure and never simple.”   \n",
       "10    “The Little Boy and the Old ManSaid the little...   \n",
       "11    “You've gotta dance like there's nobody watchi...   \n",
       "12               “Books are a uniquely portable magic.”   \n",
       "13    “Life is for the living.Death is for the dead....   \n",
       "14    “I think it’s beautifulthe way you sparkle whe...   \n",
       "15    “We are what we pretend to be, so we must be c...   \n",
       "16    “You talk when you cease to be at peace with y...   \n",
       "17           “When love is not madness it is not love.”   \n",
       "18     “Time is a game played beautifully by children.”   \n",
       "19    “Love goes very far beyond the physical person...   \n",
       "20    “Do not go where the path may lead, go instead...   \n",
       "21    “I love to see a young girl go out and grab th...   \n",
       "22    “Books are finite, sexual encounters are finit...   \n",
       "23    “They say a person needs just three things to ...   \n",
       "24    “Failure is the condiment that gives success i...   \n",
       "25    “For attractive lips, speak words of kindness....   \n",
       "26    “The secret of life, though, is to fall seven ...   \n",
       "27    “More smiling, less worrying. More compassion,...   \n",
       "28    “There is nothing either good or bad, but thin...   \n",
       "29    “I read once that the ancient Egyptians had fi...   \n",
       "...                                                 ...   \n",
       "2670  “Of course it hurt that we could never love ea...   \n",
       "2671             “Head up, heart open. To better days!”   \n",
       "2672  “The only thing worse than a boy who hates you...   \n",
       "2673  “To be fully seen by somebody, then, and be lo...   \n",
       "2674  “Above all else, guard your heart for it affec...   \n",
       "2675  “Our lives begin to end the day we become sile...   \n",
       "2676  “The flower that blooms in adversity is the ra...   \n",
       "2677  “It is difficult, when faced with a situation ...   \n",
       "2678         “Tears are words that need to be written.”   \n",
       "2679                           “thus with a kiss I die”   \n",
       "2680                   “So many books, so little time.”   \n",
       "2681  “I know not with what weapons World War III wi...   \n",
       "2682  “When you have eliminated all which is impossi...   \n",
       "2683         “Don't mistake activity with achievement.”   \n",
       "2684  “Man may have discovered fire, but women disco...   \n",
       "2685  “A girl calls and asks, \"Does it hurt very muc...   \n",
       "2686  “The truth will set you free. But not until it...   \n",
       "2687  “Remember my friend, that knowledge is stronge...   \n",
       "2688  “It is amazing how complete is the delusion th...   \n",
       "2689  “There are two basic motivating forces: fear a...   \n",
       "2690  “Just when you think it can't get any worse, i...   \n",
       "2691  “She seems so cool, so focused, so quiet, yet ...   \n",
       "2692  “Attitude is a choice. Happiness is a choice. ...   \n",
       "2693  “You educate a man; you educate a man. You edu...   \n",
       "2694  “There may be times when we are powerless to p...   \n",
       "2695  “You can't wait for inspiration. You have to g...   \n",
       "2696  “Death's got an Invisibility Cloak?\" Harry int...   \n",
       "2697       “Sell your cleverness and buy bewilderment.”   \n",
       "2698  “We are what we pretend to be, so we must be c...   \n",
       "2699  “We have to allow ourselves to be loved by the...   \n",
       "\n",
       "                           Author            Tag  \n",
       "0                  George Orwell,  inspirational  \n",
       "1     Johann Wolfgang von Goethe,         poetry  \n",
       "2                 Roy T. Bennett,    inspiration  \n",
       "3                   Ranata Suzuki         quotes  \n",
       "4                      Jim Henson          humor  \n",
       "5                     Woody Allen          humor  \n",
       "6            Alfred Lord Tennyson      happiness  \n",
       "7                   Albert Camus,       religion  \n",
       "8                    Taylor Swift  relationships  \n",
       "9                    Oscar Wilde,          truth  \n",
       "10               Shel Silverstein         poetry  \n",
       "11              William W. Purkey           love  \n",
       "12                  Stephen King,          books  \n",
       "13               Langston Hughes,          death  \n",
       "14                Atticus Poetry,         quotes  \n",
       "15                 Kurt Vonnegut,           life  \n",
       "16                 Kahlil Gibran,         poetry  \n",
       "17     Pedro Calderon de la Barca        romance  \n",
       "18                    Heraclitus,     philosophy  \n",
       "19              Viktor E. Frankl,   spirituality  \n",
       "20            Ralph Waldo Emerson           life  \n",
       "21                   maya angelou           life  \n",
       "22                 Roberto Bolano           hope  \n",
       "23                     Tom Bodett           hope  \n",
       "24                  Truman Capote        success  \n",
       "25                  Sam Levenson,  inspirational  \n",
       "26                  Paulo Coelho,         wisdom  \n",
       "27                Roy T. Bennett,          faith  \n",
       "28            William Shakespear,     philosophy  \n",
       "29                 Brian Andreas,    inspiration  \n",
       "...                           ...            ...  \n",
       "2670             Haruki Murakami,  relationships  \n",
       "2671                  T.F. Hodge,         quotes  \n",
       "2672                Markus Zusak,           love  \n",
       "2673           Elizabeth Gilbert,          truth  \n",
       "2674                   Anonymous,       religion  \n",
       "2675      Martin Luther King Jr.,  inspirational  \n",
       "2676         Walt Disney Company,          faith  \n",
       "2677              Lemony Snicket,          truth  \n",
       "2678                 Paulo Coelho        writing  \n",
       "2679         William Shakespeare,        romance  \n",
       "2680                  Frank Zappa          humor  \n",
       "2681              Albert Einstein         wisdom  \n",
       "2682          Arthur Conan Doyle,  inspirational  \n",
       "2683                  John Wooden        success  \n",
       "2684            Candace Bushnell,  relationships  \n",
       "2685             Chuck Palahniuk,          death  \n",
       "2686        David Foster Wallace,          truth  \n",
       "2687                 Bram Stoker,      knowledge  \n",
       "2688                 Leo Tolstoy,         wisdom  \n",
       "2689                  John Lennon           life  \n",
       "2690             Nicholas Sparks,           love  \n",
       "2691                 Neil Gaiman,         poetry  \n",
       "2692              Roy T. Bennett,      happiness  \n",
       "2693                Brigham Young      education  \n",
       "2694                  Elie Wiesel     philosophy  \n",
       "2695                  Jack London    inspiration  \n",
       "2696                J.K. Rowling,          death  \n",
       "2697                        Rumi,         wisdom  \n",
       "2698               Kurt Vonnegut,          faith  \n",
       "2699                C. JoyBell C.   life-lessons  \n",
       "\n",
       "[2700 rows x 3 columns]"
      ]
     },
     "execution_count": 234,
     "metadata": {},
     "output_type": "execute_result"
    }
   ],
   "source": [
    "quotes"
   ]
  },
  {
   "cell_type": "code",
   "execution_count": 235,
   "metadata": {},
   "outputs": [],
   "source": [
    "X = quotes['Quote']\n",
    "y = quotes['Tag']"
   ]
  },
  {
   "cell_type": "code",
   "execution_count": 236,
   "metadata": {},
   "outputs": [
    {
     "data": {
      "text/html": [
       "<div>\n",
       "<style scoped>\n",
       "    .dataframe tbody tr th:only-of-type {\n",
       "        vertical-align: middle;\n",
       "    }\n",
       "\n",
       "    .dataframe tbody tr th {\n",
       "        vertical-align: top;\n",
       "    }\n",
       "\n",
       "    .dataframe thead th {\n",
       "        text-align: right;\n",
       "    }\n",
       "</style>\n",
       "<table border=\"1\" class=\"dataframe\">\n",
       "  <thead>\n",
       "    <tr style=\"text-align: right;\">\n",
       "      <th></th>\n",
       "      <th>Quote</th>\n",
       "      <th>Author</th>\n",
       "      <th>Tag</th>\n",
       "    </tr>\n",
       "  </thead>\n",
       "  <tbody>\n",
       "    <tr>\n",
       "      <th>0</th>\n",
       "      <td>“Who controls the past controls the future. Wh...</td>\n",
       "      <td>George Orwell,</td>\n",
       "      <td>inspirational</td>\n",
       "    </tr>\n",
       "    <tr>\n",
       "      <th>1</th>\n",
       "      <td>“One ought, every day at least, to hear a litt...</td>\n",
       "      <td>Johann Wolfgang von Goethe,</td>\n",
       "      <td>poetry</td>\n",
       "    </tr>\n",
       "    <tr>\n",
       "      <th>2</th>\n",
       "      <td>“Do what is right, not what is easy nor what i...</td>\n",
       "      <td>Roy T. Bennett,</td>\n",
       "      <td>inspiration</td>\n",
       "    </tr>\n",
       "    <tr>\n",
       "      <th>3</th>\n",
       "      <td>“…the sad part is, that I will probably end up...</td>\n",
       "      <td>Ranata Suzuki</td>\n",
       "      <td>quotes</td>\n",
       "    </tr>\n",
       "    <tr>\n",
       "      <th>4</th>\n",
       "      <td>“Beauty is in the eye of the beholder and it m...</td>\n",
       "      <td>Jim Henson</td>\n",
       "      <td>humor</td>\n",
       "    </tr>\n",
       "  </tbody>\n",
       "</table>\n",
       "</div>"
      ],
      "text/plain": [
       "                                               Quote  \\\n",
       "0  “Who controls the past controls the future. Wh...   \n",
       "1  “One ought, every day at least, to hear a litt...   \n",
       "2  “Do what is right, not what is easy nor what i...   \n",
       "3  “…the sad part is, that I will probably end up...   \n",
       "4  “Beauty is in the eye of the beholder and it m...   \n",
       "\n",
       "                        Author            Tag  \n",
       "0               George Orwell,  inspirational  \n",
       "1  Johann Wolfgang von Goethe,         poetry  \n",
       "2              Roy T. Bennett,    inspiration  \n",
       "3                Ranata Suzuki         quotes  \n",
       "4                   Jim Henson          humor  "
      ]
     },
     "execution_count": 236,
     "metadata": {},
     "output_type": "execute_result"
    }
   ],
   "source": [
    "quotes.head()"
   ]
  },
  {
   "cell_type": "code",
   "execution_count": 237,
   "metadata": {},
   "outputs": [],
   "source": [
    "from sklearn.feature_extraction.text import CountVectorizer\n",
    "from nltk.corpus import stopwords\n",
    "from nltk.tokenize import word_tokenize\n",
    "from string import punctuation\n",
    "from nltk.stem import PorterStemmer, WordNetLemmatizer"
   ]
  },
  {
   "cell_type": "code",
   "execution_count": 238,
   "metadata": {},
   "outputs": [],
   "source": [
    "st = set(stopwords.words(\"english\"))\n",
    "punc = set(punctuation)\n",
    "ps = PorterStemmer()\n",
    "\n",
    "def custom(sent):\n",
    "    words = word_tokenize(sent.lower())\n",
    "    faaltu = st.union(punc)\n",
    "#     pure = [w for w in words if w not in faaltu]\n",
    "#     more_pure = list(map(ps.stem, words))\n",
    "    \n",
    "    return words"
   ]
  },
  {
   "cell_type": "code",
   "execution_count": 239,
   "metadata": {},
   "outputs": [],
   "source": [
    "cv = CountVectorizer(tokenizer=custom)"
   ]
  },
  {
   "cell_type": "code",
   "execution_count": 240,
   "metadata": {},
   "outputs": [
    {
     "data": {
      "text/plain": [
       "CountVectorizer(analyzer='word', binary=False, decode_error='strict',\n",
       "                dtype=<class 'numpy.int64'>, encoding='utf-8', input='content',\n",
       "                lowercase=True, max_df=1.0, max_features=None, min_df=1,\n",
       "                ngram_range=(1, 1), preprocessor=None, stop_words=None,\n",
       "                strip_accents=None, token_pattern='(?u)\\\\b\\\\w\\\\w+\\\\b',\n",
       "                tokenizer=<function custom at 0x7f76cb534158>, vocabulary=None)"
      ]
     },
     "execution_count": 240,
     "metadata": {},
     "output_type": "execute_result"
    }
   ],
   "source": [
    "cv.fit(X)"
   ]
  },
  {
   "cell_type": "code",
   "execution_count": 241,
   "metadata": {},
   "outputs": [],
   "source": [
    "X_gen = cv.transform(X).todense()"
   ]
  },
  {
   "cell_type": "code",
   "execution_count": 242,
   "metadata": {},
   "outputs": [],
   "source": [
    "# line = \"I am a very happy happy person\""
   ]
  },
  {
   "cell_type": "code",
   "execution_count": 243,
   "metadata": {},
   "outputs": [],
   "source": [
    "# custom(line)"
   ]
  },
  {
   "cell_type": "code",
   "execution_count": 244,
   "metadata": {},
   "outputs": [],
   "source": [
    "# cv.vocabulary_['happi']"
   ]
  },
  {
   "cell_type": "code",
   "execution_count": 245,
   "metadata": {},
   "outputs": [],
   "source": [
    "# print(cv.transform([line]))"
   ]
  },
  {
   "cell_type": "code",
   "execution_count": 246,
   "metadata": {},
   "outputs": [],
   "source": [
    "from sklearn.model_selection import train_test_split"
   ]
  },
  {
   "cell_type": "code",
   "execution_count": 247,
   "metadata": {},
   "outputs": [],
   "source": [
    "X_train, X_test, y_train, y_test = train_test_split(\n",
    "...     X_gen, y, test_size=0.33, random_state=42)"
   ]
  },
  {
   "cell_type": "code",
   "execution_count": 248,
   "metadata": {},
   "outputs": [
    {
     "data": {
      "text/plain": [
       "(2700,)"
      ]
     },
     "execution_count": 248,
     "metadata": {},
     "output_type": "execute_result"
    }
   ],
   "source": [
    "y.shape"
   ]
  },
  {
   "cell_type": "code",
   "execution_count": 249,
   "metadata": {},
   "outputs": [],
   "source": [
    "from sklearn.naive_bayes import BernoulliNB, MultinomialNB, GaussianNB"
   ]
  },
  {
   "cell_type": "code",
   "execution_count": 274,
   "metadata": {},
   "outputs": [],
   "source": [
    "model1 = GaussianNB()"
   ]
  },
  {
   "cell_type": "code",
   "execution_count": 275,
   "metadata": {},
   "outputs": [
    {
     "data": {
      "text/plain": [
       "GaussianNB(priors=None, var_smoothing=1e-09)"
      ]
     },
     "execution_count": 275,
     "metadata": {},
     "output_type": "execute_result"
    }
   ],
   "source": [
    "model1.fit(X_train, y_train)"
   ]
  },
  {
   "cell_type": "code",
   "execution_count": 276,
   "metadata": {},
   "outputs": [
    {
     "data": {
      "text/plain": [
       "0.7131011608623549"
      ]
     },
     "execution_count": 276,
     "metadata": {},
     "output_type": "execute_result"
    }
   ],
   "source": [
    "model1.score(X_train, y_train)"
   ]
  },
  {
   "cell_type": "code",
   "execution_count": 277,
   "metadata": {},
   "outputs": [
    {
     "data": {
      "text/plain": [
       "0.712682379349046"
      ]
     },
     "execution_count": 277,
     "metadata": {},
     "output_type": "execute_result"
    }
   ],
   "source": [
    "model1.score(X_test, y_test)"
   ]
  },
  {
   "cell_type": "code",
   "execution_count": 278,
   "metadata": {},
   "outputs": [],
   "source": [
    "model2 = BernoulliNB()"
   ]
  },
  {
   "cell_type": "code",
   "execution_count": 279,
   "metadata": {},
   "outputs": [
    {
     "data": {
      "text/plain": [
       "BernoulliNB(alpha=1.0, binarize=0.0, class_prior=None, fit_prior=True)"
      ]
     },
     "execution_count": 279,
     "metadata": {},
     "output_type": "execute_result"
    }
   ],
   "source": [
    "model2.fit(X_train, y_train)"
   ]
  },
  {
   "cell_type": "code",
   "execution_count": 280,
   "metadata": {},
   "outputs": [
    {
     "data": {
      "text/plain": [
       "0.527363184079602"
      ]
     },
     "execution_count": 280,
     "metadata": {},
     "output_type": "execute_result"
    }
   ],
   "source": [
    "model2.score(X_train, y_train)"
   ]
  },
  {
   "cell_type": "code",
   "execution_count": 281,
   "metadata": {},
   "outputs": [
    {
     "data": {
      "text/plain": [
       "0.5207631874298541"
      ]
     },
     "execution_count": 281,
     "metadata": {},
     "output_type": "execute_result"
    }
   ],
   "source": [
    "model2.score(X_test, y_test)"
   ]
  },
  {
   "cell_type": "code",
   "execution_count": 282,
   "metadata": {},
   "outputs": [],
   "source": [
    "model3 = MultinomialNB()"
   ]
  },
  {
   "cell_type": "code",
   "execution_count": 283,
   "metadata": {},
   "outputs": [
    {
     "data": {
      "text/plain": [
       "MultinomialNB(alpha=1.0, class_prior=None, fit_prior=True)"
      ]
     },
     "execution_count": 283,
     "metadata": {},
     "output_type": "execute_result"
    }
   ],
   "source": [
    "model3.fit(X_train, y_train)"
   ]
  },
  {
   "cell_type": "code",
   "execution_count": 284,
   "metadata": {},
   "outputs": [
    {
     "data": {
      "text/plain": [
       "0.5367606412382532"
      ]
     },
     "execution_count": 284,
     "metadata": {},
     "output_type": "execute_result"
    }
   ],
   "source": [
    "model3.score(X_train, y_train)"
   ]
  },
  {
   "cell_type": "code",
   "execution_count": 285,
   "metadata": {},
   "outputs": [
    {
     "data": {
      "text/plain": [
       "0.5432098765432098"
      ]
     },
     "execution_count": 285,
     "metadata": {},
     "output_type": "execute_result"
    }
   ],
   "source": [
    "model3.score(X_test, y_test)"
   ]
  },
  {
   "cell_type": "code",
   "execution_count": 297,
   "metadata": {},
   "outputs": [],
   "source": [
    "line1 = \"this is a fine example of a sentence.this is writing pain is temporary\"\n",
    "line2 = \"Ordinary life is pretty\"\n",
    "line3 = \"Death's got an Invisibility Cloak? Harry\"\n",
    "line4 = \"Harry Potter is Dead!\""
   ]
  },
  {
   "cell_type": "code",
   "execution_count": 298,
   "metadata": {},
   "outputs": [],
   "source": [
    "gen = cv.transform(np.array([line1, line2, line3, line4])).todense()"
   ]
  },
  {
   "cell_type": "code",
   "execution_count": 299,
   "metadata": {},
   "outputs": [
    {
     "data": {
      "text/plain": [
       "array(['books', 'wisdom', 'humor', 'wisdom'], dtype='<U20')"
      ]
     },
     "execution_count": 299,
     "metadata": {},
     "output_type": "execute_result"
    }
   ],
   "source": [
    "model2.predict(gen)"
   ]
  },
  {
   "cell_type": "code",
   "execution_count": null,
   "metadata": {},
   "outputs": [],
   "source": []
  },
  {
   "cell_type": "code",
   "execution_count": null,
   "metadata": {},
   "outputs": [],
   "source": []
  },
  {
   "cell_type": "code",
   "execution_count": null,
   "metadata": {},
   "outputs": [],
   "source": []
  },
  {
   "cell_type": "code",
   "execution_count": null,
   "metadata": {},
   "outputs": [],
   "source": []
  },
  {
   "cell_type": "code",
   "execution_count": null,
   "metadata": {},
   "outputs": [],
   "source": []
  },
  {
   "cell_type": "code",
   "execution_count": null,
   "metadata": {},
   "outputs": [],
   "source": []
  },
  {
   "cell_type": "code",
   "execution_count": null,
   "metadata": {},
   "outputs": [],
   "source": []
  },
  {
   "cell_type": "code",
   "execution_count": null,
   "metadata": {},
   "outputs": [],
   "source": []
  },
  {
   "cell_type": "code",
   "execution_count": null,
   "metadata": {},
   "outputs": [],
   "source": []
  },
  {
   "cell_type": "code",
   "execution_count": null,
   "metadata": {},
   "outputs": [],
   "source": []
  },
  {
   "cell_type": "code",
   "execution_count": null,
   "metadata": {},
   "outputs": [],
   "source": []
  },
  {
   "cell_type": "code",
   "execution_count": null,
   "metadata": {},
   "outputs": [],
   "source": []
  },
  {
   "cell_type": "code",
   "execution_count": null,
   "metadata": {},
   "outputs": [],
   "source": []
  },
  {
   "cell_type": "code",
   "execution_count": null,
   "metadata": {},
   "outputs": [],
   "source": []
  },
  {
   "cell_type": "code",
   "execution_count": null,
   "metadata": {},
   "outputs": [],
   "source": []
  },
  {
   "cell_type": "code",
   "execution_count": null,
   "metadata": {},
   "outputs": [],
   "source": []
  },
  {
   "cell_type": "code",
   "execution_count": null,
   "metadata": {},
   "outputs": [],
   "source": []
  },
  {
   "cell_type": "code",
   "execution_count": null,
   "metadata": {},
   "outputs": [],
   "source": []
  },
  {
   "cell_type": "code",
   "execution_count": null,
   "metadata": {},
   "outputs": [],
   "source": []
  },
  {
   "cell_type": "code",
   "execution_count": null,
   "metadata": {},
   "outputs": [],
   "source": []
  },
  {
   "cell_type": "code",
   "execution_count": null,
   "metadata": {},
   "outputs": [],
   "source": []
  },
  {
   "cell_type": "code",
   "execution_count": null,
   "metadata": {},
   "outputs": [],
   "source": []
  },
  {
   "cell_type": "code",
   "execution_count": null,
   "metadata": {},
   "outputs": [],
   "source": []
  }
 ],
 "metadata": {
  "kernelspec": {
   "display_name": "Python 3",
   "language": "python",
   "name": "python3"
  },
  "language_info": {
   "codemirror_mode": {
    "name": "ipython",
    "version": 3
   },
   "file_extension": ".py",
   "mimetype": "text/x-python",
   "name": "python",
   "nbconvert_exporter": "python",
   "pygments_lexer": "ipython3",
   "version": "3.6.8"
  }
 },
 "nbformat": 4,
 "nbformat_minor": 2
}
