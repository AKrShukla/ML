{
 "cells": [
  {
   "cell_type": "code",
   "execution_count": 300,
   "metadata": {},
   "outputs": [],
   "source": [
    "import numpy as np\n",
    "import pandas as pd\n",
    "\n",
    "from sklearn.model_selection import train_test_split\n",
    "from sklearn.preprocessing import LabelEncoder"
   ]
  },
  {
   "cell_type": "code",
   "execution_count": 334,
   "metadata": {},
   "outputs": [],
   "source": [
    "quotes = pd.read_csv(\"quotes_data_3.csv\")"
   ]
  },
  {
   "cell_type": "code",
   "execution_count": 335,
   "metadata": {},
   "outputs": [
    {
     "data": {
      "text/html": [
       "<div>\n",
       "<style scoped>\n",
       "    .dataframe tbody tr th:only-of-type {\n",
       "        vertical-align: middle;\n",
       "    }\n",
       "\n",
       "    .dataframe tbody tr th {\n",
       "        vertical-align: top;\n",
       "    }\n",
       "\n",
       "    .dataframe thead th {\n",
       "        text-align: right;\n",
       "    }\n",
       "</style>\n",
       "<table border=\"1\" class=\"dataframe\">\n",
       "  <thead>\n",
       "    <tr style=\"text-align: right;\">\n",
       "      <th></th>\n",
       "      <th>Quote</th>\n",
       "      <th>Author</th>\n",
       "      <th>Tag</th>\n",
       "    </tr>\n",
       "  </thead>\n",
       "  <tbody>\n",
       "    <tr>\n",
       "      <th>0</th>\n",
       "      <td>“I write to give myself strength. I write to b...</td>\n",
       "      <td>Joss Whedon</td>\n",
       "      <td>writing</td>\n",
       "    </tr>\n",
       "    <tr>\n",
       "      <th>1</th>\n",
       "      <td>“Learn to light a candle in the darkest moment...</td>\n",
       "      <td>Roy T. Bennett,</td>\n",
       "      <td>inspiration</td>\n",
       "    </tr>\n",
       "    <tr>\n",
       "      <th>2</th>\n",
       "      <td>“There is something delicious about writing th...</td>\n",
       "      <td>Beatrix Potter</td>\n",
       "      <td>writing</td>\n",
       "    </tr>\n",
       "    <tr>\n",
       "      <th>3</th>\n",
       "      <td>“Ordinary life is pretty complex stuff.”</td>\n",
       "      <td>Harvey Pekar</td>\n",
       "      <td>writing</td>\n",
       "    </tr>\n",
       "    <tr>\n",
       "      <th>4</th>\n",
       "      <td>“If you want to write, if you want to create, ...</td>\n",
       "      <td>Ray Bradbury</td>\n",
       "      <td>writing</td>\n",
       "    </tr>\n",
       "    <tr>\n",
       "      <th>5</th>\n",
       "      <td>“you can, you should, and if you’re brave enou...</td>\n",
       "      <td>Stephen King,</td>\n",
       "      <td>writing</td>\n",
       "    </tr>\n",
       "    <tr>\n",
       "      <th>6</th>\n",
       "      <td>“If my doctor told me I had only six minutes t...</td>\n",
       "      <td>Isaac Asimov</td>\n",
       "      <td>writing</td>\n",
       "    </tr>\n",
       "    <tr>\n",
       "      <th>7</th>\n",
       "      <td>“Cry. Forgive. Learn. Move on. Let your tears ...</td>\n",
       "      <td>Steve Maraboli</td>\n",
       "      <td>inspiration</td>\n",
       "    </tr>\n",
       "    <tr>\n",
       "      <th>8</th>\n",
       "      <td>“History will be kind to me for I intend to wr...</td>\n",
       "      <td>Winston S. Churchill</td>\n",
       "      <td>writing</td>\n",
       "    </tr>\n",
       "    <tr>\n",
       "      <th>9</th>\n",
       "      <td>“Stories may well be lies, but they are good l...</td>\n",
       "      <td>Neil Gaiman</td>\n",
       "      <td>writing</td>\n",
       "    </tr>\n",
       "    <tr>\n",
       "      <th>10</th>\n",
       "      <td>“Sometimes you wake up. Sometimes the fall kil...</td>\n",
       "      <td>Neil Gaiman,</td>\n",
       "      <td>inspiration</td>\n",
       "    </tr>\n",
       "    <tr>\n",
       "      <th>11</th>\n",
       "      <td>“Acts of Kindness:A random act of kindness, no...</td>\n",
       "      <td>Roy T. Bennett,</td>\n",
       "      <td>inspiration</td>\n",
       "    </tr>\n",
       "    <tr>\n",
       "      <th>12</th>\n",
       "      <td>“If you're reading this...Congratulations, you...</td>\n",
       "      <td>Chad Sugg,</td>\n",
       "      <td>inspiration</td>\n",
       "    </tr>\n",
       "    <tr>\n",
       "      <th>13</th>\n",
       "      <td>“We have to continually be jumping off cliffs ...</td>\n",
       "      <td>Kurt Vonnegut,</td>\n",
       "      <td>writing</td>\n",
       "    </tr>\n",
       "    <tr>\n",
       "      <th>14</th>\n",
       "      <td>“There is nothing to writing. All you do is si...</td>\n",
       "      <td>Ernest Hemingway</td>\n",
       "      <td>writing</td>\n",
       "    </tr>\n",
       "    <tr>\n",
       "      <th>15</th>\n",
       "      <td>“It's not the load that breaks you down, it's ...</td>\n",
       "      <td>Lou Holtz</td>\n",
       "      <td>inspiration</td>\n",
       "    </tr>\n",
       "    <tr>\n",
       "      <th>16</th>\n",
       "      <td>“And now here is my secret, a very simple secr...</td>\n",
       "      <td>Antoine de Saint-Exupéry,</td>\n",
       "      <td>inspiration</td>\n",
       "    </tr>\n",
       "    <tr>\n",
       "      <th>17</th>\n",
       "      <td>“We delight in the beauty of the butterfly, bu...</td>\n",
       "      <td>Maya Angelou</td>\n",
       "      <td>inspiration</td>\n",
       "    </tr>\n",
       "    <tr>\n",
       "      <th>18</th>\n",
       "      <td>“One day I will find the right words, and they...</td>\n",
       "      <td>Jack Kerouac,</td>\n",
       "      <td>writing</td>\n",
       "    </tr>\n",
       "    <tr>\n",
       "      <th>19</th>\n",
       "      <td>“Don't tell me the moon is shining; show me th...</td>\n",
       "      <td>Anton Chekhov</td>\n",
       "      <td>writing</td>\n",
       "    </tr>\n",
       "    <tr>\n",
       "      <th>20</th>\n",
       "      <td>“You can search throughout the entire universe...</td>\n",
       "      <td>Sharon Salzberg</td>\n",
       "      <td>inspiration</td>\n",
       "    </tr>\n",
       "    <tr>\n",
       "      <th>21</th>\n",
       "      <td>“Write what should not be forgotten.”</td>\n",
       "      <td>Isabel Allende</td>\n",
       "      <td>writing</td>\n",
       "    </tr>\n",
       "    <tr>\n",
       "      <th>22</th>\n",
       "      <td>“You must write every single day of your life....</td>\n",
       "      <td>Ray Bradbury</td>\n",
       "      <td>writing</td>\n",
       "    </tr>\n",
       "    <tr>\n",
       "      <th>23</th>\n",
       "      <td>“When someone tells me \"no,\" it doesn't mean I...</td>\n",
       "      <td>Karen E. Quinones Miller</td>\n",
       "      <td>inspiration</td>\n",
       "    </tr>\n",
       "    <tr>\n",
       "      <th>24</th>\n",
       "      <td>“So what? All writers are lunatics!”</td>\n",
       "      <td>Cornelia Funke,</td>\n",
       "      <td>writing</td>\n",
       "    </tr>\n",
       "    <tr>\n",
       "      <th>25</th>\n",
       "      <td>“Top 15 Things Money Can’t BuyTime. Happiness....</td>\n",
       "      <td>Roy T. Bennett,</td>\n",
       "      <td>inspiration</td>\n",
       "    </tr>\n",
       "    <tr>\n",
       "      <th>26</th>\n",
       "      <td>“Write the kind of story you would like to rea...</td>\n",
       "      <td>Meg Cabot</td>\n",
       "      <td>writing</td>\n",
       "    </tr>\n",
       "    <tr>\n",
       "      <th>27</th>\n",
       "      <td>“The past is a place of reference, not a place...</td>\n",
       "      <td>Roy T. Bennett,</td>\n",
       "      <td>inspiration</td>\n",
       "    </tr>\n",
       "    <tr>\n",
       "      <th>28</th>\n",
       "      <td>“A little talent is a good thing to have if yo...</td>\n",
       "      <td>Stephen King</td>\n",
       "      <td>writing</td>\n",
       "    </tr>\n",
       "    <tr>\n",
       "      <th>29</th>\n",
       "      <td>“If you want to really hurt you parents, and y...</td>\n",
       "      <td>Kurt Vonnegut,</td>\n",
       "      <td>writing</td>\n",
       "    </tr>\n",
       "    <tr>\n",
       "      <th>...</th>\n",
       "      <td>...</td>\n",
       "      <td>...</td>\n",
       "      <td>...</td>\n",
       "    </tr>\n",
       "    <tr>\n",
       "      <th>150</th>\n",
       "      <td>“There is no real ending. It’s just the place ...</td>\n",
       "      <td>Frank Herbert</td>\n",
       "      <td>writing</td>\n",
       "    </tr>\n",
       "    <tr>\n",
       "      <th>151</th>\n",
       "      <td>“I was never really insane except upon occasio...</td>\n",
       "      <td>Edgar Allan Poe</td>\n",
       "      <td>inspiration</td>\n",
       "    </tr>\n",
       "    <tr>\n",
       "      <th>152</th>\n",
       "      <td>“Those who find ugly meanings in beautiful thi...</td>\n",
       "      <td>Oscar Wilde,</td>\n",
       "      <td>writing</td>\n",
       "    </tr>\n",
       "    <tr>\n",
       "      <th>153</th>\n",
       "      <td>“The only thing standing between you and your ...</td>\n",
       "      <td>Jordan Belfort</td>\n",
       "      <td>inspiration</td>\n",
       "    </tr>\n",
       "    <tr>\n",
       "      <th>154</th>\n",
       "      <td>“If you want to be happy, do not dwell in the ...</td>\n",
       "      <td>Roy T. Bennett,</td>\n",
       "      <td>inspiration</td>\n",
       "    </tr>\n",
       "    <tr>\n",
       "      <th>155</th>\n",
       "      <td>“You yourself, as much as anybody in the entir...</td>\n",
       "      <td>Sharon Salzberg</td>\n",
       "      <td>inspiration</td>\n",
       "    </tr>\n",
       "    <tr>\n",
       "      <th>156</th>\n",
       "      <td>“Be grateful for what you already have while y...</td>\n",
       "      <td>Roy T. Bennett,</td>\n",
       "      <td>inspiration</td>\n",
       "    </tr>\n",
       "    <tr>\n",
       "      <th>157</th>\n",
       "      <td>“The road to hell is paved with adverbs.”</td>\n",
       "      <td>Stephen King,</td>\n",
       "      <td>writing</td>\n",
       "    </tr>\n",
       "    <tr>\n",
       "      <th>158</th>\n",
       "      <td>“A short story is a love affair, a novel is a ...</td>\n",
       "      <td>Lorrie Moore</td>\n",
       "      <td>writing</td>\n",
       "    </tr>\n",
       "    <tr>\n",
       "      <th>159</th>\n",
       "      <td>“Treat everyone with politeness and kindness, ...</td>\n",
       "      <td>Roy T. Bennett,</td>\n",
       "      <td>inspiration</td>\n",
       "    </tr>\n",
       "    <tr>\n",
       "      <th>160</th>\n",
       "      <td>“What an astonishing thing a book is. It's a f...</td>\n",
       "      <td>Carl Sagan,</td>\n",
       "      <td>writing</td>\n",
       "    </tr>\n",
       "    <tr>\n",
       "      <th>161</th>\n",
       "      <td>“A writer is someone for whom writing is more ...</td>\n",
       "      <td>Thomas Mann,</td>\n",
       "      <td>writing</td>\n",
       "    </tr>\n",
       "    <tr>\n",
       "      <th>162</th>\n",
       "      <td>“A book is made from a tree. It is an assembla...</td>\n",
       "      <td>Carl Sagan</td>\n",
       "      <td>writing</td>\n",
       "    </tr>\n",
       "    <tr>\n",
       "      <th>163</th>\n",
       "      <td>“If you do not breathe through writing, if you...</td>\n",
       "      <td>Anais Nin</td>\n",
       "      <td>writing</td>\n",
       "    </tr>\n",
       "    <tr>\n",
       "      <th>164</th>\n",
       "      <td>“The first draft of anything is shit.”</td>\n",
       "      <td>Ernest Hemingway</td>\n",
       "      <td>writing</td>\n",
       "    </tr>\n",
       "    <tr>\n",
       "      <th>165</th>\n",
       "      <td>“No tears in the writer, no tears in the reade...</td>\n",
       "      <td>Robert Frost</td>\n",
       "      <td>writing</td>\n",
       "    </tr>\n",
       "    <tr>\n",
       "      <th>166</th>\n",
       "      <td>“The difference between the almost right word ...</td>\n",
       "      <td>Mark Twain,</td>\n",
       "      <td>writing</td>\n",
       "    </tr>\n",
       "    <tr>\n",
       "      <th>167</th>\n",
       "      <td>“Words can be like X-rays if you use them prop...</td>\n",
       "      <td>Aldous Huxley,</td>\n",
       "      <td>writing</td>\n",
       "    </tr>\n",
       "    <tr>\n",
       "      <th>168</th>\n",
       "      <td>“It's hard to beat a person who never gives up.”</td>\n",
       "      <td>George Herman Ruth</td>\n",
       "      <td>inspiration</td>\n",
       "    </tr>\n",
       "    <tr>\n",
       "      <th>169</th>\n",
       "      <td>“Everywhere I go I'm asked if I think the univ...</td>\n",
       "      <td>Flannery O'Connor</td>\n",
       "      <td>writing</td>\n",
       "    </tr>\n",
       "    <tr>\n",
       "      <th>170</th>\n",
       "      <td>“Romance is the glamour which turns the dust o...</td>\n",
       "      <td>Elinor Glyn</td>\n",
       "      <td>inspiration</td>\n",
       "    </tr>\n",
       "    <tr>\n",
       "      <th>171</th>\n",
       "      <td>“It is good to love many things, for therein l...</td>\n",
       "      <td>Vincent Van Gogh</td>\n",
       "      <td>inspiration</td>\n",
       "    </tr>\n",
       "    <tr>\n",
       "      <th>172</th>\n",
       "      <td>“We write to taste life twice, in the moment a...</td>\n",
       "      <td>Anais Nin</td>\n",
       "      <td>writing</td>\n",
       "    </tr>\n",
       "    <tr>\n",
       "      <th>173</th>\n",
       "      <td>“Do you want to know who you are? Don't ask. A...</td>\n",
       "      <td>Thomas Jefferson</td>\n",
       "      <td>inspiration</td>\n",
       "    </tr>\n",
       "    <tr>\n",
       "      <th>174</th>\n",
       "      <td>“You can't wait for inspiration. You have to g...</td>\n",
       "      <td>Jack London</td>\n",
       "      <td>inspiration</td>\n",
       "    </tr>\n",
       "    <tr>\n",
       "      <th>175</th>\n",
       "      <td>“People love a happy ending. So every episode,...</td>\n",
       "      <td>Joss Whedon</td>\n",
       "      <td>writing</td>\n",
       "    </tr>\n",
       "    <tr>\n",
       "      <th>176</th>\n",
       "      <td>“Start writing, no matter what. The water does...</td>\n",
       "      <td>Louis L'Amour</td>\n",
       "      <td>writing</td>\n",
       "    </tr>\n",
       "    <tr>\n",
       "      <th>177</th>\n",
       "      <td>“Attitude is a choice. Happiness is a choice. ...</td>\n",
       "      <td>Roy T. Bennett,</td>\n",
       "      <td>inspiration</td>\n",
       "    </tr>\n",
       "    <tr>\n",
       "      <th>178</th>\n",
       "      <td>“You never have to change anything you got up ...</td>\n",
       "      <td>Saul Bellow</td>\n",
       "      <td>writing</td>\n",
       "    </tr>\n",
       "    <tr>\n",
       "      <th>179</th>\n",
       "      <td>“You must stay drunk on writing so reality can...</td>\n",
       "      <td>Ray Bradbury,</td>\n",
       "      <td>writing</td>\n",
       "    </tr>\n",
       "  </tbody>\n",
       "</table>\n",
       "<p>180 rows × 3 columns</p>\n",
       "</div>"
      ],
      "text/plain": [
       "                                                 Quote  \\\n",
       "0    “I write to give myself strength. I write to b...   \n",
       "1    “Learn to light a candle in the darkest moment...   \n",
       "2    “There is something delicious about writing th...   \n",
       "3             “Ordinary life is pretty complex stuff.”   \n",
       "4    “If you want to write, if you want to create, ...   \n",
       "5    “you can, you should, and if you’re brave enou...   \n",
       "6    “If my doctor told me I had only six minutes t...   \n",
       "7    “Cry. Forgive. Learn. Move on. Let your tears ...   \n",
       "8    “History will be kind to me for I intend to wr...   \n",
       "9    “Stories may well be lies, but they are good l...   \n",
       "10   “Sometimes you wake up. Sometimes the fall kil...   \n",
       "11   “Acts of Kindness:A random act of kindness, no...   \n",
       "12   “If you're reading this...Congratulations, you...   \n",
       "13   “We have to continually be jumping off cliffs ...   \n",
       "14   “There is nothing to writing. All you do is si...   \n",
       "15   “It's not the load that breaks you down, it's ...   \n",
       "16   “And now here is my secret, a very simple secr...   \n",
       "17   “We delight in the beauty of the butterfly, bu...   \n",
       "18   “One day I will find the right words, and they...   \n",
       "19   “Don't tell me the moon is shining; show me th...   \n",
       "20   “You can search throughout the entire universe...   \n",
       "21               “Write what should not be forgotten.”   \n",
       "22   “You must write every single day of your life....   \n",
       "23   “When someone tells me \"no,\" it doesn't mean I...   \n",
       "24                “So what? All writers are lunatics!”   \n",
       "25   “Top 15 Things Money Can’t BuyTime. Happiness....   \n",
       "26   “Write the kind of story you would like to rea...   \n",
       "27   “The past is a place of reference, not a place...   \n",
       "28   “A little talent is a good thing to have if yo...   \n",
       "29   “If you want to really hurt you parents, and y...   \n",
       "..                                                 ...   \n",
       "150  “There is no real ending. It’s just the place ...   \n",
       "151  “I was never really insane except upon occasio...   \n",
       "152  “Those who find ugly meanings in beautiful thi...   \n",
       "153  “The only thing standing between you and your ...   \n",
       "154  “If you want to be happy, do not dwell in the ...   \n",
       "155  “You yourself, as much as anybody in the entir...   \n",
       "156  “Be grateful for what you already have while y...   \n",
       "157          “The road to hell is paved with adverbs.”   \n",
       "158  “A short story is a love affair, a novel is a ...   \n",
       "159  “Treat everyone with politeness and kindness, ...   \n",
       "160  “What an astonishing thing a book is. It's a f...   \n",
       "161  “A writer is someone for whom writing is more ...   \n",
       "162  “A book is made from a tree. It is an assembla...   \n",
       "163  “If you do not breathe through writing, if you...   \n",
       "164             “The first draft of anything is shit.”   \n",
       "165  “No tears in the writer, no tears in the reade...   \n",
       "166  “The difference between the almost right word ...   \n",
       "167  “Words can be like X-rays if you use them prop...   \n",
       "168   “It's hard to beat a person who never gives up.”   \n",
       "169  “Everywhere I go I'm asked if I think the univ...   \n",
       "170  “Romance is the glamour which turns the dust o...   \n",
       "171  “It is good to love many things, for therein l...   \n",
       "172  “We write to taste life twice, in the moment a...   \n",
       "173  “Do you want to know who you are? Don't ask. A...   \n",
       "174  “You can't wait for inspiration. You have to g...   \n",
       "175  “People love a happy ending. So every episode,...   \n",
       "176  “Start writing, no matter what. The water does...   \n",
       "177  “Attitude is a choice. Happiness is a choice. ...   \n",
       "178  “You never have to change anything you got up ...   \n",
       "179  “You must stay drunk on writing so reality can...   \n",
       "\n",
       "                        Author          Tag  \n",
       "0                  Joss Whedon      writing  \n",
       "1              Roy T. Bennett,  inspiration  \n",
       "2               Beatrix Potter      writing  \n",
       "3                 Harvey Pekar      writing  \n",
       "4                 Ray Bradbury      writing  \n",
       "5                Stephen King,      writing  \n",
       "6                 Isaac Asimov      writing  \n",
       "7               Steve Maraboli  inspiration  \n",
       "8         Winston S. Churchill      writing  \n",
       "9                  Neil Gaiman      writing  \n",
       "10                Neil Gaiman,  inspiration  \n",
       "11             Roy T. Bennett,  inspiration  \n",
       "12                  Chad Sugg,  inspiration  \n",
       "13              Kurt Vonnegut,      writing  \n",
       "14            Ernest Hemingway      writing  \n",
       "15                   Lou Holtz  inspiration  \n",
       "16   Antoine de Saint-Exupéry,  inspiration  \n",
       "17                Maya Angelou  inspiration  \n",
       "18               Jack Kerouac,      writing  \n",
       "19               Anton Chekhov      writing  \n",
       "20             Sharon Salzberg  inspiration  \n",
       "21              Isabel Allende      writing  \n",
       "22                Ray Bradbury      writing  \n",
       "23    Karen E. Quinones Miller  inspiration  \n",
       "24             Cornelia Funke,      writing  \n",
       "25             Roy T. Bennett,  inspiration  \n",
       "26                   Meg Cabot      writing  \n",
       "27             Roy T. Bennett,  inspiration  \n",
       "28                Stephen King      writing  \n",
       "29              Kurt Vonnegut,      writing  \n",
       "..                         ...          ...  \n",
       "150              Frank Herbert      writing  \n",
       "151            Edgar Allan Poe  inspiration  \n",
       "152               Oscar Wilde,      writing  \n",
       "153             Jordan Belfort  inspiration  \n",
       "154            Roy T. Bennett,  inspiration  \n",
       "155            Sharon Salzberg  inspiration  \n",
       "156            Roy T. Bennett,  inspiration  \n",
       "157              Stephen King,      writing  \n",
       "158               Lorrie Moore      writing  \n",
       "159            Roy T. Bennett,  inspiration  \n",
       "160                Carl Sagan,      writing  \n",
       "161               Thomas Mann,      writing  \n",
       "162                 Carl Sagan      writing  \n",
       "163                  Anais Nin      writing  \n",
       "164           Ernest Hemingway      writing  \n",
       "165               Robert Frost      writing  \n",
       "166                Mark Twain,      writing  \n",
       "167             Aldous Huxley,      writing  \n",
       "168         George Herman Ruth  inspiration  \n",
       "169          Flannery O'Connor      writing  \n",
       "170                Elinor Glyn  inspiration  \n",
       "171           Vincent Van Gogh  inspiration  \n",
       "172                  Anais Nin      writing  \n",
       "173           Thomas Jefferson  inspiration  \n",
       "174                Jack London  inspiration  \n",
       "175                Joss Whedon      writing  \n",
       "176              Louis L'Amour      writing  \n",
       "177            Roy T. Bennett,  inspiration  \n",
       "178                Saul Bellow      writing  \n",
       "179              Ray Bradbury,      writing  \n",
       "\n",
       "[180 rows x 3 columns]"
      ]
     },
     "execution_count": 335,
     "metadata": {},
     "output_type": "execute_result"
    }
   ],
   "source": [
    "quotes"
   ]
  },
  {
   "cell_type": "code",
   "execution_count": 336,
   "metadata": {},
   "outputs": [],
   "source": [
    "X = quotes['Quote']\n",
    "y = quotes['Tag']"
   ]
  },
  {
   "cell_type": "code",
   "execution_count": 337,
   "metadata": {},
   "outputs": [
    {
     "data": {
      "text/html": [
       "<div>\n",
       "<style scoped>\n",
       "    .dataframe tbody tr th:only-of-type {\n",
       "        vertical-align: middle;\n",
       "    }\n",
       "\n",
       "    .dataframe tbody tr th {\n",
       "        vertical-align: top;\n",
       "    }\n",
       "\n",
       "    .dataframe thead th {\n",
       "        text-align: right;\n",
       "    }\n",
       "</style>\n",
       "<table border=\"1\" class=\"dataframe\">\n",
       "  <thead>\n",
       "    <tr style=\"text-align: right;\">\n",
       "      <th></th>\n",
       "      <th>Quote</th>\n",
       "      <th>Author</th>\n",
       "      <th>Tag</th>\n",
       "    </tr>\n",
       "  </thead>\n",
       "  <tbody>\n",
       "    <tr>\n",
       "      <th>0</th>\n",
       "      <td>“I write to give myself strength. I write to b...</td>\n",
       "      <td>Joss Whedon</td>\n",
       "      <td>writing</td>\n",
       "    </tr>\n",
       "    <tr>\n",
       "      <th>1</th>\n",
       "      <td>“Learn to light a candle in the darkest moment...</td>\n",
       "      <td>Roy T. Bennett,</td>\n",
       "      <td>inspiration</td>\n",
       "    </tr>\n",
       "    <tr>\n",
       "      <th>2</th>\n",
       "      <td>“There is something delicious about writing th...</td>\n",
       "      <td>Beatrix Potter</td>\n",
       "      <td>writing</td>\n",
       "    </tr>\n",
       "    <tr>\n",
       "      <th>3</th>\n",
       "      <td>“Ordinary life is pretty complex stuff.”</td>\n",
       "      <td>Harvey Pekar</td>\n",
       "      <td>writing</td>\n",
       "    </tr>\n",
       "    <tr>\n",
       "      <th>4</th>\n",
       "      <td>“If you want to write, if you want to create, ...</td>\n",
       "      <td>Ray Bradbury</td>\n",
       "      <td>writing</td>\n",
       "    </tr>\n",
       "  </tbody>\n",
       "</table>\n",
       "</div>"
      ],
      "text/plain": [
       "                                               Quote           Author  \\\n",
       "0  “I write to give myself strength. I write to b...      Joss Whedon   \n",
       "1  “Learn to light a candle in the darkest moment...  Roy T. Bennett,   \n",
       "2  “There is something delicious about writing th...   Beatrix Potter   \n",
       "3           “Ordinary life is pretty complex stuff.”     Harvey Pekar   \n",
       "4  “If you want to write, if you want to create, ...     Ray Bradbury   \n",
       "\n",
       "           Tag  \n",
       "0      writing  \n",
       "1  inspiration  \n",
       "2      writing  \n",
       "3      writing  \n",
       "4      writing  "
      ]
     },
     "execution_count": 337,
     "metadata": {},
     "output_type": "execute_result"
    }
   ],
   "source": [
    "quotes.head()"
   ]
  },
  {
   "cell_type": "code",
   "execution_count": 338,
   "metadata": {},
   "outputs": [],
   "source": [
    "from sklearn.feature_extraction.text import CountVectorizer\n",
    "from nltk.corpus import stopwords\n",
    "from nltk.tokenize import word_tokenize\n",
    "from string import punctuation\n",
    "from nltk.stem import PorterStemmer, WordNetLemmatizer"
   ]
  },
  {
   "cell_type": "code",
   "execution_count": 339,
   "metadata": {},
   "outputs": [],
   "source": [
    "st = set(stopwords.words(\"english\"))\n",
    "punc = set(punctuation)\n",
    "ps = PorterStemmer()\n",
    "\n",
    "def custom(sent):\n",
    "    words = word_tokenize(sent.lower())\n",
    "    faaltu = st.union(punc)\n",
    "#     pure = [w for w in words if w not in faaltu]\n",
    "#     more_pure = list(map(ps.stem, words))\n",
    "    \n",
    "    return words"
   ]
  },
  {
   "cell_type": "code",
   "execution_count": 340,
   "metadata": {},
   "outputs": [],
   "source": [
    "cv = CountVectorizer()"
   ]
  },
  {
   "cell_type": "code",
   "execution_count": 341,
   "metadata": {},
   "outputs": [
    {
     "data": {
      "text/plain": [
       "CountVectorizer(analyzer='word', binary=False, decode_error='strict',\n",
       "                dtype=<class 'numpy.int64'>, encoding='utf-8', input='content',\n",
       "                lowercase=True, max_df=1.0, max_features=None, min_df=1,\n",
       "                ngram_range=(1, 1), preprocessor=None, stop_words=None,\n",
       "                strip_accents=None, token_pattern='(?u)\\\\b\\\\w\\\\w+\\\\b',\n",
       "                tokenizer=None, vocabulary=None)"
      ]
     },
     "execution_count": 341,
     "metadata": {},
     "output_type": "execute_result"
    }
   ],
   "source": [
    "cv.fit(X)"
   ]
  },
  {
   "cell_type": "code",
   "execution_count": 342,
   "metadata": {},
   "outputs": [],
   "source": [
    "X_gen = cv.transform(X).todense()"
   ]
  },
  {
   "cell_type": "code",
   "execution_count": 343,
   "metadata": {},
   "outputs": [],
   "source": [
    "# line = \"I am a very happy happy person\""
   ]
  },
  {
   "cell_type": "code",
   "execution_count": 344,
   "metadata": {},
   "outputs": [],
   "source": [
    "# custom(line)"
   ]
  },
  {
   "cell_type": "code",
   "execution_count": 345,
   "metadata": {},
   "outputs": [],
   "source": [
    "# cv.vocabulary_['happi']"
   ]
  },
  {
   "cell_type": "code",
   "execution_count": 346,
   "metadata": {},
   "outputs": [],
   "source": [
    "# print(cv.transform([line]))"
   ]
  },
  {
   "cell_type": "code",
   "execution_count": 347,
   "metadata": {},
   "outputs": [],
   "source": [
    "from sklearn.model_selection import train_test_split"
   ]
  },
  {
   "cell_type": "code",
   "execution_count": 348,
   "metadata": {},
   "outputs": [],
   "source": [
    "X_train, X_test, y_train, y_test = train_test_split(\n",
    "...     X_gen, y, test_size=0.33, random_state=42)"
   ]
  },
  {
   "cell_type": "code",
   "execution_count": 349,
   "metadata": {},
   "outputs": [
    {
     "data": {
      "text/plain": [
       "(180,)"
      ]
     },
     "execution_count": 349,
     "metadata": {},
     "output_type": "execute_result"
    }
   ],
   "source": [
    "y.shape"
   ]
  },
  {
   "cell_type": "code",
   "execution_count": 350,
   "metadata": {},
   "outputs": [],
   "source": [
    "from sklearn.naive_bayes import BernoulliNB, MultinomialNB, GaussianNB"
   ]
  },
  {
   "cell_type": "code",
   "execution_count": 351,
   "metadata": {},
   "outputs": [],
   "source": [
    "model1 = GaussianNB()"
   ]
  },
  {
   "cell_type": "code",
   "execution_count": 352,
   "metadata": {},
   "outputs": [
    {
     "data": {
      "text/plain": [
       "GaussianNB(priors=None, var_smoothing=1e-09)"
      ]
     },
     "execution_count": 352,
     "metadata": {},
     "output_type": "execute_result"
    }
   ],
   "source": [
    "model1.fit(X_train, y_train)"
   ]
  },
  {
   "cell_type": "code",
   "execution_count": 353,
   "metadata": {},
   "outputs": [
    {
     "data": {
      "text/plain": [
       "0.9916666666666667"
      ]
     },
     "execution_count": 353,
     "metadata": {},
     "output_type": "execute_result"
    }
   ],
   "source": [
    "model1.score(X_train, y_train)"
   ]
  },
  {
   "cell_type": "code",
   "execution_count": 354,
   "metadata": {},
   "outputs": [
    {
     "data": {
      "text/plain": [
       "0.7166666666666667"
      ]
     },
     "execution_count": 354,
     "metadata": {},
     "output_type": "execute_result"
    }
   ],
   "source": [
    "model1.score(X_test, y_test)"
   ]
  },
  {
   "cell_type": "code",
   "execution_count": 355,
   "metadata": {},
   "outputs": [],
   "source": [
    "model2 = BernoulliNB()"
   ]
  },
  {
   "cell_type": "code",
   "execution_count": 356,
   "metadata": {},
   "outputs": [
    {
     "data": {
      "text/plain": [
       "BernoulliNB(alpha=1.0, binarize=0.0, class_prior=None, fit_prior=True)"
      ]
     },
     "execution_count": 356,
     "metadata": {},
     "output_type": "execute_result"
    }
   ],
   "source": [
    "model2.fit(X_train, y_train)"
   ]
  },
  {
   "cell_type": "code",
   "execution_count": 357,
   "metadata": {},
   "outputs": [
    {
     "data": {
      "text/plain": [
       "0.9583333333333334"
      ]
     },
     "execution_count": 357,
     "metadata": {},
     "output_type": "execute_result"
    }
   ],
   "source": [
    "model2.score(X_train, y_train)"
   ]
  },
  {
   "cell_type": "code",
   "execution_count": 358,
   "metadata": {},
   "outputs": [
    {
     "data": {
      "text/plain": [
       "0.7166666666666667"
      ]
     },
     "execution_count": 358,
     "metadata": {},
     "output_type": "execute_result"
    }
   ],
   "source": [
    "model2.score(X_test, y_test)"
   ]
  },
  {
   "cell_type": "code",
   "execution_count": 359,
   "metadata": {},
   "outputs": [],
   "source": [
    "model3 = MultinomialNB()"
   ]
  },
  {
   "cell_type": "code",
   "execution_count": 360,
   "metadata": {},
   "outputs": [
    {
     "data": {
      "text/plain": [
       "MultinomialNB(alpha=1.0, class_prior=None, fit_prior=True)"
      ]
     },
     "execution_count": 360,
     "metadata": {},
     "output_type": "execute_result"
    }
   ],
   "source": [
    "model3.fit(X_train, y_train)"
   ]
  },
  {
   "cell_type": "code",
   "execution_count": 361,
   "metadata": {},
   "outputs": [
    {
     "data": {
      "text/plain": [
       "0.9833333333333333"
      ]
     },
     "execution_count": 361,
     "metadata": {},
     "output_type": "execute_result"
    }
   ],
   "source": [
    "model3.score(X_train, y_train)"
   ]
  },
  {
   "cell_type": "code",
   "execution_count": 362,
   "metadata": {},
   "outputs": [
    {
     "data": {
      "text/plain": [
       "0.7166666666666667"
      ]
     },
     "execution_count": 362,
     "metadata": {},
     "output_type": "execute_result"
    }
   ],
   "source": [
    "model3.score(X_test, y_test)"
   ]
  },
  {
   "cell_type": "code",
   "execution_count": 363,
   "metadata": {},
   "outputs": [],
   "source": [
    "line1 = \"this is a fine example of a sentence.this is writing pain is temporary\"\n",
    "line2 = \"Ordinary life is pretty\"\n",
    "line3 = \"Death's got an Invisibility Cloak? Harry\"\n",
    "line4 = \"Harry Potter is Dead!\""
   ]
  },
  {
   "cell_type": "code",
   "execution_count": 364,
   "metadata": {},
   "outputs": [],
   "source": [
    "gen = cv.transform(np.array([line1, line2, line3, line4])).todense()"
   ]
  },
  {
   "cell_type": "code",
   "execution_count": 365,
   "metadata": {},
   "outputs": [
    {
     "data": {
      "text/plain": [
       "array(['inspiration', 'inspiration', 'inspiration', 'inspiration'],\n",
       "      dtype='<U11')"
      ]
     },
     "execution_count": 365,
     "metadata": {},
     "output_type": "execute_result"
    }
   ],
   "source": [
    "model2.predict(gen)"
   ]
  },
  {
   "cell_type": "code",
   "execution_count": null,
   "metadata": {},
   "outputs": [],
   "source": []
  },
  {
   "cell_type": "code",
   "execution_count": null,
   "metadata": {},
   "outputs": [],
   "source": []
  },
  {
   "cell_type": "code",
   "execution_count": null,
   "metadata": {},
   "outputs": [],
   "source": []
  },
  {
   "cell_type": "code",
   "execution_count": null,
   "metadata": {},
   "outputs": [],
   "source": []
  },
  {
   "cell_type": "code",
   "execution_count": null,
   "metadata": {},
   "outputs": [],
   "source": []
  },
  {
   "cell_type": "code",
   "execution_count": null,
   "metadata": {},
   "outputs": [],
   "source": []
  },
  {
   "cell_type": "code",
   "execution_count": null,
   "metadata": {},
   "outputs": [],
   "source": []
  },
  {
   "cell_type": "code",
   "execution_count": null,
   "metadata": {},
   "outputs": [],
   "source": []
  },
  {
   "cell_type": "code",
   "execution_count": null,
   "metadata": {},
   "outputs": [],
   "source": []
  },
  {
   "cell_type": "code",
   "execution_count": null,
   "metadata": {},
   "outputs": [],
   "source": []
  },
  {
   "cell_type": "code",
   "execution_count": null,
   "metadata": {},
   "outputs": [],
   "source": []
  },
  {
   "cell_type": "code",
   "execution_count": null,
   "metadata": {},
   "outputs": [],
   "source": []
  },
  {
   "cell_type": "code",
   "execution_count": null,
   "metadata": {},
   "outputs": [],
   "source": []
  },
  {
   "cell_type": "code",
   "execution_count": null,
   "metadata": {},
   "outputs": [],
   "source": []
  },
  {
   "cell_type": "code",
   "execution_count": null,
   "metadata": {},
   "outputs": [],
   "source": []
  },
  {
   "cell_type": "code",
   "execution_count": null,
   "metadata": {},
   "outputs": [],
   "source": []
  },
  {
   "cell_type": "code",
   "execution_count": null,
   "metadata": {},
   "outputs": [],
   "source": []
  },
  {
   "cell_type": "code",
   "execution_count": null,
   "metadata": {},
   "outputs": [],
   "source": []
  },
  {
   "cell_type": "code",
   "execution_count": null,
   "metadata": {},
   "outputs": [],
   "source": []
  },
  {
   "cell_type": "code",
   "execution_count": null,
   "metadata": {},
   "outputs": [],
   "source": []
  },
  {
   "cell_type": "code",
   "execution_count": null,
   "metadata": {},
   "outputs": [],
   "source": []
  },
  {
   "cell_type": "code",
   "execution_count": null,
   "metadata": {},
   "outputs": [],
   "source": []
  },
  {
   "cell_type": "code",
   "execution_count": null,
   "metadata": {},
   "outputs": [],
   "source": []
  }
 ],
 "metadata": {
  "kernelspec": {
   "display_name": "Python 3",
   "language": "python",
   "name": "python3"
  },
  "language_info": {
   "codemirror_mode": {
    "name": "ipython",
    "version": 3
   },
   "file_extension": ".py",
   "mimetype": "text/x-python",
   "name": "python",
   "nbconvert_exporter": "python",
   "pygments_lexer": "ipython3",
   "version": "3.6.8"
  }
 },
 "nbformat": 4,
 "nbformat_minor": 2
}
