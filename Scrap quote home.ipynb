{
 "cells": [
  {
   "cell_type": "code",
   "execution_count": 1,
   "metadata": {},
   "outputs": [],
   "source": [
    "import requests"
   ]
  },
  {
   "cell_type": "code",
   "execution_count": 2,
   "metadata": {},
   "outputs": [],
   "source": [
    "from bs4 import BeautifulSoup"
   ]
  },
  {
   "cell_type": "code",
   "execution_count": 3,
   "metadata": {},
   "outputs": [],
   "source": [
    "url1 = \"https://www.goodreads.com/quotes?page=\""
   ]
  },
  {
   "cell_type": "code",
   "execution_count": 38,
   "metadata": {},
   "outputs": [],
   "source": [
    "i=1\n",
    "quote_dict = dict()\n",
    "q_t = list()\n",
    "q_a = list()\n",
    "while True :\n",
    "    url = url1+str(i)\n",
    "    data = requests.get(url)\n",
    "    soup = BeautifulSoup(data.text,\"lxml\")\n",
    "    quote_divs = soup.find_all(\"div\", attrs={\"class\": \"quote\"})\n",
    "    for quote_div in quote_divs :\n",
    "        quoteText = quote_div.find(\"div\", attrs={\"class\":\"quoteText\"})\n",
    "        quote_info = quoteText.text\n",
    "        quote_details = quote_info.strip().split(\"\\n\")\n",
    "        quote_text = quote_details[0]\n",
    "        quote_author = quote_details[3].strip()\n",
    "        q_t.append(quote_text)\n",
    "        q_a.append(quote_author)\n",
    "        \n",
    "#     print(i)\n",
    "    i=i+1\n",
    "    if i>3 :\n",
    "        break"
   ]
  },
  {
   "cell_type": "code",
   "execution_count": 44,
   "metadata": {},
   "outputs": [],
   "source": [
    "quote_dict = {\"Quote\" : q_t,\n",
    "             \"Author\" : q_a\n",
    "             }"
   ]
  },
  {
   "cell_type": "code",
   "execution_count": 45,
   "metadata": {},
   "outputs": [],
   "source": [
    "import pandas as pd"
   ]
  },
  {
   "cell_type": "code",
   "execution_count": 46,
   "metadata": {},
   "outputs": [],
   "source": [
    "df = pd.DataFrame.from_dict(quote_dict)"
   ]
  },
  {
   "cell_type": "code",
   "execution_count": 47,
   "metadata": {},
   "outputs": [],
   "source": [
    "df.to_csv(\"quote_home.csv\")"
   ]
  },
  {
   "cell_type": "code",
   "execution_count": null,
   "metadata": {},
   "outputs": [],
   "source": []
  }
 ],
 "metadata": {
  "kernelspec": {
   "display_name": "Python 3",
   "language": "python",
   "name": "python3"
  },
  "language_info": {
   "codemirror_mode": {
    "name": "ipython",
    "version": 3
   },
   "file_extension": ".py",
   "mimetype": "text/x-python",
   "name": "python",
   "nbconvert_exporter": "python",
   "pygments_lexer": "ipython3",
   "version": "3.6.5"
  }
 },
 "nbformat": 4,
 "nbformat_minor": 2
}
