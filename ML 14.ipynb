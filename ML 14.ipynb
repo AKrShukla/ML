{
 "cells": [
  {
   "cell_type": "code",
   "execution_count": 8,
   "metadata": {},
   "outputs": [],
   "source": [
    "import numpy as np\n",
    "import pandas as pd\n",
    "import matplotlib.pyplot as plt\n",
    "from sklearn.datasets import make_blobs\n",
    "from sklearn.model_selection import train_test_split\n",
    "from sklearn.preprocessing import OneHotEncoder\n",
    "\n",
    "\n",
    "from keras.models import Model\n",
    "from keras.layers import Dense, Input\n",
    "\n",
    "from keras.optimizers import Adam\n",
    "from keras.losses import categorical_crossentropy\n",
    "\n",
    "\n",
    "from PIL import Image\n",
    "import PIL.ImageOps"
   ]
  },
  {
   "cell_type": "code",
   "execution_count": 2,
   "metadata": {},
   "outputs": [],
   "source": [
    "data = pd.read_csv(\"mnist_train_small.csv\")"
   ]
  },
  {
   "cell_type": "code",
   "execution_count": 3,
   "metadata": {},
   "outputs": [],
   "source": [
    "X = data.values[:,2:]\n",
    "y = data.values[:,1]"
   ]
  },
  {
   "cell_type": "code",
   "execution_count": 4,
   "metadata": {},
   "outputs": [],
   "source": [
    "ohe = OneHotEncoder(categories=\"auto\")"
   ]
  },
  {
   "cell_type": "code",
   "execution_count": 5,
   "metadata": {},
   "outputs": [],
   "source": [
    "y_hot = ohe.fit_transform(y.reshape(-1,1)).todense()"
   ]
  },
  {
   "cell_type": "code",
   "execution_count": 7,
   "metadata": {},
   "outputs": [],
   "source": [
    "X_train, X_test, y_train, y_test = train_test_split(\n",
    "...     X, y_hot, test_size=0.33, random_state=42)"
   ]
  },
  {
   "cell_type": "code",
   "execution_count": 32,
   "metadata": {},
   "outputs": [],
   "source": [
    "in_layer = Input(shape=[784])\n",
    "dense_1 = Dense(200, activation=\"tanh\")(in_layer)\n",
    "\n",
    "dense_2 = Dense(50, activation=\"tanh\")(dense_1)\n",
    "\n",
    "out = Dense(10, activation=\"softmax\")(dense_2)\n"
   ]
  },
  {
   "cell_type": "code",
   "execution_count": 33,
   "metadata": {},
   "outputs": [],
   "source": [
    "model = Model(inputs=[in_layer], outputs=[out])"
   ]
  },
  {
   "cell_type": "code",
   "execution_count": 34,
   "metadata": {},
   "outputs": [
    {
     "name": "stdout",
     "output_type": "stream",
     "text": [
      "_________________________________________________________________\n",
      "Layer (type)                 Output Shape              Param #   \n",
      "=================================================================\n",
      "input_4 (InputLayer)         (None, 784)               0         \n",
      "_________________________________________________________________\n",
      "dense_10 (Dense)             (None, 200)               157000    \n",
      "_________________________________________________________________\n",
      "dense_11 (Dense)             (None, 50)                10050     \n",
      "_________________________________________________________________\n",
      "dense_12 (Dense)             (None, 10)                510       \n",
      "=================================================================\n",
      "Total params: 167,560\n",
      "Trainable params: 167,560\n",
      "Non-trainable params: 0\n",
      "_________________________________________________________________\n"
     ]
    }
   ],
   "source": [
    "model.summary()"
   ]
  },
  {
   "cell_type": "code",
   "execution_count": 35,
   "metadata": {},
   "outputs": [],
   "source": [
    "model.compile(optimizer=\"adam\", loss=\"categorical_crossentropy\", metrics=[\"accuracy\"])"
   ]
  },
  {
   "cell_type": "code",
   "execution_count": 36,
   "metadata": {},
   "outputs": [
    {
     "name": "stdout",
     "output_type": "stream",
     "text": [
      "Epoch 1/50\n",
      "5360/5360 [==============================] - 1s 122us/step - loss: 1.4083 - acc: 0.5614\n",
      "Epoch 2/50\n",
      "5360/5360 [==============================] - 0s 53us/step - loss: 0.7259 - acc: 0.8000\n",
      "Epoch 3/50\n",
      "5360/5360 [==============================] - 0s 55us/step - loss: 0.5296 - acc: 0.8539\n",
      "Epoch 4/50\n",
      "5360/5360 [==============================] - 0s 51us/step - loss: 0.4501 - acc: 0.8793\n",
      "Epoch 5/50\n",
      "5360/5360 [==============================] - 0s 55us/step - loss: 0.3932 - acc: 0.8974\n",
      "Epoch 6/50\n",
      "5360/5360 [==============================] - 0s 59us/step - loss: 0.3708 - acc: 0.9022\n",
      "Epoch 7/50\n",
      "5360/5360 [==============================] - 0s 60us/step - loss: 0.3417 - acc: 0.9084\n",
      "Epoch 8/50\n",
      "5360/5360 [==============================] - 0s 53us/step - loss: 0.3323 - acc: 0.9095\n",
      "Epoch 9/50\n",
      "5360/5360 [==============================] - 0s 55us/step - loss: 0.3216 - acc: 0.9106\n",
      "Epoch 10/50\n",
      "5360/5360 [==============================] - 0s 62us/step - loss: 0.2955 - acc: 0.9211\n",
      "Epoch 11/50\n",
      "5360/5360 [==============================] - 0s 54us/step - loss: 0.2929 - acc: 0.9177\n",
      "Epoch 12/50\n",
      "5360/5360 [==============================] - 0s 55us/step - loss: 0.3039 - acc: 0.9110\n",
      "Epoch 13/50\n",
      "5360/5360 [==============================] - 0s 57us/step - loss: 0.2936 - acc: 0.9157\n",
      "Epoch 14/50\n",
      "5360/5360 [==============================] - 0s 55us/step - loss: 0.2830 - acc: 0.9153\n",
      "Epoch 15/50\n",
      "5360/5360 [==============================] - 0s 57us/step - loss: 0.2681 - acc: 0.9211\n",
      "Epoch 16/50\n",
      "5360/5360 [==============================] - 0s 65us/step - loss: 0.2596 - acc: 0.9201\n",
      "Epoch 17/50\n",
      "5360/5360 [==============================] - 0s 61us/step - loss: 0.2524 - acc: 0.9267\n",
      "Epoch 18/50\n",
      "5360/5360 [==============================] - 0s 68us/step - loss: 0.2594 - acc: 0.9239\n",
      "Epoch 19/50\n",
      "5360/5360 [==============================] - 0s 57us/step - loss: 0.2482 - acc: 0.9295\n",
      "Epoch 20/50\n",
      "5360/5360 [==============================] - 0s 59us/step - loss: 0.2273 - acc: 0.9328\n",
      "Epoch 21/50\n",
      "5360/5360 [==============================] - 0s 64us/step - loss: 0.2175 - acc: 0.9321\n",
      "Epoch 22/50\n",
      "5360/5360 [==============================] - 0s 67us/step - loss: 0.2202 - acc: 0.9323\n",
      "Epoch 23/50\n",
      "5360/5360 [==============================] - 0s 74us/step - loss: 0.2187 - acc: 0.9375\n",
      "Epoch 24/50\n",
      "5360/5360 [==============================] - 0s 54us/step - loss: 0.2094 - acc: 0.9386\n",
      "Epoch 25/50\n",
      "5360/5360 [==============================] - 0s 57us/step - loss: 0.2003 - acc: 0.9418\n",
      "Epoch 26/50\n",
      "5360/5360 [==============================] - 0s 57us/step - loss: 0.2171 - acc: 0.9343\n",
      "Epoch 27/50\n",
      "5360/5360 [==============================] - 0s 54us/step - loss: 0.1997 - acc: 0.9420\n",
      "Epoch 28/50\n",
      "5360/5360 [==============================] - 0s 64us/step - loss: 0.2026 - acc: 0.9407\n",
      "Epoch 29/50\n",
      "5360/5360 [==============================] - 0s 67us/step - loss: 0.2145 - acc: 0.9386\n",
      "Epoch 30/50\n",
      "5360/5360 [==============================] - 0s 62us/step - loss: 0.2152 - acc: 0.9330\n",
      "Epoch 31/50\n",
      "5360/5360 [==============================] - 0s 88us/step - loss: 0.2035 - acc: 0.9362\n",
      "Epoch 32/50\n",
      "5360/5360 [==============================] - 0s 57us/step - loss: 0.2217 - acc: 0.9295\n",
      "Epoch 33/50\n",
      "5360/5360 [==============================] - 0s 71us/step - loss: 0.2174 - acc: 0.9304\n",
      "Epoch 34/50\n",
      "5360/5360 [==============================] - 0s 62us/step - loss: 0.2077 - acc: 0.9356\n",
      "Epoch 35/50\n",
      "5360/5360 [==============================] - 0s 64us/step - loss: 0.2164 - acc: 0.9315\n",
      "Epoch 36/50\n",
      "5360/5360 [==============================] - 0s 60us/step - loss: 0.2072 - acc: 0.9345\n",
      "Epoch 37/50\n",
      "5360/5360 [==============================] - 0s 65us/step - loss: 0.1965 - acc: 0.9414\n",
      "Epoch 38/50\n",
      "5360/5360 [==============================] - 0s 63us/step - loss: 0.1834 - acc: 0.9450\n",
      "Epoch 39/50\n",
      "5360/5360 [==============================] - 0s 59us/step - loss: 0.1935 - acc: 0.9394\n",
      "Epoch 40/50\n",
      "5360/5360 [==============================] - 0s 67us/step - loss: 0.1890 - acc: 0.9431\n",
      "Epoch 41/50\n",
      "5360/5360 [==============================] - 0s 56us/step - loss: 0.1875 - acc: 0.9438\n",
      "Epoch 42/50\n",
      "5360/5360 [==============================] - 0s 66us/step - loss: 0.1853 - acc: 0.9431\n",
      "Epoch 43/50\n",
      "5360/5360 [==============================] - 0s 59us/step - loss: 0.1744 - acc: 0.9461\n",
      "Epoch 44/50\n",
      "5360/5360 [==============================] - 0s 76us/step - loss: 0.1721 - acc: 0.9483\n",
      "Epoch 45/50\n",
      "5360/5360 [==============================] - 0s 67us/step - loss: 0.1926 - acc: 0.9409\n",
      "Epoch 46/50\n",
      "5360/5360 [==============================] - 0s 68us/step - loss: 0.1907 - acc: 0.9407\n",
      "Epoch 47/50\n",
      "5360/5360 [==============================] - 0s 67us/step - loss: 0.1851 - acc: 0.9397\n",
      "Epoch 48/50\n",
      "5360/5360 [==============================] - 0s 57us/step - loss: 0.1942 - acc: 0.9381\n",
      "Epoch 49/50\n",
      "5360/5360 [==============================] - 0s 57us/step - loss: 0.1940 - acc: 0.9382\n",
      "Epoch 50/50\n",
      "5360/5360 [==============================] - 0s 59us/step - loss: 0.2088 - acc: 0.9368\n"
     ]
    }
   ],
   "source": [
    "hist = model.fit(X_train, y_train, epochs=50, batch_size=200)"
   ]
  },
  {
   "cell_type": "code",
   "execution_count": 37,
   "metadata": {},
   "outputs": [
    {
     "name": "stdout",
     "output_type": "stream",
     "text": [
      "2640/2640 [==============================] - 0s 92us/step\n"
     ]
    },
    {
     "data": {
      "text/plain": [
       "[0.325494905222546, 0.9003787878787879]"
      ]
     },
     "execution_count": 37,
     "metadata": {},
     "output_type": "execute_result"
    }
   ],
   "source": [
    "model.evaluate(X_test,y_test)"
   ]
  },
  {
   "cell_type": "code",
   "execution_count": 42,
   "metadata": {},
   "outputs": [
    {
     "data": {
      "text/plain": [
       "[<matplotlib.lines.Line2D at 0x7fe674cbc668>]"
      ]
     },
     "execution_count": 42,
     "metadata": {},
     "output_type": "execute_result"
    },
    {
     "data": {
      "image/png": "[encoded data removed]",
      "text/plain": [
       "<Figure size 432x288 with 1 Axes>"
      ]
     },
     "metadata": {},
     "output_type": "display_data"
    }
   ],
   "source": [
    "plt.plot(hist.history[\"acc\"])"
   ]
  },
  {
   "cell_type": "code",
   "execution_count": 43,
   "metadata": {},
   "outputs": [
    {
     "data": {
      "text/plain": [
       "[<matplotlib.lines.Line2D at 0x7fe674ca6908>]"
      ]
     },
     "execution_count": 43,
     "metadata": {},
     "output_type": "execute_result"
    },
    {
     "data": {
      "image/png": "[encoded data removed]",
      "text/plain": [
       "<Figure size 432x288 with 1 Axes>"
      ]
     },
     "metadata": {},
     "output_type": "display_data"
    }
   ],
   "source": [
    "plt.plot(hist.history[\"loss\"])"
   ]
  },
  {
   "cell_type": "code",
   "execution_count": null,
   "metadata": {},
   "outputs": [],
   "source": []
  }
 ],
 "metadata": {
  "kernelspec": {
   "display_name": "Python 3",
   "language": "python",
   "name": "python3"
  },
  "language_info": {
   "codemirror_mode": {
    "name": "ipython",
    "version": 3
   },
   "file_extension": ".py",
   "mimetype": "text/x-python",
   "name": "python",
   "nbconvert_exporter": "python",
   "pygments_lexer": "ipython3",
   "version": "3.6.8"
  }
 },
 "nbformat": 4,
 "nbformat_minor": 2
}
