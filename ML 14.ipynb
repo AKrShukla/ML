{
 "cells": [
  {
   "cell_type": "code",
   "execution_count": 66,
   "metadata": {},
   "outputs": [],
   "source": [
    "import numpy as np\n",
    "import pandas as pd\n",
    "import matplotlib.pyplot as plt\n",
    "from sklearn.datasets import make_blobs\n",
    "from sklearn.model_selection import train_test_split\n",
    "from sklearn.preprocessing import OneHotEncoder\n",
    "\n",
    "\n",
    "from keras.models import Model\n",
    "from keras.layers import Dense, Input, Dropout\n",
    "\n",
    "from keras.optimizers import Adam\n",
    "from keras.losses import categorical_crossentropy\n",
    "\n",
    "\n",
    "from PIL import Image\n",
    "import PIL.ImageOps"
   ]
  },
  {
   "cell_type": "code",
   "execution_count": 67,
   "metadata": {},
   "outputs": [],
   "source": [
    "data = pd.read_csv(\"mnist_train_small.csv\")"
   ]
  },
  {
   "cell_type": "code",
   "execution_count": 68,
   "metadata": {},
   "outputs": [],
   "source": [
    "X = data.values[:,2:]\n",
    "y = data.values[:,1]"
   ]
  },
  {
   "cell_type": "code",
   "execution_count": 69,
   "metadata": {},
   "outputs": [],
   "source": [
    "ohe = OneHotEncoder(categories=\"auto\")"
   ]
  },
  {
   "cell_type": "code",
   "execution_count": 70,
   "metadata": {},
   "outputs": [],
   "source": [
    "y_hot = ohe.fit_transform(y.reshape(-1,1)).todense()"
   ]
  },
  {
   "cell_type": "code",
   "execution_count": 71,
   "metadata": {},
   "outputs": [],
   "source": [
    "X_train, X_test, y_train, y_test = train_test_split(\n",
    "...     X, y_hot, test_size=0.33, random_state=42)"
   ]
  },
  {
   "cell_type": "code",
   "execution_count": 144,
   "metadata": {},
   "outputs": [],
   "source": [
    "in_layer = Input(shape=[784])\n",
    "dense_1 = Dense(200, activation=\"tanh\")(in_layer)\n",
    "\n",
    "dense_2 = Dense(100, activation=\"tanh\")(dense_1)\n",
    "drop = Dropout(rate=.5)(dense_2)\n",
    "dense_3 = Dense(50, activation=\"tanh\")(drop)\n",
    "\n",
    "out = Dense(10, activation=\"softmax\")(dense_3)\n"
   ]
  },
  {
   "cell_type": "code",
   "execution_count": 145,
   "metadata": {},
   "outputs": [],
   "source": [
    "model = Model(inputs=[in_layer], outputs=[out])"
   ]
  },
  {
   "cell_type": "code",
   "execution_count": 146,
   "metadata": {},
   "outputs": [
    {
     "name": "stdout",
     "output_type": "stream",
     "text": [
      "_________________________________________________________________\n",
      "Layer (type)                 Output Shape              Param #   \n",
      "=================================================================\n",
      "input_7 (InputLayer)         (None, 784)               0         \n",
      "_________________________________________________________________\n",
      "dense_19 (Dense)             (None, 200)               157000    \n",
      "_________________________________________________________________\n",
      "dense_20 (Dense)             (None, 100)               20100     \n",
      "_________________________________________________________________\n",
      "dropout_2 (Dropout)          (None, 100)               0         \n",
      "_________________________________________________________________\n",
      "dense_21 (Dense)             (None, 50)                5050      \n",
      "_________________________________________________________________\n",
      "dense_22 (Dense)             (None, 10)                510       \n",
      "=================================================================\n",
      "Total params: 182,660\n",
      "Trainable params: 182,660\n",
      "Non-trainable params: 0\n",
      "_________________________________________________________________\n"
     ]
    }
   ],
   "source": [
    "model.summary()"
   ]
  },
  {
   "cell_type": "code",
   "execution_count": 147,
   "metadata": {},
   "outputs": [],
   "source": [
    "model.compile(optimizer=\"adam\", loss=\"categorical_crossentropy\", metrics=[\"accuracy\"])"
   ]
  },
  {
   "cell_type": "code",
   "execution_count": 148,
   "metadata": {},
   "outputs": [
    {
     "name": "stdout",
     "output_type": "stream",
     "text": [
      "Epoch 1/50\n",
      "5360/5360 [==============================] - 1s 168us/step - loss: 1.7828 - acc: 0.3991\n",
      "Epoch 2/50\n",
      "5360/5360 [==============================] - 0s 69us/step - loss: 0.9965 - acc: 0.6993\n",
      "Epoch 3/50\n",
      "5360/5360 [==============================] - 0s 64us/step - loss: 0.7498 - acc: 0.7823\n",
      "Epoch 4/50\n",
      "5360/5360 [==============================] - 0s 73us/step - loss: 0.6211 - acc: 0.8237\n",
      "Epoch 5/50\n",
      "5360/5360 [==============================] - 0s 74us/step - loss: 0.5427 - acc: 0.8373\n",
      "Epoch 6/50\n",
      "5360/5360 [==============================] - 0s 63us/step - loss: 0.4955 - acc: 0.8470\n",
      "Epoch 7/50\n",
      "5360/5360 [==============================] - 0s 65us/step - loss: 0.4679 - acc: 0.8655\n",
      "Epoch 8/50\n",
      "5360/5360 [==============================] - 0s 65us/step - loss: 0.4683 - acc: 0.8543\n",
      "Epoch 9/50\n",
      "5360/5360 [==============================] - 0s 69us/step - loss: 0.4273 - acc: 0.8701\n",
      "Epoch 10/50\n",
      "5360/5360 [==============================] - 0s 58us/step - loss: 0.4211 - acc: 0.8739\n",
      "Epoch 11/50\n",
      "5360/5360 [==============================] - 0s 57us/step - loss: 0.4030 - acc: 0.8772\n",
      "Epoch 12/50\n",
      "5360/5360 [==============================] - 0s 55us/step - loss: 0.3857 - acc: 0.8832\n",
      "Epoch 13/50\n",
      "5360/5360 [==============================] - 0s 60us/step - loss: 0.3844 - acc: 0.8812\n",
      "Epoch 14/50\n",
      "5360/5360 [==============================] - 0s 59us/step - loss: 0.3785 - acc: 0.8797\n",
      "Epoch 15/50\n",
      "5360/5360 [==============================] - 0s 65us/step - loss: 0.3707 - acc: 0.8877\n",
      "Epoch 16/50\n",
      "5360/5360 [==============================] - 0s 59us/step - loss: 0.3557 - acc: 0.8927\n",
      "Epoch 17/50\n",
      "5360/5360 [==============================] - 0s 59us/step - loss: 0.3542 - acc: 0.8907\n",
      "Epoch 18/50\n",
      "5360/5360 [==============================] - 0s 60us/step - loss: 0.3578 - acc: 0.8905\n",
      "Epoch 19/50\n",
      "5360/5360 [==============================] - 0s 61us/step - loss: 0.3621 - acc: 0.8849\n",
      "Epoch 20/50\n",
      "5360/5360 [==============================] - 0s 65us/step - loss: 0.3601 - acc: 0.8892\n",
      "Epoch 21/50\n",
      "5360/5360 [==============================] - 0s 60us/step - loss: 0.3413 - acc: 0.8931\n",
      "Epoch 22/50\n",
      "5360/5360 [==============================] - 0s 58us/step - loss: 0.3446 - acc: 0.8925\n",
      "Epoch 23/50\n",
      "5360/5360 [==============================] - 0s 63us/step - loss: 0.3259 - acc: 0.8948\n",
      "Epoch 24/50\n",
      "5360/5360 [==============================] - 0s 57us/step - loss: 0.3080 - acc: 0.9045\n",
      "Epoch 25/50\n",
      "5360/5360 [==============================] - 0s 59us/step - loss: 0.3204 - acc: 0.9045\n",
      "Epoch 26/50\n",
      "5360/5360 [==============================] - 0s 63us/step - loss: 0.3032 - acc: 0.9043\n",
      "Epoch 27/50\n",
      "5360/5360 [==============================] - 0s 58us/step - loss: 0.3071 - acc: 0.9065\n",
      "Epoch 28/50\n",
      "5360/5360 [==============================] - 0s 60us/step - loss: 0.3179 - acc: 0.9000\n",
      "Epoch 29/50\n",
      "5360/5360 [==============================] - 0s 60us/step - loss: 0.2925 - acc: 0.9086\n",
      "Epoch 30/50\n",
      "5360/5360 [==============================] - 0s 57us/step - loss: 0.2872 - acc: 0.9132\n",
      "Epoch 31/50\n",
      "5360/5360 [==============================] - 0s 61us/step - loss: 0.3002 - acc: 0.9058\n",
      "Epoch 32/50\n",
      "5360/5360 [==============================] - 0s 60us/step - loss: 0.2943 - acc: 0.9080\n",
      "Epoch 33/50\n",
      "5360/5360 [==============================] - 0s 61us/step - loss: 0.2906 - acc: 0.9114\n",
      "Epoch 34/50\n",
      "5360/5360 [==============================] - 0s 60us/step - loss: 0.3034 - acc: 0.9086\n",
      "Epoch 35/50\n",
      "5360/5360 [==============================] - 0s 67us/step - loss: 0.2998 - acc: 0.9108\n",
      "Epoch 36/50\n",
      "5360/5360 [==============================] - 0s 62us/step - loss: 0.3043 - acc: 0.9065\n",
      "Epoch 37/50\n",
      "5360/5360 [==============================] - 0s 60us/step - loss: 0.2979 - acc: 0.9080\n",
      "Epoch 38/50\n",
      "5360/5360 [==============================] - 0s 65us/step - loss: 0.2883 - acc: 0.9108\n",
      "Epoch 39/50\n",
      "5360/5360 [==============================] - 0s 59us/step - loss: 0.3015 - acc: 0.9065\n",
      "Epoch 40/50\n",
      "5360/5360 [==============================] - 0s 68us/step - loss: 0.3082 - acc: 0.9037\n",
      "Epoch 41/50\n",
      "5360/5360 [==============================] - 0s 63us/step - loss: 0.2949 - acc: 0.9049\n",
      "Epoch 42/50\n",
      "5360/5360 [==============================] - 0s 65us/step - loss: 0.2867 - acc: 0.9101\n",
      "Epoch 43/50\n",
      "5360/5360 [==============================] - 0s 55us/step - loss: 0.2761 - acc: 0.9166\n",
      "Epoch 44/50\n",
      "5360/5360 [==============================] - 0s 57us/step - loss: 0.2805 - acc: 0.9119\n",
      "Epoch 45/50\n",
      "5360/5360 [==============================] - 0s 59us/step - loss: 0.2837 - acc: 0.9140\n",
      "Epoch 46/50\n",
      "5360/5360 [==============================] - 0s 64us/step - loss: 0.2821 - acc: 0.9129\n",
      "Epoch 47/50\n",
      "5360/5360 [==============================] - 0s 59us/step - loss: 0.2681 - acc: 0.9201\n",
      "Epoch 48/50\n",
      "5360/5360 [==============================] - 0s 60us/step - loss: 0.2700 - acc: 0.9140\n",
      "Epoch 49/50\n",
      "5360/5360 [==============================] - 0s 66us/step - loss: 0.2989 - acc: 0.9050\n",
      "Epoch 50/50\n",
      "5360/5360 [==============================] - 0s 58us/step - loss: 0.3069 - acc: 0.9026\n"
     ]
    }
   ],
   "source": [
    "hist = model.fit(X_train, y_train, epochs=50, batch_size=200)"
   ]
  },
  {
   "cell_type": "code",
   "execution_count": 149,
   "metadata": {},
   "outputs": [
    {
     "name": "stdout",
     "output_type": "stream",
     "text": [
      "2640/2640 [==============================] - 0s 161us/step\n"
     ]
    },
    {
     "data": {
      "text/plain": [
       "[0.3357623464230335, 0.9011363636363636]"
      ]
     },
     "execution_count": 149,
     "metadata": {},
     "output_type": "execute_result"
    }
   ],
   "source": [
    "model.evaluate(X_test,y_test)"
   ]
  },
  {
   "cell_type": "code",
   "execution_count": 150,
   "metadata": {},
   "outputs": [
    {
     "data": {
      "text/plain": [
       "[<matplotlib.lines.Line2D at 0x7fe6ad0334e0>]"
      ]
     },
     "execution_count": 150,
     "metadata": {},
     "output_type": "execute_result"
    },
    {
     "data": {
      "image/png": "[encoded data removed]",
      "text/plain": [
       "<Figure size 432x288 with 1 Axes>"
      ]
     },
     "metadata": {},
     "output_type": "display_data"
    }
   ],
   "source": [
    "plt.plot(hist.history[\"acc\"])"
   ]
  },
  {
   "cell_type": "code",
   "execution_count": 151,
   "metadata": {},
   "outputs": [
    {
     "data": {
      "text/plain": [
       "[<matplotlib.lines.Line2D at 0x7fe6acf8c5c0>]"
      ]
     },
     "execution_count": 151,
     "metadata": {},
     "output_type": "execute_result"
    },
    {
     "data": {
      "image/png": "[encoded data removed]",
      "text/plain": [
       "<Figure size 432x288 with 1 Axes>"
      ]
     },
     "metadata": {},
     "output_type": "display_data"
    }
   ],
   "source": [
    "plt.plot(hist.history[\"loss\"])"
   ]
  },
  {
   "cell_type": "code",
   "execution_count": 152,
   "metadata": {},
   "outputs": [],
   "source": [
    "import cv2"
   ]
  },
  {
   "cell_type": "code",
   "execution_count": 153,
   "metadata": {},
   "outputs": [],
   "source": [
    "img = cv2.imread(\"nums/five.jpeg\")"
   ]
  },
  {
   "cell_type": "code",
   "execution_count": 154,
   "metadata": {},
   "outputs": [],
   "source": [
    "gray = cv2.cvtColor(img, cv2.COLOR_BGR2GRAY)"
   ]
  },
  {
   "cell_type": "code",
   "execution_count": 155,
   "metadata": {},
   "outputs": [],
   "source": [
    "small = cv2.resize(gray, (28,28))"
   ]
  },
  {
   "cell_type": "code",
   "execution_count": 156,
   "metadata": {},
   "outputs": [
    {
     "data": {
      "text/plain": [
       "<matplotlib.image.AxesImage at 0x7fe6acf6f8d0>"
      ]
     },
     "execution_count": 156,
     "metadata": {},
     "output_type": "execute_result"
    },
    {
     "data": {
      "image/png": "[encoded data removed]",
      "text/plain": [
       "<Figure size 432x288 with 1 Axes>"
      ]
     },
     "metadata": {},
     "output_type": "display_data"
    }
   ],
   "source": [
    "plt.imshow(small, cmap=\"gray\")"
   ]
  },
  {
   "cell_type": "code",
   "execution_count": 157,
   "metadata": {},
   "outputs": [],
   "source": [
    "invert = (small < 100).astype(int) * 255"
   ]
  },
  {
   "cell_type": "code",
   "execution_count": 158,
   "metadata": {},
   "outputs": [
    {
     "data": {
      "text/plain": [
       "<matplotlib.image.AxesImage at 0x7fe6acec9940>"
      ]
     },
     "execution_count": 158,
     "metadata": {},
     "output_type": "execute_result"
    },
    {
     "data": {
      "image/png": "[encoded data removed]",
      "text/plain": [
       "<Figure size 432x288 with 1 Axes>"
      ]
     },
     "metadata": {},
     "output_type": "display_data"
    }
   ],
   "source": [
    "plt.imshow(invert, cmap=\"gray\")"
   ]
  },
  {
   "cell_type": "code",
   "execution_count": 159,
   "metadata": {},
   "outputs": [
    {
     "data": {
      "text/plain": [
       "6"
      ]
     },
     "execution_count": 159,
     "metadata": {},
     "output_type": "execute_result"
    }
   ],
   "source": [
    "np.argmax(model.predict(invert.flatten().reshape(1,-1)))"
   ]
  },
  {
   "cell_type": "code",
   "execution_count": null,
   "metadata": {},
   "outputs": [],
   "source": []
  },
  {
   "cell_type": "code",
   "execution_count": null,
   "metadata": {},
   "outputs": [],
   "source": []
  }
 ],
 "metadata": {
  "kernelspec": {
   "display_name": "Python 3",
   "language": "python",
   "name": "python3"
  },
  "language_info": {
   "codemirror_mode": {
    "name": "ipython",
    "version": 3
   },
   "file_extension": ".py",
   "mimetype": "text/x-python",
   "name": "python",
   "nbconvert_exporter": "python",
   "pygments_lexer": "ipython3",
   "version": "3.6.8"
  }
 },
 "nbformat": 4,
 "nbformat_minor": 2
}
