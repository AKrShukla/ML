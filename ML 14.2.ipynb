{
 "cells": [
  {
   "cell_type": "code",
   "execution_count": 1,
   "metadata": {},
   "outputs": [
    {
     "name": "stderr",
     "output_type": "stream",
     "text": [
      "Using TensorFlow backend.\n"
     ]
    }
   ],
   "source": [
    "import numpy as np\n",
    "import pandas as pd\n",
    "import matplotlib.pyplot as plt\n",
    "from sklearn.datasets import make_blobs\n",
    "from sklearn.model_selection import train_test_split\n",
    "from sklearn.preprocessing import OneHotEncoder\n",
    "\n",
    "\n",
    "from keras.models import Model\n",
    "from keras.layers import Dense, Input, Dropout\n",
    "\n",
    "from keras.optimizers import Adam\n",
    "from keras.losses import categorical_crossentropy\n",
    "\n",
    "\n",
    "from PIL import Image\n",
    "import PIL.ImageOps"
   ]
  },
  {
   "cell_type": "code",
   "execution_count": 2,
   "metadata": {},
   "outputs": [],
   "source": [
    "data = pd.read_csv(\"mnist_train_small.csv\")"
   ]
  },
  {
   "cell_type": "code",
   "execution_count": 3,
   "metadata": {},
   "outputs": [],
   "source": [
    "X = data.values[:,2:]\n",
    "y = data.values[:,1]"
   ]
  },
  {
   "cell_type": "code",
   "execution_count": 4,
   "metadata": {},
   "outputs": [],
   "source": [
    "ohe = OneHotEncoder(categories=\"auto\")"
   ]
  },
  {
   "cell_type": "code",
   "execution_count": 5,
   "metadata": {},
   "outputs": [],
   "source": [
    "y_hot = ohe.fit_transform(y.reshape(-1,1)).todense()"
   ]
  },
  {
   "cell_type": "code",
   "execution_count": 7,
   "metadata": {},
   "outputs": [],
   "source": [
    "y_oe_hot = (ohe.fit_transform((y%2).reshape(-1,1))).todense()"
   ]
  },
  {
   "cell_type": "code",
   "execution_count": null,
   "metadata": {},
   "outputs": [],
   "source": []
  },
  {
   "cell_type": "code",
   "execution_count": null,
   "metadata": {},
   "outputs": [],
   "source": []
  },
  {
   "cell_type": "code",
   "execution_count": null,
   "metadata": {},
   "outputs": [],
   "source": []
  },
  {
   "cell_type": "code",
   "execution_count": 203,
   "metadata": {},
   "outputs": [],
   "source": [
    "in_layer = Input(shape=[784])\n",
    "dense_1 = Dense(200, activation=\"tanh\")(in_layer)\n",
    "\n",
    "drop_1 = Dropout(rate=.25)(dense_1)\n",
    "dense_21 = Dense(100, activation=\"relu\")(drop_1)\n",
    "dense_22 = Dense(100, activation=\"tanh\")(dense_1)\n",
    "drop_21 = Dropout(rate=.25)(dense_21)\n",
    "dense_31 = Dense(50, activation=\"relu\")(drop_21)\n",
    "dense_32 = Dense(50, activation=\"tanh\")(dense_22)\n",
    "\n",
    "out_1 = Dense(10, activation=\"softmax\")(dense_31)\n",
    "out_2 = Dense(2, activation=\"softmax\")(dense_32)\n"
   ]
  },
  {
   "cell_type": "code",
   "execution_count": 204,
   "metadata": {},
   "outputs": [],
   "source": [
    "model = Model(inputs=[in_layer], outputs=[out_1,out_2])"
   ]
  },
  {
   "cell_type": "code",
   "execution_count": 205,
   "metadata": {},
   "outputs": [
    {
     "name": "stdout",
     "output_type": "stream",
     "text": [
      "__________________________________________________________________________________________________\n",
      "Layer (type)                    Output Shape         Param #     Connected to                     \n",
      "==================================================================================================\n",
      "input_9 (InputLayer)            (None, 784)          0                                            \n",
      "__________________________________________________________________________________________________\n",
      "dense_57 (Dense)                (None, 200)          157000      input_9[0][0]                    \n",
      "__________________________________________________________________________________________________\n",
      "dropout_13 (Dropout)            (None, 200)          0           dense_57[0][0]                   \n",
      "__________________________________________________________________________________________________\n",
      "dense_58 (Dense)                (None, 100)          20100       dropout_13[0][0]                 \n",
      "__________________________________________________________________________________________________\n",
      "dropout_14 (Dropout)            (None, 100)          0           dense_58[0][0]                   \n",
      "__________________________________________________________________________________________________\n",
      "dense_59 (Dense)                (None, 100)          20100       dense_57[0][0]                   \n",
      "__________________________________________________________________________________________________\n",
      "dense_60 (Dense)                (None, 50)           5050        dropout_14[0][0]                 \n",
      "__________________________________________________________________________________________________\n",
      "dense_61 (Dense)                (None, 50)           5050        dense_59[0][0]                   \n",
      "__________________________________________________________________________________________________\n",
      "dense_62 (Dense)                (None, 10)           510         dense_60[0][0]                   \n",
      "__________________________________________________________________________________________________\n",
      "dense_63 (Dense)                (None, 2)            102         dense_61[0][0]                   \n",
      "==================================================================================================\n",
      "Total params: 207,912\n",
      "Trainable params: 207,912\n",
      "Non-trainable params: 0\n",
      "__________________________________________________________________________________________________\n"
     ]
    }
   ],
   "source": [
    "model.summary()"
   ]
  },
  {
   "cell_type": "code",
   "execution_count": 206,
   "metadata": {},
   "outputs": [],
   "source": [
    "model.compile(optimizer=\"adam\", loss=\"categorical_crossentropy\", metrics=[\"accuracy\"])"
   ]
  },
  {
   "cell_type": "code",
   "execution_count": 207,
   "metadata": {},
   "outputs": [
    {
     "name": "stdout",
     "output_type": "stream",
     "text": [
      "Epoch 1/50\n",
      "8000/8000 [==============================] - 2s 278us/step - loss: 2.2495 - dense_62_loss: 1.8681 - dense_63_loss: 0.3813 - dense_62_acc: 0.3770 - dense_63_acc: 0.8249\n",
      "Epoch 2/50\n",
      "8000/8000 [==============================] - 1s 92us/step - loss: 1.1652 - dense_62_loss: 0.9291 - dense_63_loss: 0.2362 - dense_62_acc: 0.6984 - dense_63_acc: 0.9055\n",
      "Epoch 3/50\n",
      "8000/8000 [==============================] - 1s 84us/step - loss: 0.9429 - dense_62_loss: 0.7331 - dense_63_loss: 0.2098 - dense_62_acc: 0.7554 - dense_63_acc: 0.9157\n",
      "Epoch 4/50\n",
      "8000/8000 [==============================] - 1s 86us/step - loss: 0.8252 - dense_62_loss: 0.6575 - dense_63_loss: 0.1677 - dense_62_acc: 0.7856 - dense_63_acc: 0.9359\n",
      "Epoch 5/50\n",
      "8000/8000 [==============================] - 1s 82us/step - loss: 0.7460 - dense_62_loss: 0.5899 - dense_63_loss: 0.1561 - dense_62_acc: 0.8094 - dense_63_acc: 0.9406\n",
      "Epoch 6/50\n",
      "8000/8000 [==============================] - 1s 88us/step - loss: 0.6517 - dense_62_loss: 0.5151 - dense_63_loss: 0.1366 - dense_62_acc: 0.8391 - dense_63_acc: 0.9492\n",
      "Epoch 7/50\n",
      "8000/8000 [==============================] - 1s 88us/step - loss: 0.6208 - dense_62_loss: 0.4926 - dense_63_loss: 0.1282 - dense_62_acc: 0.8392 - dense_63_acc: 0.9540\n",
      "Epoch 8/50\n",
      "8000/8000 [==============================] - 1s 84us/step - loss: 0.6075 - dense_62_loss: 0.4838 - dense_63_loss: 0.1237 - dense_62_acc: 0.8456 - dense_63_acc: 0.9555\n",
      "Epoch 9/50\n",
      "8000/8000 [==============================] - 1s 83us/step - loss: 0.5980 - dense_62_loss: 0.4776 - dense_63_loss: 0.1203 - dense_62_acc: 0.8470 - dense_63_acc: 0.9535\n",
      "Epoch 10/50\n",
      "8000/8000 [==============================] - 1s 81us/step - loss: 0.6060 - dense_62_loss: 0.4881 - dense_63_loss: 0.1179 - dense_62_acc: 0.8470 - dense_63_acc: 0.9582\n",
      "Epoch 11/50\n",
      "8000/8000 [==============================] - 1s 84us/step - loss: 0.5454 - dense_62_loss: 0.4376 - dense_63_loss: 0.1078 - dense_62_acc: 0.8604 - dense_63_acc: 0.9629\n",
      "Epoch 12/50\n",
      "8000/8000 [==============================] - 1s 85us/step - loss: 0.5540 - dense_62_loss: 0.4410 - dense_63_loss: 0.1130 - dense_62_acc: 0.8524 - dense_63_acc: 0.9580\n",
      "Epoch 13/50\n",
      "8000/8000 [==============================] - 1s 83us/step - loss: 0.5469 - dense_62_loss: 0.4339 - dense_63_loss: 0.1130 - dense_62_acc: 0.8549 - dense_63_acc: 0.9565\n",
      "Epoch 14/50\n",
      "8000/8000 [==============================] - 1s 87us/step - loss: 0.5234 - dense_62_loss: 0.4151 - dense_63_loss: 0.1083 - dense_62_acc: 0.8654 - dense_63_acc: 0.9574\n",
      "Epoch 15/50\n",
      "8000/8000 [==============================] - 1s 85us/step - loss: 0.5076 - dense_62_loss: 0.4065 - dense_63_loss: 0.1011 - dense_62_acc: 0.8717 - dense_63_acc: 0.9627\n",
      "Epoch 16/50\n",
      "8000/8000 [==============================] - 1s 80us/step - loss: 0.5200 - dense_62_loss: 0.4172 - dense_63_loss: 0.1028 - dense_62_acc: 0.8660 - dense_63_acc: 0.9625\n",
      "Epoch 17/50\n",
      "8000/8000 [==============================] - 1s 89us/step - loss: 0.5262 - dense_62_loss: 0.4160 - dense_63_loss: 0.1101 - dense_62_acc: 0.8648 - dense_63_acc: 0.9586\n",
      "Epoch 18/50\n",
      "8000/8000 [==============================] - 1s 79us/step - loss: 0.5087 - dense_62_loss: 0.4084 - dense_63_loss: 0.1003 - dense_62_acc: 0.8651 - dense_63_acc: 0.9626\n",
      "Epoch 19/50\n",
      "8000/8000 [==============================] - 1s 86us/step - loss: 0.5047 - dense_62_loss: 0.4100 - dense_63_loss: 0.0948 - dense_62_acc: 0.8674 - dense_63_acc: 0.9666\n",
      "Epoch 20/50\n",
      "8000/8000 [==============================] - 1s 86us/step - loss: 0.4941 - dense_62_loss: 0.4030 - dense_63_loss: 0.0912 - dense_62_acc: 0.8716 - dense_63_acc: 0.9660\n",
      "Epoch 21/50\n",
      "8000/8000 [==============================] - 1s 83us/step - loss: 0.4732 - dense_62_loss: 0.3890 - dense_63_loss: 0.0842 - dense_62_acc: 0.8735 - dense_63_acc: 0.9685\n",
      "Epoch 22/50\n",
      "8000/8000 [==============================] - 1s 82us/step - loss: 0.4475 - dense_62_loss: 0.3679 - dense_63_loss: 0.0796 - dense_62_acc: 0.8804 - dense_63_acc: 0.9705\n",
      "Epoch 23/50\n",
      "8000/8000 [==============================] - 1s 83us/step - loss: 0.4536 - dense_62_loss: 0.3714 - dense_63_loss: 0.0822 - dense_62_acc: 0.8809 - dense_63_acc: 0.9684\n",
      "Epoch 24/50\n",
      "8000/8000 [==============================] - 1s 86us/step - loss: 0.4853 - dense_62_loss: 0.3961 - dense_63_loss: 0.0892 - dense_62_acc: 0.8700 - dense_63_acc: 0.9665\n",
      "Epoch 25/50\n",
      "8000/8000 [==============================] - 1s 85us/step - loss: 0.4566 - dense_62_loss: 0.3716 - dense_63_loss: 0.0850 - dense_62_acc: 0.8814 - dense_63_acc: 0.9706\n",
      "Epoch 26/50\n",
      "8000/8000 [==============================] - 1s 85us/step - loss: 0.4433 - dense_62_loss: 0.3621 - dense_63_loss: 0.0812 - dense_62_acc: 0.8861 - dense_63_acc: 0.9710\n",
      "Epoch 27/50\n",
      "8000/8000 [==============================] - 1s 85us/step - loss: 0.4253 - dense_62_loss: 0.3485 - dense_63_loss: 0.0768 - dense_62_acc: 0.8874 - dense_63_acc: 0.9720\n",
      "Epoch 28/50\n",
      "8000/8000 [==============================] - 1s 86us/step - loss: 0.3937 - dense_62_loss: 0.3194 - dense_63_loss: 0.0744 - dense_62_acc: 0.8975 - dense_63_acc: 0.9726\n",
      "Epoch 29/50\n",
      "8000/8000 [==============================] - 1s 86us/step - loss: 0.3741 - dense_62_loss: 0.3060 - dense_63_loss: 0.0680 - dense_62_acc: 0.9029 - dense_63_acc: 0.9736\n",
      "Epoch 30/50\n",
      "8000/8000 [==============================] - 1s 83us/step - loss: 0.3760 - dense_62_loss: 0.3100 - dense_63_loss: 0.0660 - dense_62_acc: 0.8985 - dense_63_acc: 0.9749\n",
      "Epoch 31/50\n",
      "8000/8000 [==============================] - 1s 89us/step - loss: 0.3976 - dense_62_loss: 0.3300 - dense_63_loss: 0.0676 - dense_62_acc: 0.8956 - dense_63_acc: 0.9746\n",
      "Epoch 32/50\n",
      "8000/8000 [==============================] - 1s 83us/step - loss: 0.3850 - dense_62_loss: 0.3215 - dense_63_loss: 0.0635 - dense_62_acc: 0.9006 - dense_63_acc: 0.9763\n",
      "Epoch 33/50\n",
      "8000/8000 [==============================] - 1s 86us/step - loss: 0.3689 - dense_62_loss: 0.3086 - dense_63_loss: 0.0603 - dense_62_acc: 0.9009 - dense_63_acc: 0.9791\n",
      "Epoch 34/50\n",
      "8000/8000 [==============================] - 1s 83us/step - loss: 0.3676 - dense_62_loss: 0.3040 - dense_63_loss: 0.0636 - dense_62_acc: 0.9019 - dense_63_acc: 0.9761\n",
      "Epoch 35/50\n",
      "8000/8000 [==============================] - 1s 86us/step - loss: 0.3836 - dense_62_loss: 0.3098 - dense_63_loss: 0.0738 - dense_62_acc: 0.9023 - dense_63_acc: 0.9730\n",
      "Epoch 36/50\n",
      "8000/8000 [==============================] - 1s 83us/step - loss: 0.3950 - dense_62_loss: 0.3221 - dense_63_loss: 0.0729 - dense_62_acc: 0.8920 - dense_63_acc: 0.9714\n",
      "Epoch 37/50\n",
      "8000/8000 [==============================] - 1s 80us/step - loss: 0.4172 - dense_62_loss: 0.3366 - dense_63_loss: 0.0806 - dense_62_acc: 0.8897 - dense_63_acc: 0.9690\n",
      "Epoch 38/50\n",
      "8000/8000 [==============================] - 1s 82us/step - loss: 0.3983 - dense_62_loss: 0.3250 - dense_63_loss: 0.0732 - dense_62_acc: 0.8964 - dense_63_acc: 0.9746\n",
      "Epoch 39/50\n",
      "8000/8000 [==============================] - 1s 82us/step - loss: 0.3876 - dense_62_loss: 0.3189 - dense_63_loss: 0.0687 - dense_62_acc: 0.8959 - dense_63_acc: 0.9761\n",
      "Epoch 40/50\n",
      "8000/8000 [==============================] - 1s 82us/step - loss: 0.3901 - dense_62_loss: 0.3258 - dense_63_loss: 0.0643 - dense_62_acc: 0.8984 - dense_63_acc: 0.9773\n",
      "Epoch 41/50\n",
      "8000/8000 [==============================] - 1s 94us/step - loss: 0.3725 - dense_62_loss: 0.3123 - dense_63_loss: 0.0602 - dense_62_acc: 0.9024 - dense_63_acc: 0.9781\n",
      "Epoch 42/50\n",
      "8000/8000 [==============================] - 1s 82us/step - loss: 0.3796 - dense_62_loss: 0.3173 - dense_63_loss: 0.0623 - dense_62_acc: 0.8981 - dense_63_acc: 0.9768\n",
      "Epoch 43/50\n",
      "8000/8000 [==============================] - 1s 102us/step - loss: 0.3600 - dense_62_loss: 0.3037 - dense_63_loss: 0.0563 - dense_62_acc: 0.9041 - dense_63_acc: 0.9808\n",
      "Epoch 44/50\n",
      "8000/8000 [==============================] - 1s 89us/step - loss: 0.3598 - dense_62_loss: 0.3007 - dense_63_loss: 0.0591 - dense_62_acc: 0.9037 - dense_63_acc: 0.9786\n",
      "Epoch 45/50\n",
      "8000/8000 [==============================] - 1s 90us/step - loss: 0.3526 - dense_62_loss: 0.2926 - dense_63_loss: 0.0600 - dense_62_acc: 0.9071 - dense_63_acc: 0.9769\n",
      "Epoch 46/50\n"
     ]
    },
    {
     "name": "stdout",
     "output_type": "stream",
     "text": [
      "8000/8000 [==============================] - 1s 86us/step - loss: 0.3579 - dense_62_loss: 0.2964 - dense_63_loss: 0.0615 - dense_62_acc: 0.9021 - dense_63_acc: 0.9768\n",
      "Epoch 47/50\n",
      "8000/8000 [==============================] - 1s 85us/step - loss: 0.3564 - dense_62_loss: 0.2952 - dense_63_loss: 0.0612 - dense_62_acc: 0.9028 - dense_63_acc: 0.9758\n",
      "Epoch 48/50\n",
      "8000/8000 [==============================] - 1s 83us/step - loss: 0.3428 - dense_62_loss: 0.2894 - dense_63_loss: 0.0534 - dense_62_acc: 0.9034 - dense_63_acc: 0.9800\n",
      "Epoch 49/50\n",
      "8000/8000 [==============================] - 1s 85us/step - loss: 0.3377 - dense_62_loss: 0.2802 - dense_63_loss: 0.0575 - dense_62_acc: 0.9096 - dense_63_acc: 0.9796\n",
      "Epoch 50/50\n",
      "8000/8000 [==============================] - 1s 80us/step - loss: 0.3327 - dense_62_loss: 0.2784 - dense_63_loss: 0.0543 - dense_62_acc: 0.9106 - dense_63_acc: 0.9803\n"
     ]
    }
   ],
   "source": [
    "hist = model.fit(X, [y_hot,y_oe_hot], epochs=50, batch_size=200)"
   ]
  },
  {
   "cell_type": "code",
   "execution_count": 208,
   "metadata": {},
   "outputs": [
    {
     "name": "stdout",
     "output_type": "stream",
     "text": [
      "8000/8000 [==============================] - 1s 121us/step\n"
     ]
    },
    {
     "data": {
      "text/plain": [
       "[0.19918263453245164,\n",
       " 0.15166836128383876,\n",
       " 0.047514273460023106,\n",
       " 0.951875,\n",
       " 0.983]"
      ]
     },
     "execution_count": 208,
     "metadata": {},
     "output_type": "execute_result"
    }
   ],
   "source": [
    "model.evaluate(X, [y_hot,y_oe_hot])"
   ]
  },
  {
   "cell_type": "code",
   "execution_count": 209,
   "metadata": {},
   "outputs": [],
   "source": [
    "# plt.plot(hist.history[\"dense_20_acc\"])\n",
    "# plt.plot(hist.history[\"dense_21_acc\"])"
   ]
  },
  {
   "cell_type": "code",
   "execution_count": 210,
   "metadata": {},
   "outputs": [],
   "source": [
    "# plt.plot(hist.history[\"loss\"])\n",
    "# plt.plot(hist.history[\"dense_20_loss\"])\n",
    "# plt.plot(hist.history[\"dense_21_loss\"])"
   ]
  },
  {
   "cell_type": "code",
   "execution_count": 211,
   "metadata": {},
   "outputs": [],
   "source": [
    "import cv2"
   ]
  },
  {
   "cell_type": "code",
   "execution_count": 212,
   "metadata": {},
   "outputs": [],
   "source": [
    "img = cv2.imread(\"nums/eight.jpeg\")"
   ]
  },
  {
   "cell_type": "code",
   "execution_count": 213,
   "metadata": {},
   "outputs": [],
   "source": [
    "gray = cv2.cvtColor(img, cv2.COLOR_BGR2GRAY)"
   ]
  },
  {
   "cell_type": "code",
   "execution_count": 214,
   "metadata": {},
   "outputs": [],
   "source": [
    "small = cv2.resize(gray, (28,28))"
   ]
  },
  {
   "cell_type": "code",
   "execution_count": 215,
   "metadata": {},
   "outputs": [
    {
     "data": {
      "text/plain": [
       "<matplotlib.image.AxesImage at 0x7ff1d1256e10>"
      ]
     },
     "execution_count": 215,
     "metadata": {},
     "output_type": "execute_result"
    },
    {
     "data": {
      "image/png": "[encoded data removed]",
      "text/plain": [
       "<Figure size 432x288 with 1 Axes>"
      ]
     },
     "metadata": {},
     "output_type": "display_data"
    }
   ],
   "source": [
    "plt.imshow(small, cmap=\"gray\")"
   ]
  },
  {
   "cell_type": "code",
   "execution_count": 216,
   "metadata": {},
   "outputs": [],
   "source": [
    "invert = (small < 100).astype(int) * 255"
   ]
  },
  {
   "cell_type": "code",
   "execution_count": 217,
   "metadata": {},
   "outputs": [
    {
     "data": {
      "text/plain": [
       "<matplotlib.image.AxesImage at 0x7ff1d1237780>"
      ]
     },
     "execution_count": 217,
     "metadata": {},
     "output_type": "execute_result"
    },
    {
     "data": {
      "image/png": "[encoded data removed]",
      "text/plain": [
       "<Figure size 432x288 with 1 Axes>"
      ]
     },
     "metadata": {},
     "output_type": "display_data"
    }
   ],
   "source": [
    "plt.imshow(invert, cmap=\"gray\")"
   ]
  },
  {
   "cell_type": "code",
   "execution_count": 218,
   "metadata": {},
   "outputs": [
    {
     "data": {
      "text/plain": [
       "array([[0, 6, 9, 5, 1, 4, 8, 7, 2, 3]])"
      ]
     },
     "execution_count": 218,
     "metadata": {},
     "output_type": "execute_result"
    }
   ],
   "source": [
    "res = (model.predict(invert.flatten().reshape(1,-1)))\n",
    "np.argsort(res[0])"
   ]
  },
  {
   "cell_type": "code",
   "execution_count": 219,
   "metadata": {},
   "outputs": [
    {
     "data": {
      "text/plain": [
       "3"
      ]
     },
     "execution_count": 219,
     "metadata": {},
     "output_type": "execute_result"
    }
   ],
   "source": [
    "np.argmax(res[0])"
   ]
  },
  {
   "cell_type": "code",
   "execution_count": 220,
   "metadata": {},
   "outputs": [
    {
     "data": {
      "text/plain": [
       "1"
      ]
     },
     "execution_count": 220,
     "metadata": {},
     "output_type": "execute_result"
    }
   ],
   "source": [
    "np.argmax(res[1])"
   ]
  },
  {
   "cell_type": "code",
   "execution_count": null,
   "metadata": {},
   "outputs": [],
   "source": []
  },
  {
   "cell_type": "code",
   "execution_count": null,
   "metadata": {},
   "outputs": [],
   "source": []
  },
  {
   "cell_type": "code",
   "execution_count": null,
   "metadata": {},
   "outputs": [],
   "source": []
  },
  {
   "cell_type": "code",
   "execution_count": null,
   "metadata": {},
   "outputs": [],
   "source": []
  }
 ],
 "metadata": {
  "kernelspec": {
   "display_name": "Python 3",
   "language": "python",
   "name": "python3"
  },
  "language_info": {
   "codemirror_mode": {
    "name": "ipython",
    "version": 3
   },
   "file_extension": ".py",
   "mimetype": "text/x-python",
   "name": "python",
   "nbconvert_exporter": "python",
   "pygments_lexer": "ipython3",
   "version": "3.6.8"
  }
 },
 "nbformat": 4,
 "nbformat_minor": 2
}
