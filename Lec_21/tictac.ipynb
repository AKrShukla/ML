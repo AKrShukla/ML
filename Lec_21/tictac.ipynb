{
 "cells": [
  {
   "cell_type": "code",
   "execution_count": 2,
   "metadata": {},
   "outputs": [],
   "source": [
    "import numpy as np\n",
    "import random"
   ]
  },
  {
   "cell_type": "code",
   "execution_count": 9,
   "metadata": {},
   "outputs": [],
   "source": [
    "class TicTac :\n",
    "    \n",
    "    def __init__(self) :\n",
    "        self.state_size = 10\n",
    "        self.action_size = 9\n",
    "        \n",
    "        self.state = np.zeros([10], dtype=int)\n",
    "        self.state[9] = random.choice([-1, 1])\n",
    "        self.done = False\n",
    "    \n",
    "    def step(self, action) :\n",
    "        player = self.state[9]\n",
    "        \n",
    "        if self.done :\n",
    "            return np.copy(self.state), -10, True, {}\n",
    "        \n",
    "        if self.state[action] != 0 :\n",
    "            return np.copy(self.state), -10, False, {}\n",
    "        \n",
    "        self.state[action] = player\n",
    "        \n",
    "        done, reward = self.gen_reward()\n",
    "        \n",
    "        self.done = done\n",
    "        \n",
    "        self.state[9] = -player\n",
    "        \n",
    "        return np.copy(self.state), reward, done, {}\n",
    "        \n",
    "    def gen_reward(self) :\n",
    "        player = self.state[9]\n",
    "        board = self.state[:-1].reshape(3, 3)\n",
    "        \n",
    "        rows = np.any(np.sum(board, axis=1) == player * 3)\n",
    "        cols = np.any(np.sum(board, axis=0) == player * 3)\n",
    "        \n",
    "        d1 = np.sum(board.flatten()[[0,4,8]] == player * 3)\n",
    "        d2 = np.sum(board.flatten()[[2,4,6]] == player * 3)\n",
    "        \n",
    "        \n",
    "        if np.any([rows, cols, d1, d2]) :\n",
    "            return True, 10\n",
    "        elif not np.any(self.state == 0) :\n",
    "            return True, 1\n",
    "        else :\n",
    "            return False, 1"
   ]
  },
  {
   "cell_type": "code",
   "execution_count": 38,
   "metadata": {},
   "outputs": [],
   "source": [
    "env = TicTac()"
   ]
  },
  {
   "cell_type": "code",
   "execution_count": 49,
   "metadata": {},
   "outputs": [
    {
     "name": "stdout",
     "output_type": "stream",
     "text": [
      "[[-1  1 -1]\n",
      " [ 1 -1  1]\n",
      " [-1  1 -1]] 1 1 True\n"
     ]
    }
   ],
   "source": [
    "state, reward, done, info = env.step()\n",
    "board = state[:-1].reshape(3,3)\n",
    "print(board, state[-1], reward, done)"
   ]
  },
  {
   "cell_type": "code",
   "execution_count": 36,
   "metadata": {},
   "outputs": [
    {
     "data": {
      "text/plain": [
       "1429.2"
      ]
     },
     "execution_count": 36,
     "metadata": {},
     "output_type": "execute_result"
    }
   ],
   "source": [
    "858 + 571.2"
   ]
  },
  {
   "cell_type": "code",
   "execution_count": 37,
   "metadata": {},
   "outputs": [
    {
     "data": {
      "text/plain": [
       "1433.6"
      ]
     },
     "execution_count": 37,
     "metadata": {},
     "output_type": "execute_result"
    }
   ],
   "source": [
    "1024*1.4\n"
   ]
  },
  {
   "cell_type": "code",
   "execution_count": null,
   "metadata": {},
   "outputs": [],
   "source": []
  }
 ],
 "metadata": {
  "kernelspec": {
   "display_name": "Python 3",
   "language": "python",
   "name": "python3"
  },
  "language_info": {
   "codemirror_mode": {
    "name": "ipython",
    "version": 3
   },
   "file_extension": ".py",
   "mimetype": "text/x-python",
   "name": "python",
   "nbconvert_exporter": "python",
   "pygments_lexer": "ipython3",
   "version": "3.6.8"
  }
 },
 "nbformat": 4,
 "nbformat_minor": 2
}
