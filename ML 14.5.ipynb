{
 "cells": [
  {
   "cell_type": "code",
   "execution_count": 1,
   "metadata": {},
   "outputs": [
    {
     "name": "stderr",
     "output_type": "stream",
     "text": [
      "Using TensorFlow backend.\n"
     ]
    }
   ],
   "source": [
    "import numpy as np\n",
    "import pandas as pd\n",
    "import matplotlib.pyplot as plt\n",
    "from sklearn.datasets import make_blobs\n",
    "from sklearn.model_selection import train_test_split\n",
    "from sklearn.preprocessing import OneHotEncoder\n",
    "\n",
    "\n",
    "from keras.models import Model\n",
    "from keras.layers import Dense, Input, Dropout, Conv2D, MaxPool2D, Flatten\n",
    "\n",
    "from keras.optimizers import Adam\n",
    "from keras.losses import categorical_crossentropy\n",
    "\n",
    "\n",
    "from PIL import Image\n",
    "import PIL.ImageOps"
   ]
  },
  {
   "cell_type": "code",
   "execution_count": 2,
   "metadata": {},
   "outputs": [],
   "source": [
    "data = pd.read_csv(\"mnist_train_small.csv\")"
   ]
  },
  {
   "cell_type": "code",
   "execution_count": 3,
   "metadata": {},
   "outputs": [],
   "source": [
    "X = data.values[:,2:].reshape(-1,28,28,1)\n",
    "y = data.values[:,1]"
   ]
  },
  {
   "cell_type": "code",
   "execution_count": 4,
   "metadata": {},
   "outputs": [],
   "source": [
    "ohe = OneHotEncoder(categories=\"auto\")"
   ]
  },
  {
   "cell_type": "code",
   "execution_count": 5,
   "metadata": {},
   "outputs": [],
   "source": [
    "y_hot = ohe.fit_transform(y.reshape(-1,1)).todense()"
   ]
  },
  {
   "cell_type": "code",
   "execution_count": 6,
   "metadata": {},
   "outputs": [
    {
     "data": {
      "text/plain": [
       "()"
      ]
     },
     "execution_count": 6,
     "metadata": {},
     "output_type": "execute_result"
    }
   ],
   "source": [
    "X[0][0][0][0].shape"
   ]
  },
  {
   "cell_type": "code",
   "execution_count": null,
   "metadata": {},
   "outputs": [],
   "source": []
  },
  {
   "cell_type": "code",
   "execution_count": null,
   "metadata": {},
   "outputs": [],
   "source": []
  },
  {
   "cell_type": "code",
   "execution_count": 11,
   "metadata": {},
   "outputs": [],
   "source": [
    "in_layer = Input(shape=[28,28,1],name=\"inp\")\n",
    "conv_1 = Conv2D(32, (3,3), activation=\"tanh\",name=\"conv1\")(in_layer)\n",
    "pool_1 = MaxPool2D(name=\"pool1\")(conv_1)\n",
    "conv_2 = Conv2D(64, (3,3), activation=\"tanh\",name=\"conv2\")(pool_1)\n",
    "pool_2 = MaxPool2D(name=\"pool2\")(conv_2)\n",
    "conv_3 = Conv2D(128, (3,3), activation=\"tanh\",name=\"conv3\")(pool_2)\n",
    "pool_3 = MaxPool2D(name=\"pool3\")(conv_3)\n",
    "\n",
    "flatten = Flatten(name=\"flatten1\")(pool_3)\n",
    "\n",
    "dense_1 = Dense(200, activation=\"tanh\",name=\"dense1\")(flatten)\n",
    "\n",
    "dense_2 = Dense(100, activation=\"tanh\",name=\"dense2\")(dense_1)\n",
    "drop = Dropout(rate=.25,name=\"drop1\")(dense_2)\n",
    "dense_3 = Dense(50, activation=\"relu\",name=\"dense3\")(drop)\n",
    "dense_4 = Dense(50, activation=\"tanh\",name=\"dense4\")(dense_3)\n",
    "\n",
    "out_1 = Dense(10, activation=\"softmax\",name=\"out\")(dense_4)"
   ]
  },
  {
   "cell_type": "code",
   "execution_count": 12,
   "metadata": {},
   "outputs": [],
   "source": [
    "model = Model(inputs=[in_layer], outputs=[out_1])"
   ]
  },
  {
   "cell_type": "code",
   "execution_count": 13,
   "metadata": {},
   "outputs": [
    {
     "name": "stdout",
     "output_type": "stream",
     "text": [
      "_________________________________________________________________\n",
      "Layer (type)                 Output Shape              Param #   \n",
      "=================================================================\n",
      "inp (InputLayer)             (None, 28, 28, 1)         0         \n",
      "_________________________________________________________________\n",
      "conv1 (Conv2D)               (None, 26, 26, 32)        320       \n",
      "_________________________________________________________________\n",
      "pool1 (MaxPooling2D)         (None, 13, 13, 32)        0         \n",
      "_________________________________________________________________\n",
      "conv2 (Conv2D)               (None, 11, 11, 64)        18496     \n",
      "_________________________________________________________________\n",
      "pool2 (MaxPooling2D)         (None, 5, 5, 64)          0         \n",
      "_________________________________________________________________\n",
      "conv3 (Conv2D)               (None, 3, 3, 128)         73856     \n",
      "_________________________________________________________________\n",
      "pool3 (MaxPooling2D)         (None, 1, 1, 128)         0         \n",
      "_________________________________________________________________\n",
      "flatten1 (Flatten)           (None, 128)               0         \n",
      "_________________________________________________________________\n",
      "dense1 (Dense)               (None, 200)               25800     \n",
      "_________________________________________________________________\n",
      "dense2 (Dense)               (None, 100)               20100     \n",
      "_________________________________________________________________\n",
      "drop1 (Dropout)              (None, 100)               0         \n",
      "_________________________________________________________________\n",
      "dense3 (Dense)               (None, 50)                5050      \n",
      "_________________________________________________________________\n",
      "dense4 (Dense)               (None, 50)                2550      \n",
      "_________________________________________________________________\n",
      "out (Dense)                  (None, 10)                510       \n",
      "=================================================================\n",
      "Total params: 146,682\n",
      "Trainable params: 146,682\n",
      "Non-trainable params: 0\n",
      "_________________________________________________________________\n"
     ]
    }
   ],
   "source": [
    "model.summary()"
   ]
  },
  {
   "cell_type": "code",
   "execution_count": 14,
   "metadata": {},
   "outputs": [
    {
     "name": "stderr",
     "output_type": "stream",
     "text": [
      "W0710 16:43:24.314358 140566477264704 deprecation_wrapper.py:119] From /home/anurag/.local/lib/python3.6/site-packages/keras/optimizers.py:790: The name tf.train.Optimizer is deprecated. Please use tf.compat.v1.train.Optimizer instead.\n",
      "\n",
      "W0710 16:43:24.349082 140566477264704 deprecation_wrapper.py:119] From /home/anurag/.local/lib/python3.6/site-packages/keras/backend/tensorflow_backend.py:3295: The name tf.log is deprecated. Please use tf.math.log instead.\n",
      "\n"
     ]
    }
   ],
   "source": [
    "model.compile(optimizer=\"adam\", loss=\"categorical_crossentropy\", metrics=[\"accuracy\"])"
   ]
  },
  {
   "cell_type": "code",
   "execution_count": 15,
   "metadata": {},
   "outputs": [
    {
     "name": "stderr",
     "output_type": "stream",
     "text": [
      "W0710 16:43:25.310609 140566477264704 deprecation.py:323] From /home/anurag/.local/lib/python3.6/site-packages/tensorflow/python/ops/math_grad.py:1250: add_dispatch_support.<locals>.wrapper (from tensorflow.python.ops.array_ops) is deprecated and will be removed in a future version.\n",
      "Instructions for updating:\n",
      "Use tf.where in 2.0, which has the same broadcast rule as np.where\n"
     ]
    },
    {
     "name": "stdout",
     "output_type": "stream",
     "text": [
      "Epoch 1/10\n",
      "8000/8000 [==============================] - 6s 688us/step - loss: 1.3464 - acc: 0.6050\n",
      "Epoch 2/10\n",
      "8000/8000 [==============================] - 5s 581us/step - loss: 0.3387 - acc: 0.9149\n",
      "Epoch 3/10\n",
      "8000/8000 [==============================] - 5s 590us/step - loss: 0.1560 - acc: 0.9586\n",
      "Epoch 4/10\n",
      "8000/8000 [==============================] - 4s 546us/step - loss: 0.0995 - acc: 0.9744\n",
      "Epoch 5/10\n",
      "8000/8000 [==============================] - 4s 538us/step - loss: 0.0591 - acc: 0.9874\n",
      "Epoch 6/10\n",
      "8000/8000 [==============================] - 4s 529us/step - loss: 0.0370 - acc: 0.9928\n",
      "Epoch 7/10\n",
      "8000/8000 [==============================] - 4s 519us/step - loss: 0.0256 - acc: 0.9958\n",
      "Epoch 8/10\n",
      "8000/8000 [==============================] - 4s 519us/step - loss: 0.0203 - acc: 0.9964\n",
      "Epoch 9/10\n",
      "8000/8000 [==============================] - 4s 519us/step - loss: 0.0306 - acc: 0.9909\n",
      "Epoch 10/10\n",
      "8000/8000 [==============================] - 5s 669us/step - loss: 0.0212 - acc: 0.9940\n"
     ]
    }
   ],
   "source": [
    "hist = model.fit(X, y_hot, epochs=10, batch_size=200)"
   ]
  },
  {
   "cell_type": "code",
   "execution_count": 16,
   "metadata": {},
   "outputs": [
    {
     "name": "stdout",
     "output_type": "stream",
     "text": [
      "8000/8000 [==============================] - 2s 260us/step\n"
     ]
    },
    {
     "data": {
      "text/plain": [
       "[0.011659324967302383, 0.997625]"
      ]
     },
     "execution_count": 16,
     "metadata": {},
     "output_type": "execute_result"
    }
   ],
   "source": [
    "model.evaluate(X, y_hot)"
   ]
  },
  {
   "cell_type": "code",
   "execution_count": 17,
   "metadata": {},
   "outputs": [],
   "source": [
    "# plt.plot(hist.history[\"dense_20_acc\"])\n",
    "# plt.plot(hist.history[\"dense_21_acc\"])"
   ]
  },
  {
   "cell_type": "code",
   "execution_count": 18,
   "metadata": {},
   "outputs": [],
   "source": [
    "# plt.plot(hist.history[\"loss\"])\n",
    "# plt.plot(hist.history[\"dense_20_loss\"])\n",
    "# plt.plot(hist.history[\"dense_21_loss\"])"
   ]
  },
  {
   "cell_type": "code",
   "execution_count": 19,
   "metadata": {},
   "outputs": [],
   "source": [
    "import cv2"
   ]
  },
  {
   "cell_type": "code",
   "execution_count": 20,
   "metadata": {},
   "outputs": [],
   "source": [
    "img = cv2.imread(\"nums/eight.jpeg\")"
   ]
  },
  {
   "cell_type": "code",
   "execution_count": 21,
   "metadata": {},
   "outputs": [],
   "source": [
    "gray = cv2.cvtColor(img, cv2.COLOR_BGR2GRAY)"
   ]
  },
  {
   "cell_type": "code",
   "execution_count": 22,
   "metadata": {},
   "outputs": [],
   "source": [
    "small = cv2.resize(gray, (28,28))"
   ]
  },
  {
   "cell_type": "code",
   "execution_count": 23,
   "metadata": {},
   "outputs": [
    {
     "data": {
      "text/plain": [
       "<matplotlib.image.AxesImage at 0x7fd7d44f1a20>"
      ]
     },
     "execution_count": 23,
     "metadata": {},
     "output_type": "execute_result"
    },
    {
     "data": {
      "image/png": "[encoded data removed]",
      "text/plain": [
       "<Figure size 432x288 with 1 Axes>"
      ]
     },
     "metadata": {},
     "output_type": "display_data"
    }
   ],
   "source": [
    "plt.imshow(small, cmap=\"gray\")"
   ]
  },
  {
   "cell_type": "code",
   "execution_count": 24,
   "metadata": {},
   "outputs": [],
   "source": [
    "invert = (small < 100).astype(int) * 255"
   ]
  },
  {
   "cell_type": "code",
   "execution_count": 25,
   "metadata": {},
   "outputs": [
    {
     "data": {
      "text/plain": [
       "<matplotlib.image.AxesImage at 0x7fd7940e3160>"
      ]
     },
     "execution_count": 25,
     "metadata": {},
     "output_type": "execute_result"
    },
    {
     "data": {
      "image/png": "[encoded data removed]",
      "text/plain": [
       "<Figure size 432x288 with 1 Axes>"
      ]
     },
     "metadata": {},
     "output_type": "display_data"
    }
   ],
   "source": [
    "plt.imshow(invert, cmap=\"gray\")"
   ]
  },
  {
   "cell_type": "code",
   "execution_count": 26,
   "metadata": {},
   "outputs": [],
   "source": [
    "res = (model.predict(np.array([invert.reshape(28,28,1)])))"
   ]
  },
  {
   "cell_type": "code",
   "execution_count": 27,
   "metadata": {},
   "outputs": [
    {
     "data": {
      "text/plain": [
       "6"
      ]
     },
     "execution_count": 27,
     "metadata": {},
     "output_type": "execute_result"
    }
   ],
   "source": [
    "np.argmax(res)"
   ]
  },
  {
   "cell_type": "code",
   "execution_count": null,
   "metadata": {},
   "outputs": [],
   "source": [
    "# np.argmax(res[1])"
   ]
  },
  {
   "cell_type": "code",
   "execution_count": null,
   "metadata": {},
   "outputs": [],
   "source": []
  },
  {
   "cell_type": "code",
   "execution_count": null,
   "metadata": {},
   "outputs": [],
   "source": []
  },
  {
   "cell_type": "code",
   "execution_count": null,
   "metadata": {},
   "outputs": [],
   "source": []
  },
  {
   "cell_type": "code",
   "execution_count": null,
   "metadata": {},
   "outputs": [],
   "source": []
  }
 ],
 "metadata": {
  "kernelspec": {
   "display_name": "Python 3",
   "language": "python",
   "name": "python3"
  },
  "language_info": {
   "codemirror_mode": {
    "name": "ipython",
    "version": 3
   },
   "file_extension": ".py",
   "mimetype": "text/x-python",
   "name": "python",
   "nbconvert_exporter": "python",
   "pygments_lexer": "ipython3",
   "version": "3.6.8"
  }
 },
 "nbformat": 4,
 "nbformat_minor": 2
}
