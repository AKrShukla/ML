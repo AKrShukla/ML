{
 "cells": [
  {
   "cell_type": "code",
   "execution_count": 5,
   "metadata": {},
   "outputs": [
    {
     "name": "stdout",
     "output_type": "stream",
     "text": [
      "Hello World!\n"
     ]
    }
   ],
   "source": [
    "print(\"Hello World!\")"
   ]
  },
  {
   "cell_type": "markdown",
   "metadata": {},
   "source": [
    "##hello"
   ]
  },
  {
   "cell_type": "markdown",
   "metadata": {},
   "source": [
    "# # sa\n"
   ]
  },
  {
   "cell_type": "markdown",
   "metadata": {},
   "source": [
    "-jhhh\n"
   ]
  },
  {
   "cell_type": "markdown",
   "metadata": {},
   "source": [
    "* 1"
   ]
  },
  {
   "cell_type": "markdown",
   "metadata": {},
   "source": [
    "* @img \n"
   ]
  },
  {
   "cell_type": "markdown",
   "metadata": {},
   "source": [
    "![alt text](data:image/jpeg;base64,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 \"Title\")"
   ]
  },
  {
   "cell_type": "markdown",
   "metadata": {},
   "source": []
  },
  {
   "cell_type": "code",
   "execution_count": 7,
   "metadata": {},
   "outputs": [
    {
     "data": {
      "text/plain": [
       "2"
      ]
     },
     "execution_count": 7,
     "metadata": {},
     "output_type": "execute_result"
    }
   ],
   "source": [
    "-1%3\n"
   ]
  },
  {
   "cell_type": "code",
   "execution_count": 8,
   "metadata": {},
   "outputs": [
    {
     "data": {
      "text/plain": [
       "-1"
      ]
     },
     "execution_count": 8,
     "metadata": {},
     "output_type": "execute_result"
    }
   ],
   "source": [
    "-(1%3)"
   ]
  },
  {
   "cell_type": "code",
   "execution_count": 9,
   "metadata": {},
   "outputs": [
    {
     "data": {
      "text/plain": [
       "-3"
      ]
     },
     "execution_count": 9,
     "metadata": {},
     "output_type": "execute_result"
    }
   ],
   "source": [
    "-7%-4"
   ]
  },
  {
   "cell_type": "code",
   "execution_count": 10,
   "metadata": {},
   "outputs": [
    {
     "name": "stdout",
     "output_type": "stream",
     "text": [
      "Enter some value12\n"
     ]
    }
   ],
   "source": [
    "a=input(\"Enter some value\")"
   ]
  },
  {
   "cell_type": "markdown",
   "metadata": {},
   "source": []
  },
  {
   "cell_type": "code",
   "execution_count": 11,
   "metadata": {},
   "outputs": [
    {
     "data": {
      "text/plain": [
       "'12'"
      ]
     },
     "execution_count": 11,
     "metadata": {},
     "output_type": "execute_result"
    }
   ],
   "source": [
    "a\n"
   ]
  },
  {
   "cell_type": "code",
   "execution_count": 32,
   "metadata": {},
   "outputs": [
    {
     "name": "stdout",
     "output_type": "stream",
     "text": [
      "Enter The year1245\n",
      "Not a leap year\n"
     ]
    }
   ],
   "source": [
    "n=int(input(\"Enter The year\"))\n",
    "if n%4==0 :\n",
    "    print(\"leap year\")\n",
    "else :\n",
    "    print(\"Not a leap year\")"
   ]
  },
  {
   "cell_type": "code",
   "execution_count": 31,
   "metadata": {},
   "outputs": [
    {
     "name": "stdout",
     "output_type": "stream",
     "text": [
      "Enter a number5\n",
      "* \n",
      "* * \n",
      "* * * \n",
      "* * * * \n",
      "* * * * * \n"
     ]
    }
   ],
   "source": [
    "n=int(input(\"Enter a number\"))\n",
    "m=n\n",
    "i=1\n",
    "while(n):\n",
    "    j=i\n",
    "    while(j):\n",
    "        print(\"*\",end=\" \")\n",
    "        j=j-1\n",
    "    print()\n",
    "    n=n-1\n",
    "    i=i+1"
   ]
  },
  {
   "cell_type": "code",
   "execution_count": 37,
   "metadata": {},
   "outputs": [],
   "source": [
    "l1=(1,2,3,4,5)\n",
    "l2={6,7,8,9,0}\n",
    "l3=zip(l1,l2,l2)"
   ]
  },
  {
   "cell_type": "code",
   "execution_count": 34,
   "metadata": {},
   "outputs": [
    {
     "data": {
      "text/plain": [
       "<zip at 0x7fc9620c5988>"
      ]
     },
     "execution_count": 34,
     "metadata": {},
     "output_type": "execute_result"
    }
   ],
   "source": [
    "l3\n"
   ]
  },
  {
   "cell_type": "code",
   "execution_count": 35,
   "metadata": {},
   "outputs": [
    {
     "name": "stdout",
     "output_type": "stream",
     "text": [
      "<zip object at 0x7fc9620c5988>\n"
     ]
    }
   ],
   "source": [
    "print(l3)"
   ]
  },
  {
   "cell_type": "code",
   "execution_count": 38,
   "metadata": {},
   "outputs": [
    {
     "name": "stdout",
     "output_type": "stream",
     "text": [
      "(1, 0, 0)\n",
      "(2, 6, 6)\n",
      "(3, 7, 7)\n",
      "(4, 8, 8)\n",
      "(5, 9, 9)\n"
     ]
    }
   ],
   "source": [
    "for i in l3 :\n",
    "    print(i)\n",
    "    "
   ]
  },
  {
   "cell_type": "code",
   "execution_count": 40,
   "metadata": {},
   "outputs": [],
   "source": [
    "l4=list(l3)\n",
    "r=len(list(l3))\n",
    "\n",
    "    "
   ]
  },
  {
   "cell_type": "code",
   "execution_count": 41,
   "metadata": {},
   "outputs": [
    {
     "ename": "NameError",
     "evalue": "name 'sort' is not defined",
     "output_type": "error",
     "traceback": [
      "\u001b[0;31m---------------------------------------------------------------------------\u001b[0m",
      "\u001b[0;31mNameError\u001b[0m                                 Traceback (most recent call last)",
      "\u001b[0;32m<ipython-input-41-6120f7c48262>\u001b[0m in \u001b[0;36m<module>\u001b[0;34m()\u001b[0m\n\u001b[0;32m----> 1\u001b[0;31m \u001b[0mhelp\u001b[0m\u001b[0;34m(\u001b[0m\u001b[0msort\u001b[0m\u001b[0;34m(\u001b[0m\u001b[0;34m)\u001b[0m\u001b[0;34m)\u001b[0m\u001b[0;34m\u001b[0m\u001b[0;34m\u001b[0m\u001b[0m\n\u001b[0m",
      "\u001b[0;31mNameError\u001b[0m: name 'sort' is not defined"
     ]
    }
   ],
   "source": [
    "help(sort())"
   ]
  },
  {
   "cell_type": "code",
   "execution_count": 42,
   "metadata": {},
   "outputs": [
    {
     "name": "stdout",
     "output_type": "stream",
     "text": [
      "Help on class list in module builtins:\n",
      "\n",
      "class list(object)\n",
      " |  list() -> new empty list\n",
      " |  list(iterable) -> new list initialized from iterable's items\n",
      " |  \n",
      " |  Methods defined here:\n",
      " |  \n",
      " |  __add__(self, value, /)\n",
      " |      Return self+value.\n",
      " |  \n",
      " |  __contains__(self, key, /)\n",
      " |      Return key in self.\n",
      " |  \n",
      " |  __delitem__(self, key, /)\n",
      " |      Delete self[key].\n",
      " |  \n",
      " |  __eq__(self, value, /)\n",
      " |      Return self==value.\n",
      " |  \n",
      " |  __ge__(self, value, /)\n",
      " |      Return self>=value.\n",
      " |  \n",
      " |  __getattribute__(self, name, /)\n",
      " |      Return getattr(self, name).\n",
      " |  \n",
      " |  __getitem__(...)\n",
      " |      x.__getitem__(y) <==> x[y]\n",
      " |  \n",
      " |  __gt__(self, value, /)\n",
      " |      Return self>value.\n",
      " |  \n",
      " |  __iadd__(self, value, /)\n",
      " |      Implement self+=value.\n",
      " |  \n",
      " |  __imul__(self, value, /)\n",
      " |      Implement self*=value.\n",
      " |  \n",
      " |  __init__(self, /, *args, **kwargs)\n",
      " |      Initialize self.  See help(type(self)) for accurate signature.\n",
      " |  \n",
      " |  __iter__(self, /)\n",
      " |      Implement iter(self).\n",
      " |  \n",
      " |  __le__(self, value, /)\n",
      " |      Return self<=value.\n",
      " |  \n",
      " |  __len__(self, /)\n",
      " |      Return len(self).\n",
      " |  \n",
      " |  __lt__(self, value, /)\n",
      " |      Return self<value.\n",
      " |  \n",
      " |  __mul__(self, value, /)\n",
      " |      Return self*value.\n",
      " |  \n",
      " |  __ne__(self, value, /)\n",
      " |      Return self!=value.\n",
      " |  \n",
      " |  __new__(*args, **kwargs) from builtins.type\n",
      " |      Create and return a new object.  See help(type) for accurate signature.\n",
      " |  \n",
      " |  __repr__(self, /)\n",
      " |      Return repr(self).\n",
      " |  \n",
      " |  __reversed__(...)\n",
      " |      L.__reversed__() -- return a reverse iterator over the list\n",
      " |  \n",
      " |  __rmul__(self, value, /)\n",
      " |      Return value*self.\n",
      " |  \n",
      " |  __setitem__(self, key, value, /)\n",
      " |      Set self[key] to value.\n",
      " |  \n",
      " |  __sizeof__(...)\n",
      " |      L.__sizeof__() -- size of L in memory, in bytes\n",
      " |  \n",
      " |  append(...)\n",
      " |      L.append(object) -> None -- append object to end\n",
      " |  \n",
      " |  clear(...)\n",
      " |      L.clear() -> None -- remove all items from L\n",
      " |  \n",
      " |  copy(...)\n",
      " |      L.copy() -> list -- a shallow copy of L\n",
      " |  \n",
      " |  count(...)\n",
      " |      L.count(value) -> integer -- return number of occurrences of value\n",
      " |  \n",
      " |  extend(...)\n",
      " |      L.extend(iterable) -> None -- extend list by appending elements from the iterable\n",
      " |  \n",
      " |  index(...)\n",
      " |      L.index(value, [start, [stop]]) -> integer -- return first index of value.\n",
      " |      Raises ValueError if the value is not present.\n",
      " |  \n",
      " |  insert(...)\n",
      " |      L.insert(index, object) -- insert object before index\n",
      " |  \n",
      " |  pop(...)\n",
      " |      L.pop([index]) -> item -- remove and return item at index (default last).\n",
      " |      Raises IndexError if list is empty or index is out of range.\n",
      " |  \n",
      " |  remove(...)\n",
      " |      L.remove(value) -> None -- remove first occurrence of value.\n",
      " |      Raises ValueError if the value is not present.\n",
      " |  \n",
      " |  reverse(...)\n",
      " |      L.reverse() -- reverse *IN PLACE*\n",
      " |  \n",
      " |  sort(...)\n",
      " |      L.sort(key=None, reverse=False) -> None -- stable sort *IN PLACE*\n",
      " |  \n",
      " |  ----------------------------------------------------------------------\n",
      " |  Data and other attributes defined here:\n",
      " |  \n",
      " |  __hash__ = None\n",
      "\n"
     ]
    }
   ],
   "source": [
    "help(list)"
   ]
  },
  {
   "cell_type": "code",
   "execution_count": 43,
   "metadata": {},
   "outputs": [
    {
     "name": "stdout",
     "output_type": "stream",
     "text": [
      "Help on built-in function sorted in module builtins:\n",
      "\n",
      "sorted(iterable, /, *, key=None, reverse=False)\n",
      "    Return a new list containing all items from the iterable in ascending order.\n",
      "    \n",
      "    A custom key function can be supplied to customize the sort order, and the\n",
      "    reverse flag can be set to request the result in descending order.\n",
      "\n"
     ]
    }
   ],
   "source": [
    "help(sorted)"
   ]
  },
  {
   "cell_type": "code",
   "execution_count": 44,
   "metadata": {},
   "outputs": [],
   "source": [
    "import numpy as np"
   ]
  },
  {
   "cell_type": "code",
   "execution_count": null,
   "metadata": {},
   "outputs": [],
   "source": []
  }
 ],
 "metadata": {
  "kernelspec": {
   "display_name": "Python 3",
   "language": "python",
   "name": "python3"
  },
  "language_info": {
   "codemirror_mode": {
    "name": "ipython",
    "version": 3
   },
   "file_extension": ".py",
   "mimetype": "text/x-python",
   "name": "python",
   "nbconvert_exporter": "python",
   "pygments_lexer": "ipython3",
   "version": "3.6.7"
  }
 },
 "nbformat": 4,
 "nbformat_minor": 2
}
