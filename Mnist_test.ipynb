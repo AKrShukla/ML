{
 "cells": [
  {
   "cell_type": "markdown",
   "metadata": {},
   "source": [
    "# Keras"
   ]
  },
  {
   "cell_type": "code",
   "execution_count": 1,
   "metadata": {},
   "outputs": [
    {
     "name": "stderr",
     "output_type": "stream",
     "text": [
      "Using TensorFlow backend.\n"
     ]
    }
   ],
   "source": [
    "from keras.models import Sequential\n",
    "from keras.layers import Dense\n",
    "\n",
    "from keras.optimizers import Adam\n",
    "from keras.losses import categorical_crossentropy\n",
    "\n",
    "\n",
    "import numpy as np\n",
    "import matplotlib.pyplot as plt\n",
    "from sklearn.datasets import make_blobs\n",
    "from sklearn.model_selection import train_test_split\n",
    "from sklearn.preprocessing import OneHotEncoder"
   ]
  },
  {
   "cell_type": "code",
   "execution_count": 78,
   "metadata": {},
   "outputs": [],
   "source": [
    "import pandas as pd\n",
    "from PIL import Image\n",
    "import PIL.ImageOps"
   ]
  },
  {
   "cell_type": "code",
   "execution_count": 3,
   "metadata": {},
   "outputs": [],
   "source": [
    "\n",
    "data = pd.read_csv(\"mnist_train_small.csv\")"
   ]
  },
  {
   "cell_type": "code",
   "execution_count": 4,
   "metadata": {},
   "outputs": [],
   "source": [
    "X = data.values[:,2:]"
   ]
  },
  {
   "cell_type": "code",
   "execution_count": 5,
   "metadata": {},
   "outputs": [],
   "source": [
    "y = data.values[:,1]"
   ]
  },
  {
   "cell_type": "code",
   "execution_count": 6,
   "metadata": {},
   "outputs": [],
   "source": [
    "ohe = OneHotEncoder(categories=\"auto\")"
   ]
  },
  {
   "cell_type": "code",
   "execution_count": 53,
   "metadata": {},
   "outputs": [
    {
     "data": {
      "text/plain": [
       "matrix([[1., 0., 0., 0., 0., 0., 0., 0., 0., 0.]])"
      ]
     },
     "execution_count": 53,
     "metadata": {},
     "output_type": "execute_result"
    }
   ],
   "source": [
    "y_hot = ohe.fit_transform(y.reshape(-1,1)).todense()\n",
    "y_hot[0]"
   ]
  },
  {
   "cell_type": "code",
   "execution_count": 8,
   "metadata": {},
   "outputs": [],
   "source": [
    "X_train, X_test, y_train, y_test = train_test_split(\n",
    "...     X, y_hot, test_size=0.33, random_state=42)"
   ]
  },
  {
   "cell_type": "code",
   "execution_count": 89,
   "metadata": {},
   "outputs": [],
   "source": [
    "layer_1 = Dense(28, activation=\"relu\", input_shape=(784,))\n",
    "layer_2 = Dense(21, activation=\"relu\")\n",
    "layer_3 = Dense(14, activation=\"relu\")\n",
    "layer_4 = Dense(10, activation=\"softmax\")"
   ]
  },
  {
   "cell_type": "code",
   "execution_count": 90,
   "metadata": {},
   "outputs": [
    {
     "name": "stdout",
     "output_type": "stream",
     "text": [
      "_________________________________________________________________\n",
      "Layer (type)                 Output Shape              Param #   \n",
      "=================================================================\n",
      "dense_9 (Dense)              (None, 28)                21980     \n",
      "_________________________________________________________________\n",
      "dense_10 (Dense)             (None, 21)                609       \n",
      "_________________________________________________________________\n",
      "dense_11 (Dense)             (None, 14)                308       \n",
      "_________________________________________________________________\n",
      "dense_12 (Dense)             (None, 10)                150       \n",
      "=================================================================\n",
      "Total params: 23,047\n",
      "Trainable params: 23,047\n",
      "Non-trainable params: 0\n",
      "_________________________________________________________________\n"
     ]
    }
   ],
   "source": [
    "model = Sequential()\n",
    "model.add(layer_1)\n",
    "model.add(layer_2)\n",
    "model.add(layer_3)\n",
    "model.add(layer_4)\n",
    "model.summary()"
   ]
  },
  {
   "cell_type": "code",
   "execution_count": 91,
   "metadata": {},
   "outputs": [],
   "source": [
    "model.compile(optimizer=\"adam\", loss=\"categorical_crossentropy\", metrics=[\"accuracy\"])"
   ]
  },
  {
   "cell_type": "code",
   "execution_count": 92,
   "metadata": {
    "scrolled": true
   },
   "outputs": [
    {
     "name": "stdout",
     "output_type": "stream",
     "text": [
      "Epoch 1/50\n",
      "5360/5360 [==============================] - 4s 752us/step - loss: 11.2392 - acc: 0.2172\n",
      "Epoch 2/50\n",
      "5360/5360 [==============================] - 1s 103us/step - loss: 7.2218 - acc: 0.3787\n",
      "Epoch 3/50\n",
      "5360/5360 [==============================] - 0s 63us/step - loss: 3.6049 - acc: 0.4084\n",
      "Epoch 4/50\n",
      "5360/5360 [==============================] - 0s 38us/step - loss: 1.9365 - acc: 0.4507\n",
      "Epoch 5/50\n",
      "5360/5360 [==============================] - 0s 40us/step - loss: 1.4361 - acc: 0.5670\n",
      "Epoch 6/50\n",
      "5360/5360 [==============================] - 0s 38us/step - loss: 1.1813 - acc: 0.6455\n",
      "Epoch 7/50\n",
      "5360/5360 [==============================] - 0s 36us/step - loss: 1.0065 - acc: 0.7034\n",
      "Epoch 8/50\n",
      "5360/5360 [==============================] - 0s 38us/step - loss: 0.8894 - acc: 0.7287\n",
      "Epoch 9/50\n",
      "5360/5360 [==============================] - 0s 52us/step - loss: 0.8148 - acc: 0.7513\n",
      "Epoch 10/50\n",
      "5360/5360 [==============================] - 0s 41us/step - loss: 0.7395 - acc: 0.7701\n",
      "Epoch 11/50\n",
      "5360/5360 [==============================] - 0s 44us/step - loss: 0.6730 - acc: 0.7965\n",
      "Epoch 12/50\n",
      "5360/5360 [==============================] - 0s 51us/step - loss: 0.6199 - acc: 0.8131\n",
      "Epoch 13/50\n",
      "5360/5360 [==============================] - 0s 40us/step - loss: 0.5733 - acc: 0.8334\n",
      "Epoch 14/50\n",
      "5360/5360 [==============================] - 0s 42us/step - loss: 0.5251 - acc: 0.8472\n",
      "Epoch 15/50\n",
      "5360/5360 [==============================] - 0s 43us/step - loss: 0.4892 - acc: 0.8614\n",
      "Epoch 16/50\n",
      "5360/5360 [==============================] - 0s 43us/step - loss: 0.4364 - acc: 0.8720\n",
      "Epoch 17/50\n",
      "5360/5360 [==============================] - 0s 41us/step - loss: 0.4189 - acc: 0.8754\n",
      "Epoch 18/50\n",
      "5360/5360 [==============================] - 0s 39us/step - loss: 0.3874 - acc: 0.8869\n",
      "Epoch 19/50\n",
      "5360/5360 [==============================] - 0s 39us/step - loss: 0.3628 - acc: 0.8940\n",
      "Epoch 20/50\n",
      "5360/5360 [==============================] - 0s 36us/step - loss: 0.3434 - acc: 0.8979\n",
      "Epoch 21/50\n",
      "5360/5360 [==============================] - 0s 38us/step - loss: 0.3319 - acc: 0.9019\n",
      "Epoch 22/50\n",
      "5360/5360 [==============================] - 0s 45us/step - loss: 0.3128 - acc: 0.9112\n",
      "Epoch 23/50\n",
      "5360/5360 [==============================] - 0s 45us/step - loss: 0.2955 - acc: 0.9140\n",
      "Epoch 24/50\n",
      "5360/5360 [==============================] - 0s 45us/step - loss: 0.2834 - acc: 0.9164\n",
      "Epoch 25/50\n",
      "5360/5360 [==============================] - 0s 38us/step - loss: 0.2691 - acc: 0.9213\n",
      "Epoch 26/50\n",
      "5360/5360 [==============================] - 0s 39us/step - loss: 0.2613 - acc: 0.9235\n",
      "Epoch 27/50\n",
      "5360/5360 [==============================] - 0s 44us/step - loss: 0.2503 - acc: 0.9259\n",
      "Epoch 28/50\n",
      "5360/5360 [==============================] - 0s 36us/step - loss: 0.2406 - acc: 0.9304\n",
      "Epoch 29/50\n",
      "5360/5360 [==============================] - 0s 56us/step - loss: 0.2300 - acc: 0.9336\n",
      "Epoch 30/50\n",
      "5360/5360 [==============================] - 0s 58us/step - loss: 0.2228 - acc: 0.9345\n",
      "Epoch 31/50\n",
      "5360/5360 [==============================] - 0s 49us/step - loss: 0.2113 - acc: 0.9418\n",
      "Epoch 32/50\n",
      "5360/5360 [==============================] - 0s 40us/step - loss: 0.2025 - acc: 0.9433\n",
      "Epoch 33/50\n",
      "5360/5360 [==============================] - 0s 42us/step - loss: 0.2051 - acc: 0.9409\n",
      "Epoch 34/50\n",
      "5360/5360 [==============================] - 0s 54us/step - loss: 0.1946 - acc: 0.9433\n",
      "Epoch 35/50\n",
      "5360/5360 [==============================] - 0s 49us/step - loss: 0.1876 - acc: 0.9476\n",
      "Epoch 36/50\n",
      "5360/5360 [==============================] - 0s 33us/step - loss: 0.1803 - acc: 0.9513\n",
      "Epoch 37/50\n",
      "5360/5360 [==============================] - 0s 33us/step - loss: 0.1744 - acc: 0.9539\n",
      "Epoch 38/50\n",
      "5360/5360 [==============================] - 0s 35us/step - loss: 0.1695 - acc: 0.9549\n",
      "Epoch 39/50\n",
      "5360/5360 [==============================] - 0s 28us/step - loss: 0.1664 - acc: 0.9575\n",
      "Epoch 40/50\n",
      "5360/5360 [==============================] - 0s 25us/step - loss: 0.1542 - acc: 0.9606\n",
      "Epoch 41/50\n",
      "5360/5360 [==============================] - 0s 35us/step - loss: 0.1515 - acc: 0.9618\n",
      "Epoch 42/50\n",
      "5360/5360 [==============================] - 0s 30us/step - loss: 0.1525 - acc: 0.9627\n",
      "Epoch 43/50\n",
      "5360/5360 [==============================] - 0s 27us/step - loss: 0.1438 - acc: 0.9670\n",
      "Epoch 44/50\n",
      "5360/5360 [==============================] - 0s 24us/step - loss: 0.1363 - acc: 0.9685\n",
      "Epoch 45/50\n",
      "5360/5360 [==============================] - 0s 29us/step - loss: 0.1413 - acc: 0.9677\n",
      "Epoch 46/50\n",
      "5360/5360 [==============================] - 0s 30us/step - loss: 0.1339 - acc: 0.9698\n",
      "Epoch 47/50\n",
      "5360/5360 [==============================] - 0s 52us/step - loss: 0.1308 - acc: 0.9711\n",
      "Epoch 48/50\n",
      "5360/5360 [==============================] - 0s 34us/step - loss: 0.1362 - acc: 0.9655\n",
      "Epoch 49/50\n",
      "5360/5360 [==============================] - 0s 28us/step - loss: 0.1398 - acc: 0.9672\n",
      "Epoch 50/50\n",
      "5360/5360 [==============================] - 0s 45us/step - loss: 0.1325 - acc: 0.9694\n"
     ]
    },
    {
     "data": {
      "text/plain": [
       "<keras.callbacks.History at 0x7f87f263fb70>"
      ]
     },
     "execution_count": 92,
     "metadata": {},
     "output_type": "execute_result"
    }
   ],
   "source": [
    "model.fit(X_train, y_train, epochs=50, batch_size=200)"
   ]
  },
  {
   "cell_type": "code",
   "execution_count": 93,
   "metadata": {},
   "outputs": [
    {
     "name": "stdout",
     "output_type": "stream",
     "text": [
      "2640/2640 [==============================] - 0s 82us/step\n"
     ]
    },
    {
     "data": {
      "text/plain": [
       "[0.8519411658501309, 0.8731060606060606]"
      ]
     },
     "execution_count": 93,
     "metadata": {},
     "output_type": "execute_result"
    }
   ],
   "source": [
    "model.evaluate(X_test, y_test)"
   ]
  },
  {
   "cell_type": "code",
   "execution_count": 94,
   "metadata": {},
   "outputs": [
    {
     "data": {
      "text/plain": [
       "<matplotlib.image.AxesImage at 0x7f87f21c6c18>"
      ]
     },
     "execution_count": 94,
     "metadata": {},
     "output_type": "execute_result"
    },
    {
     "data": {
      "image/png": "[encoded data removed]",
      "text/plain": [
       "<Figure size 432x288 with 1 Axes>"
      ]
     },
     "metadata": {},
     "output_type": "display_data"
    }
   ],
   "source": [
    "from PIL import Image\n",
    "import PIL.ImageOps\n",
    "im = Image.open(\"nums/one.jpeg\")\n",
    "im = im.resize((28, 28), Image.ANTIALIAS)\n",
    "im = PIL.ImageOps.invert(im)\n",
    "np_im = np.array(im.convert('L'))\n",
    "plt.imshow(np_im,cmap=\"gray\")"
   ]
  },
  {
   "cell_type": "code",
   "execution_count": null,
   "metadata": {},
   "outputs": [],
   "source": []
  },
  {
   "cell_type": "code",
   "execution_count": 95,
   "metadata": {},
   "outputs": [
    {
     "data": {
      "text/plain": [
       "<matplotlib.image.AxesImage at 0x7f87f21a8240>"
      ]
     },
     "execution_count": 95,
     "metadata": {},
     "output_type": "execute_result"
    },
    {
     "data": {
      "image/png": "[encoded data removed]",
      "text/plain": [
       "<Figure size 432x288 with 1 Axes>"
      ]
     },
     "metadata": {},
     "output_type": "display_data"
    }
   ],
   "source": [
    "plt.imshow(im.convert(\"L\"),cmap=\"gray\")"
   ]
  },
  {
   "cell_type": "code",
   "execution_count": 96,
   "metadata": {},
   "outputs": [
    {
     "data": {
      "text/plain": [
       "(784,)"
      ]
     },
     "execution_count": 96,
     "metadata": {},
     "output_type": "execute_result"
    }
   ],
   "source": [
    "np_im = np_im.flatten()\n",
    "np_im.shape"
   ]
  },
  {
   "cell_type": "code",
   "execution_count": 97,
   "metadata": {},
   "outputs": [
    {
     "name": "stdout",
     "output_type": "stream",
     "text": [
      "\r",
      "1/1 [==============================] - 0s 789us/step\n"
     ]
    },
    {
     "data": {
      "text/plain": [
       "[16.11809539794922, 0.0]"
      ]
     },
     "execution_count": 97,
     "metadata": {},
     "output_type": "execute_result"
    }
   ],
   "source": [
    "model.evaluate(np.array([np_im]), np.array([[1., 0., 0., 0., 0., 0., 0., 0., 0., 0.]]))"
   ]
  },
  {
   "cell_type": "code",
   "execution_count": 98,
   "metadata": {},
   "outputs": [
    {
     "ename": "ValueError",
     "evalue": "If steps is set, the `batch_size` must be None.",
     "output_type": "error",
     "traceback": [
      "\u001b[0;31m---------------------------------------------------------------------------\u001b[0m",
      "\u001b[0;31mValueError\u001b[0m                                Traceback (most recent call last)",
      "\u001b[0;32m<ipython-input-98-fc3927c89ba6>\u001b[0m in \u001b[0;36m<module>\u001b[0;34m()\u001b[0m\n\u001b[0;32m----> 1\u001b[0;31m \u001b[0mmodel\u001b[0m\u001b[0;34m.\u001b[0m\u001b[0mpredict\u001b[0m\u001b[0;34m(\u001b[0m\u001b[0mnp\u001b[0m\u001b[0;34m.\u001b[0m\u001b[0marray\u001b[0m\u001b[0;34m(\u001b[0m\u001b[0;34m[\u001b[0m\u001b[0mnp_im\u001b[0m\u001b[0;34m]\u001b[0m\u001b[0;34m)\u001b[0m\u001b[0;34m,\u001b[0m \u001b[0mnp\u001b[0m\u001b[0;34m.\u001b[0m\u001b[0marray\u001b[0m\u001b[0;34m(\u001b[0m\u001b[0;34m[\u001b[0m\u001b[0;34m[\u001b[0m\u001b[0;36m1.\u001b[0m\u001b[0;34m,\u001b[0m \u001b[0;36m0.\u001b[0m\u001b[0;34m,\u001b[0m \u001b[0;36m0.\u001b[0m\u001b[0;34m,\u001b[0m \u001b[0;36m0.\u001b[0m\u001b[0;34m,\u001b[0m \u001b[0;36m0.\u001b[0m\u001b[0;34m,\u001b[0m \u001b[0;36m0.\u001b[0m\u001b[0;34m,\u001b[0m \u001b[0;36m0.\u001b[0m\u001b[0;34m,\u001b[0m \u001b[0;36m0.\u001b[0m\u001b[0;34m,\u001b[0m \u001b[0;36m0.\u001b[0m\u001b[0;34m,\u001b[0m \u001b[0;36m0.\u001b[0m\u001b[0;34m]\u001b[0m\u001b[0;34m]\u001b[0m\u001b[0;34m)\u001b[0m\u001b[0;34m,\u001b[0m \u001b[0msteps\u001b[0m\u001b[0;34m=\u001b[0m\u001b[0;36m1\u001b[0m\u001b[0;34m)\u001b[0m\u001b[0;34m\u001b[0m\u001b[0;34m\u001b[0m\u001b[0m\n\u001b[0m",
      "\u001b[0;32m/home/anurag/.local/lib/python3.6/site-packages/keras/engine/training.py\u001b[0m in \u001b[0;36mpredict\u001b[0;34m(self, x, batch_size, verbose, steps)\u001b[0m\n\u001b[1;32m   1167\u001b[0m                                             \u001b[0mbatch_size\u001b[0m\u001b[0;34m=\u001b[0m\u001b[0mbatch_size\u001b[0m\u001b[0;34m,\u001b[0m\u001b[0;34m\u001b[0m\u001b[0;34m\u001b[0m\u001b[0m\n\u001b[1;32m   1168\u001b[0m                                             \u001b[0mverbose\u001b[0m\u001b[0;34m=\u001b[0m\u001b[0mverbose\u001b[0m\u001b[0;34m,\u001b[0m\u001b[0;34m\u001b[0m\u001b[0;34m\u001b[0m\u001b[0m\n\u001b[0;32m-> 1169\u001b[0;31m                                             steps=steps)\n\u001b[0m\u001b[1;32m   1170\u001b[0m \u001b[0;34m\u001b[0m\u001b[0m\n\u001b[1;32m   1171\u001b[0m     def train_on_batch(self, x, y,\n",
      "\u001b[0;32m/home/anurag/.local/lib/python3.6/site-packages/keras/engine/training_arrays.py\u001b[0m in \u001b[0;36mpredict_loop\u001b[0;34m(model, f, ins, batch_size, verbose, steps)\u001b[0m\n\u001b[1;32m    243\u001b[0m                                     \u001b[0mbatch_size\u001b[0m\u001b[0;34m=\u001b[0m\u001b[0mbatch_size\u001b[0m\u001b[0;34m,\u001b[0m\u001b[0;34m\u001b[0m\u001b[0;34m\u001b[0m\u001b[0m\n\u001b[1;32m    244\u001b[0m                                     \u001b[0msteps\u001b[0m\u001b[0;34m=\u001b[0m\u001b[0msteps\u001b[0m\u001b[0;34m,\u001b[0m\u001b[0;34m\u001b[0m\u001b[0;34m\u001b[0m\u001b[0m\n\u001b[0;32m--> 245\u001b[0;31m                                     steps_name='steps')\n\u001b[0m\u001b[1;32m    246\u001b[0m     \u001b[0;32mif\u001b[0m \u001b[0mverbose\u001b[0m \u001b[0;34m==\u001b[0m \u001b[0;36m1\u001b[0m\u001b[0;34m:\u001b[0m\u001b[0;34m\u001b[0m\u001b[0;34m\u001b[0m\u001b[0m\n\u001b[1;32m    247\u001b[0m         \u001b[0;32mif\u001b[0m \u001b[0msteps\u001b[0m \u001b[0;32mis\u001b[0m \u001b[0;32mnot\u001b[0m \u001b[0;32mNone\u001b[0m\u001b[0;34m:\u001b[0m\u001b[0;34m\u001b[0m\u001b[0;34m\u001b[0m\u001b[0m\n",
      "\u001b[0;32m/home/anurag/.local/lib/python3.6/site-packages/keras/engine/training_utils.py\u001b[0m in \u001b[0;36mcheck_num_samples\u001b[0;34m(ins, batch_size, steps, steps_name)\u001b[0m\n\u001b[1;32m    561\u001b[0m     \u001b[0;32mif\u001b[0m \u001b[0msteps\u001b[0m \u001b[0;32mis\u001b[0m \u001b[0;32mnot\u001b[0m \u001b[0;32mNone\u001b[0m \u001b[0;32mand\u001b[0m \u001b[0mbatch_size\u001b[0m \u001b[0;32mis\u001b[0m \u001b[0;32mnot\u001b[0m \u001b[0;32mNone\u001b[0m\u001b[0;34m:\u001b[0m\u001b[0;34m\u001b[0m\u001b[0;34m\u001b[0m\u001b[0m\n\u001b[1;32m    562\u001b[0m         raise ValueError(\n\u001b[0;32m--> 563\u001b[0;31m             'If ' + steps_name + ' is set, the `batch_size` must be None.')\n\u001b[0m\u001b[1;32m    564\u001b[0m \u001b[0;34m\u001b[0m\u001b[0m\n\u001b[1;32m    565\u001b[0m     \u001b[0;32mif\u001b[0m \u001b[0;32mnot\u001b[0m \u001b[0mins\u001b[0m \u001b[0;32mor\u001b[0m \u001b[0many\u001b[0m\u001b[0;34m(\u001b[0m\u001b[0mK\u001b[0m\u001b[0;34m.\u001b[0m\u001b[0mis_tensor\u001b[0m\u001b[0;34m(\u001b[0m\u001b[0mx\u001b[0m\u001b[0;34m)\u001b[0m \u001b[0;32mfor\u001b[0m \u001b[0mx\u001b[0m \u001b[0;32min\u001b[0m \u001b[0mins\u001b[0m\u001b[0;34m)\u001b[0m\u001b[0;34m:\u001b[0m\u001b[0;34m\u001b[0m\u001b[0;34m\u001b[0m\u001b[0m\n",
      "\u001b[0;31mValueError\u001b[0m: If steps is set, the `batch_size` must be None."
     ]
    }
   ],
   "source": [
    "model.predict(np.array([np_im]), np.array([[1., 0., 0., 0., 0., 0., 0., 0., 0., 0.]]), steps=1)"
   ]
  },
  {
   "cell_type": "code",
   "execution_count": 102,
   "metadata": {},
   "outputs": [
    {
     "data": {
      "text/plain": [
       "array([[4.1690567e-09, 1.6957789e-09, 9.2784881e-05, 4.1810476e-06,\n",
       "        5.7986373e-24, 2.7205232e-07, 5.0365972e-13, 9.6810915e-10,\n",
       "        9.9990273e-01, 8.5772216e-09]], dtype=float32)"
      ]
     },
     "execution_count": 102,
     "metadata": {},
     "output_type": "execute_result"
    }
   ],
   "source": [
    "(model.predict(np_im.flatten().reshape(1,-1)))"
   ]
  },
  {
   "cell_type": "code",
   "execution_count": 15,
   "metadata": {},
   "outputs": [
    {
     "data": {
      "text/plain": [
       "[array([0, 4, 5])]"
      ]
     },
     "execution_count": 15,
     "metadata": {},
     "output_type": "execute_result"
    }
   ],
   "source": [
    "ohe.categories_"
   ]
  },
  {
   "cell_type": "code",
   "execution_count": 18,
   "metadata": {},
   "outputs": [
    {
     "data": {
      "text/plain": [
       "matrix([[1., 0., 0.],\n",
       "        [0., 1., 0.],\n",
       "        [0., 0., 1.],\n",
       "        [1., 0., 0.],\n",
       "        [0., 1., 0.],\n",
       "        [0., 1., 0.],\n",
       "        [1., 0., 0.],\n",
       "        [1., 0., 0.]])"
      ]
     },
     "execution_count": 18,
     "metadata": {},
     "output_type": "execute_result"
    }
   ],
   "source": [
    "ohe.transform(data.reshape(-1,1)).todense()"
   ]
  },
  {
   "cell_type": "code",
   "execution_count": null,
   "metadata": {},
   "outputs": [],
   "source": []
  }
 ],
 "metadata": {
  "kernelspec": {
   "display_name": "Python 3",
   "language": "python",
   "name": "python3"
  },
  "language_info": {
   "codemirror_mode": {
    "name": "ipython",
    "version": 3
   },
   "file_extension": ".py",
   "mimetype": "text/x-python",
   "name": "python",
   "nbconvert_exporter": "python",
   "pygments_lexer": "ipython3",
   "version": "3.6.8"
  }
 },
 "nbformat": 4,
 "nbformat_minor": 2
}
